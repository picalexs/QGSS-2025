{
 "cells": [
  {
   "cell_type": "markdown",
   "id": "d76b4b60-19a6-486a-af14-db875411b6db",
   "metadata": {},
   "source": [
    "# Lab 1: 'Singularity Machine Learning - Classification' by Multiverse Computing\n",
    "\n",
    "Welcome to this hands-on lab exploring the power of the 'Singularity Machine Learning - Classification' function. In this session, you'll walk through a real-world machine learning task—grid stability classification—leveraging both classical and quantum-enhanced techniques. You'll gain experience using a hybrid workflow that seamlessly integrates scikit-learn preprocessing with quantum ensemble classifiers hosted on IBM's serverless infrastructure. Whether running simulations or real quantum hardware, this lab gives you a practical glimpse into how scalable quantum machine learning can accelerate real-world applications. Beyond just building models, the goal of this notebook is to familiarize you with the capabilities of the QuantumEnhancedEnsembleClassifier and help you develop intuition around its features and advantages. You'll begin by establishing a classical benchmark using AdaBoost, then proceed through three exercises that demonstrate key functionalities: running the quantum classifier with a simulated quantum backend, simulating a heterogeneous ensemble with diverse learners, and finally executing the classifier on real quantum hardware. Each step is designed to build your confidence with the tool and deepen your understanding of where and how quantum optimization can offer meaningful benefits. Let’s dive in!"
   ]
  },
  {
   "cell_type": "markdown",
   "id": "558ef023-4465-4b0e-b1b7-dd185e6aff9b",
   "metadata": {},
   "source": [
    "# Table of Contents\n",
    "\n",
    "* [Setup](#setup)\n",
    "* [Imports](#imports)\n",
    "* [Initialize the 'Singularity Machine Learning - Classification' Function](#initialize-the-singularity-machine-learning---classification-function)\n",
    "    * [Set Static Variables and IBM Token](#set-static-variables-and-ibm-token)\n",
    "    * [Load the 'Singularity Machine Learning - Classification' Function and Client](#load-the-singularity-machine-learning---classification-function-and-client)\n",
    "* [Define Helper Functions](#define-helper-functions)\n",
    "* [Load the Dataset](#load-the-dataset)\n",
    "* [AdaBoostClassifier](#adaboostclassifier)\n",
    "* [QuantumEnhancedEnsembleClassifier](#quantumenhancedensembleclassifier)\n",
    "    * [Introduction](#introduction)\n",
    "  * [Understanding the Optimization Parameters](#understanding-the-optimization-parameters)\n",
    "* [Part 1: Simulated Quantum Classifier](#part-1-simulated-quantum-classifier)\n",
    "    * [Execute the Job](#execute-the-job)\n",
    "    * [Monitor Job Execution](#monitor-job-execution)\n",
    "    * [Retrieve and Analyze the Results](#retrieve-and-analyze-the-results)\n",
    "* [Part 2: Simulated Heterogenous Quantum Classifier](#part-2-simulated-heterogenous-quantum-classifier)\n",
    "    * [Execute the Job](#execute-the-job)\n",
    "    * [Monitor Job Execution](#monitor-job-execution)\n",
    "    * [Retrieve and Analyze the Results](#retrieve-and-analyze-the-results)\n",
    "* [Part 3: Quantum Classifier on Real Quantum Hardware](#part-3-quantum-classifier-on-real-quantum-hardware)\n",
    "    * [Execute the Job](#execute-the-job)\n",
    "    * [Monitor Job Execution](#monitor-job-execution)\n",
    "    * [Retrieve and Analyze the Results](#retrieve-and-analyze-the-results)\n",
    "    * [Visualization: Classical vs Quantum F1 Score](#visualization-classical-vs-quantum-f1-score)\n",
    "* [Clean up Shared Directory](#clean-up-shared-directory)\n",
    "* [Scaling Benefits and Enhancements](#scaling-benefits-and-enhancements)\n",
    "* [References](#references)\n",
    "* [Additional information](#additional-information)\n",
    "* [Qiskit packages versions](#qiskit-packages-versions)\n"
   ]
  },
  {
   "cell_type": "markdown",
   "id": "8384bcd7-8360-45e7-a237-25c2e643c962",
   "metadata": {},
   "source": [
    "# Setup"
   ]
  },
  {
   "cell_type": "code",
   "execution_count": 1,
   "id": "e4bbb589-d6aa-4131-85b3-fc9b9147bac1",
   "metadata": {
    "scrolled": true
   },
   "outputs": [
    {
     "name": "stdout",
     "output_type": "stream",
     "text": [
      "Defaulting to user installation because normal site-packages is not writeable\n",
      "Collecting qc-grader[jupyter,qiskit]@ git+https://github.com/qiskit-community/Quantum-Challenge-Grader.git\n",
      "  Cloning https://github.com/qiskit-community/Quantum-Challenge-Grader.git to /tmp/pip-install-s3w0z1cm/qc-grader_a5cada56baa740028f66c6a75d89eb46\n",
      "  Running command git clone --filter=blob:none --quiet https://github.com/qiskit-community/Quantum-Challenge-Grader.git /tmp/pip-install-s3w0z1cm/qc-grader_a5cada56baa740028f66c6a75d89eb46\n",
      "  Resolved https://github.com/qiskit-community/Quantum-Challenge-Grader.git to commit 1d7a6915623b0cfeac4c114391c279e9d98eb7f9\n",
      "  Preparing metadata (setup.py) ... \u001b[?25ldone\n",
      "\u001b[?25hRequirement already satisfied: graphviz in /home/picalexs/.local/lib/python3.10/site-packages (from qc-grader[jupyter,qiskit]@ git+https://github.com/qiskit-community/Quantum-Challenge-Grader.git) (0.21)\n",
      "Requirement already satisfied: ibm-platform-services==0.66.1 in /home/picalexs/.local/lib/python3.10/site-packages (from qc-grader[jupyter,qiskit]@ git+https://github.com/qiskit-community/Quantum-Challenge-Grader.git) (0.66.1)\n",
      "Requirement already satisfied: ipycytoscape in /home/picalexs/.local/lib/python3.10/site-packages (from qc-grader[jupyter,qiskit]@ git+https://github.com/qiskit-community/Quantum-Challenge-Grader.git) (1.3.3)\n",
      "Requirement already satisfied: jsonpickle==3.0.3 in /home/picalexs/.local/lib/python3.10/site-packages (from qc-grader[jupyter,qiskit]@ git+https://github.com/qiskit-community/Quantum-Challenge-Grader.git) (3.0.3)\n",
      "Requirement already satisfied: networkx==3.2.1 in /home/picalexs/.local/lib/python3.10/site-packages (from qc-grader[jupyter,qiskit]@ git+https://github.com/qiskit-community/Quantum-Challenge-Grader.git) (3.2.1)\n",
      "Requirement already satisfied: plotly in /home/picalexs/.local/lib/python3.10/site-packages (from qc-grader[jupyter,qiskit]@ git+https://github.com/qiskit-community/Quantum-Challenge-Grader.git) (6.2.0)\n",
      "Requirement already satisfied: requests==2.32.3 in /home/picalexs/.local/lib/python3.10/site-packages (from qc-grader[jupyter,qiskit]@ git+https://github.com/qiskit-community/Quantum-Challenge-Grader.git) (2.32.3)\n",
      "Requirement already satisfied: typeguard in /home/picalexs/.local/lib/python3.10/site-packages (from qc-grader[jupyter,qiskit]@ git+https://github.com/qiskit-community/Quantum-Challenge-Grader.git) (4.4.4)\n",
      "Requirement already satisfied: qiskit-aer in /home/picalexs/.local/lib/python3.10/site-packages (from qc-grader[jupyter,qiskit]@ git+https://github.com/qiskit-community/Quantum-Challenge-Grader.git) (0.17.1)\n",
      "Requirement already satisfied: qiskit-ibm-runtime in /home/picalexs/.local/lib/python3.10/site-packages (from qc-grader[jupyter,qiskit]@ git+https://github.com/qiskit-community/Quantum-Challenge-Grader.git) (0.40.1)\n",
      "Requirement already satisfied: qiskit[visualization]~=2.1.0 in /home/picalexs/.local/lib/python3.10/site-packages (from qc-grader[jupyter,qiskit]@ git+https://github.com/qiskit-community/Quantum-Challenge-Grader.git) (2.1.1)\n",
      "Requirement already satisfied: qiskit_serverless in /home/picalexs/.local/lib/python3.10/site-packages (from qc-grader[jupyter,qiskit]@ git+https://github.com/qiskit-community/Quantum-Challenge-Grader.git) (0.25.1)\n",
      "Requirement already satisfied: ipykernel in /home/picalexs/.local/lib/python3.10/site-packages (from qc-grader[jupyter,qiskit]@ git+https://github.com/qiskit-community/Quantum-Challenge-Grader.git) (6.29.5)\n",
      "Requirement already satisfied: jupyterlab in /home/picalexs/.local/lib/python3.10/site-packages (from qc-grader[jupyter,qiskit]@ git+https://github.com/qiskit-community/Quantum-Challenge-Grader.git) (4.4.4)\n",
      "Requirement already satisfied: ibm_cloud_sdk_core<4.0.0,>=3.24.1 in /home/picalexs/.local/lib/python3.10/site-packages (from ibm-platform-services==0.66.1->qc-grader[jupyter,qiskit]@ git+https://github.com/qiskit-community/Quantum-Challenge-Grader.git) (3.24.1)\n",
      "Requirement already satisfied: idna<4,>=2.5 in /usr/lib/python3/dist-packages (from requests==2.32.3->qc-grader[jupyter,qiskit]@ git+https://github.com/qiskit-community/Quantum-Challenge-Grader.git) (3.3)\n",
      "Requirement already satisfied: urllib3<3,>=1.21.1 in /home/picalexs/.local/lib/python3.10/site-packages (from requests==2.32.3->qc-grader[jupyter,qiskit]@ git+https://github.com/qiskit-community/Quantum-Challenge-Grader.git) (2.5.0)\n",
      "Requirement already satisfied: charset-normalizer<4,>=2 in /home/picalexs/.local/lib/python3.10/site-packages (from requests==2.32.3->qc-grader[jupyter,qiskit]@ git+https://github.com/qiskit-community/Quantum-Challenge-Grader.git) (3.4.2)\n",
      "Requirement already satisfied: certifi>=2017.4.17 in /home/picalexs/.local/lib/python3.10/site-packages (from requests==2.32.3->qc-grader[jupyter,qiskit]@ git+https://github.com/qiskit-community/Quantum-Challenge-Grader.git) (2024.7.4)\n",
      "Requirement already satisfied: stevedore>=3.0.0 in /home/picalexs/.local/lib/python3.10/site-packages (from qiskit[visualization]~=2.1.0->qc-grader[jupyter,qiskit]@ git+https://github.com/qiskit-community/Quantum-Challenge-Grader.git) (5.4.0)\n",
      "Requirement already satisfied: rustworkx>=0.15.0 in /home/picalexs/.local/lib/python3.10/site-packages (from qiskit[visualization]~=2.1.0->qc-grader[jupyter,qiskit]@ git+https://github.com/qiskit-community/Quantum-Challenge-Grader.git) (0.16.0)\n",
      "Requirement already satisfied: dill>=0.3 in /home/picalexs/.local/lib/python3.10/site-packages (from qiskit[visualization]~=2.1.0->qc-grader[jupyter,qiskit]@ git+https://github.com/qiskit-community/Quantum-Challenge-Grader.git) (0.3.9)\n",
      "Requirement already satisfied: typing-extensions in /home/picalexs/.local/lib/python3.10/site-packages (from qiskit[visualization]~=2.1.0->qc-grader[jupyter,qiskit]@ git+https://github.com/qiskit-community/Quantum-Challenge-Grader.git) (4.14.0)\n",
      "Requirement already satisfied: scipy>=1.5 in /home/picalexs/.local/lib/python3.10/site-packages (from qiskit[visualization]~=2.1.0->qc-grader[jupyter,qiskit]@ git+https://github.com/qiskit-community/Quantum-Challenge-Grader.git) (1.14.1)\n",
      "Requirement already satisfied: numpy<3,>=1.17 in /home/picalexs/.local/lib/python3.10/site-packages (from qiskit[visualization]~=2.1.0->qc-grader[jupyter,qiskit]@ git+https://github.com/qiskit-community/Quantum-Challenge-Grader.git) (2.2.0)\n",
      "Requirement already satisfied: Pillow>=4.2.1 in /usr/lib/python3/dist-packages (from qiskit[visualization]~=2.1.0->qc-grader[jupyter,qiskit]@ git+https://github.com/qiskit-community/Quantum-Challenge-Grader.git) (9.0.1)\n",
      "Requirement already satisfied: pylatexenc>=1.4 in /home/picalexs/.local/lib/python3.10/site-packages (from qiskit[visualization]~=2.1.0->qc-grader[jupyter,qiskit]@ git+https://github.com/qiskit-community/Quantum-Challenge-Grader.git) (2.10)\n",
      "Requirement already satisfied: sympy>=1.3 in /home/picalexs/.local/lib/python3.10/site-packages (from qiskit[visualization]~=2.1.0->qc-grader[jupyter,qiskit]@ git+https://github.com/qiskit-community/Quantum-Challenge-Grader.git) (1.13.3)\n",
      "Requirement already satisfied: seaborn>=0.9.0 in /home/picalexs/.local/lib/python3.10/site-packages (from qiskit[visualization]~=2.1.0->qc-grader[jupyter,qiskit]@ git+https://github.com/qiskit-community/Quantum-Challenge-Grader.git) (0.13.2)\n",
      "Requirement already satisfied: matplotlib>=3.3 in /home/picalexs/.local/lib/python3.10/site-packages (from qiskit[visualization]~=2.1.0->qc-grader[jupyter,qiskit]@ git+https://github.com/qiskit-community/Quantum-Challenge-Grader.git) (3.10.3)\n",
      "Requirement already satisfied: pydot in /home/picalexs/.local/lib/python3.10/site-packages (from qiskit[visualization]~=2.1.0->qc-grader[jupyter,qiskit]@ git+https://github.com/qiskit-community/Quantum-Challenge-Grader.git) (4.0.1)\n",
      "Requirement already satisfied: spectate>=1.0.0 in /home/picalexs/.local/lib/python3.10/site-packages (from ipycytoscape->qc-grader[jupyter,qiskit]@ git+https://github.com/qiskit-community/Quantum-Challenge-Grader.git) (1.0.1)\n",
      "Requirement already satisfied: ipywidgets>=7.6.0 in /home/picalexs/.local/lib/python3.10/site-packages (from ipycytoscape->qc-grader[jupyter,qiskit]@ git+https://github.com/qiskit-community/Quantum-Challenge-Grader.git) (8.1.7)\n",
      "Requirement already satisfied: jupyter-client>=6.1.12 in /home/picalexs/.local/lib/python3.10/site-packages (from ipykernel->qc-grader[jupyter,qiskit]@ git+https://github.com/qiskit-community/Quantum-Challenge-Grader.git) (8.6.3)\n",
      "Requirement already satisfied: ipython>=7.23.1 in /home/picalexs/.local/lib/python3.10/site-packages (from ipykernel->qc-grader[jupyter,qiskit]@ git+https://github.com/qiskit-community/Quantum-Challenge-Grader.git) (8.37.0)\n",
      "Requirement already satisfied: packaging in /home/picalexs/.local/lib/python3.10/site-packages (from ipykernel->qc-grader[jupyter,qiskit]@ git+https://github.com/qiskit-community/Quantum-Challenge-Grader.git) (25.0)\n",
      "Requirement already satisfied: jupyter-core!=5.0.*,>=4.12 in /home/picalexs/.local/lib/python3.10/site-packages (from ipykernel->qc-grader[jupyter,qiskit]@ git+https://github.com/qiskit-community/Quantum-Challenge-Grader.git) (5.8.1)\n",
      "Requirement already satisfied: tornado>=6.1 in /home/picalexs/.local/lib/python3.10/site-packages (from ipykernel->qc-grader[jupyter,qiskit]@ git+https://github.com/qiskit-community/Quantum-Challenge-Grader.git) (6.5.1)\n",
      "Requirement already satisfied: psutil in /usr/lib/python3/dist-packages (from ipykernel->qc-grader[jupyter,qiskit]@ git+https://github.com/qiskit-community/Quantum-Challenge-Grader.git) (5.9.0)\n",
      "Requirement already satisfied: debugpy>=1.6.5 in /home/picalexs/.local/lib/python3.10/site-packages (from ipykernel->qc-grader[jupyter,qiskit]@ git+https://github.com/qiskit-community/Quantum-Challenge-Grader.git) (1.8.14)\n",
      "Requirement already satisfied: nest-asyncio in /home/picalexs/.local/lib/python3.10/site-packages (from ipykernel->qc-grader[jupyter,qiskit]@ git+https://github.com/qiskit-community/Quantum-Challenge-Grader.git) (1.6.0)\n",
      "Requirement already satisfied: pyzmq>=24 in /home/picalexs/.local/lib/python3.10/site-packages (from ipykernel->qc-grader[jupyter,qiskit]@ git+https://github.com/qiskit-community/Quantum-Challenge-Grader.git) (27.0.0)\n",
      "Requirement already satisfied: comm>=0.1.1 in /home/picalexs/.local/lib/python3.10/site-packages (from ipykernel->qc-grader[jupyter,qiskit]@ git+https://github.com/qiskit-community/Quantum-Challenge-Grader.git) (0.2.2)\n",
      "Requirement already satisfied: matplotlib-inline>=0.1 in /home/picalexs/.local/lib/python3.10/site-packages (from ipykernel->qc-grader[jupyter,qiskit]@ git+https://github.com/qiskit-community/Quantum-Challenge-Grader.git) (0.1.7)\n",
      "Requirement already satisfied: traitlets>=5.4.0 in /home/picalexs/.local/lib/python3.10/site-packages (from ipykernel->qc-grader[jupyter,qiskit]@ git+https://github.com/qiskit-community/Quantum-Challenge-Grader.git) (5.14.3)\n",
      "Requirement already satisfied: jupyter-server<3,>=2.4.0 in /home/picalexs/.local/lib/python3.10/site-packages (from jupyterlab->qc-grader[jupyter,qiskit]@ git+https://github.com/qiskit-community/Quantum-Challenge-Grader.git) (2.16.0)\n",
      "Requirement already satisfied: notebook-shim>=0.2 in /home/picalexs/.local/lib/python3.10/site-packages (from jupyterlab->qc-grader[jupyter,qiskit]@ git+https://github.com/qiskit-community/Quantum-Challenge-Grader.git) (0.2.4)\n",
      "Requirement already satisfied: jupyterlab-server<3,>=2.27.1 in /home/picalexs/.local/lib/python3.10/site-packages (from jupyterlab->qc-grader[jupyter,qiskit]@ git+https://github.com/qiskit-community/Quantum-Challenge-Grader.git) (2.27.3)\n",
      "Requirement already satisfied: async-lru>=1.0.0 in /home/picalexs/.local/lib/python3.10/site-packages (from jupyterlab->qc-grader[jupyter,qiskit]@ git+https://github.com/qiskit-community/Quantum-Challenge-Grader.git) (2.0.5)\n",
      "Requirement already satisfied: setuptools>=41.1.0 in /usr/lib/python3/dist-packages (from jupyterlab->qc-grader[jupyter,qiskit]@ git+https://github.com/qiskit-community/Quantum-Challenge-Grader.git) (59.6.0)\n",
      "Requirement already satisfied: jupyter-lsp>=2.0.0 in /home/picalexs/.local/lib/python3.10/site-packages (from jupyterlab->qc-grader[jupyter,qiskit]@ git+https://github.com/qiskit-community/Quantum-Challenge-Grader.git) (2.2.5)\n",
      "Requirement already satisfied: jinja2>=3.0.3 in /home/picalexs/.local/lib/python3.10/site-packages (from jupyterlab->qc-grader[jupyter,qiskit]@ git+https://github.com/qiskit-community/Quantum-Challenge-Grader.git) (3.1.6)\n",
      "Requirement already satisfied: httpx>=0.25.0 in /home/picalexs/.local/lib/python3.10/site-packages (from jupyterlab->qc-grader[jupyter,qiskit]@ git+https://github.com/qiskit-community/Quantum-Challenge-Grader.git) (0.28.1)\n",
      "Requirement already satisfied: tomli>=1.2.2 in /home/picalexs/.local/lib/python3.10/site-packages (from jupyterlab->qc-grader[jupyter,qiskit]@ git+https://github.com/qiskit-community/Quantum-Challenge-Grader.git) (2.2.1)\n",
      "Requirement already satisfied: narwhals>=1.15.1 in /home/picalexs/.local/lib/python3.10/site-packages (from plotly->qc-grader[jupyter,qiskit]@ git+https://github.com/qiskit-community/Quantum-Challenge-Grader.git) (1.45.0)\n",
      "Requirement already satisfied: python-dateutil>=2.8.0 in /home/picalexs/.local/lib/python3.10/site-packages (from qiskit-aer->qc-grader[jupyter,qiskit]@ git+https://github.com/qiskit-community/Quantum-Challenge-Grader.git) (2.9.0.post0)\n",
      "Requirement already satisfied: requests-ntlm>=1.1.0 in /home/picalexs/.local/lib/python3.10/site-packages (from qiskit-ibm-runtime->qc-grader[jupyter,qiskit]@ git+https://github.com/qiskit-community/Quantum-Challenge-Grader.git) (1.3.0)\n",
      "Requirement already satisfied: pydantic>=2.5.0 in /home/picalexs/.local/lib/python3.10/site-packages (from qiskit-ibm-runtime->qc-grader[jupyter,qiskit]@ git+https://github.com/qiskit-community/Quantum-Challenge-Grader.git) (2.11.7)\n",
      "Requirement already satisfied: s3fs>=2023.6.0 in /home/picalexs/.local/lib/python3.10/site-packages (from qiskit_serverless->qc-grader[jupyter,qiskit]@ git+https://github.com/qiskit-community/Quantum-Challenge-Grader.git) (2025.7.0)\n",
      "Requirement already satisfied: importlib-metadata<9,>=5.2.0 in /home/picalexs/.local/lib/python3.10/site-packages (from qiskit_serverless->qc-grader[jupyter,qiskit]@ git+https://github.com/qiskit-community/Quantum-Challenge-Grader.git) (8.4.0)\n",
      "Requirement already satisfied: opentelemetry-instrumentation-requests>=0.40b0 in /home/picalexs/.local/lib/python3.10/site-packages (from qiskit_serverless->qc-grader[jupyter,qiskit]@ git+https://github.com/qiskit-community/Quantum-Challenge-Grader.git) (0.54b0)\n",
      "Requirement already satisfied: pyarrow<19,>=16.0.0 in /home/picalexs/.local/lib/python3.10/site-packages (from qiskit_serverless->qc-grader[jupyter,qiskit]@ git+https://github.com/qiskit-community/Quantum-Challenge-Grader.git) (18.1.0)\n",
      "Requirement already satisfied: zipp==3.19.1 in /home/picalexs/.local/lib/python3.10/site-packages (from qiskit_serverless->qc-grader[jupyter,qiskit]@ git+https://github.com/qiskit-community/Quantum-Challenge-Grader.git) (3.19.1)\n",
      "Requirement already satisfied: tqdm<5,>=4.66.3 in /home/picalexs/.local/lib/python3.10/site-packages (from qiskit_serverless->qc-grader[jupyter,qiskit]@ git+https://github.com/qiskit-community/Quantum-Challenge-Grader.git) (4.67.1)\n",
      "Requirement already satisfied: cloudpickle==2.2.1 in /home/picalexs/.local/lib/python3.10/site-packages (from qiskit_serverless->qc-grader[jupyter,qiskit]@ git+https://github.com/qiskit-community/Quantum-Challenge-Grader.git) (2.2.1)\n",
      "Requirement already satisfied: ray[default]<3,>=2.30 in /home/picalexs/.local/lib/python3.10/site-packages (from qiskit_serverless->qc-grader[jupyter,qiskit]@ git+https://github.com/qiskit-community/Quantum-Challenge-Grader.git) (2.48.0)\n",
      "Requirement already satisfied: aiohttp<4,>=3.10.0 in /home/picalexs/.local/lib/python3.10/site-packages (from qiskit_serverless->qc-grader[jupyter,qiskit]@ git+https://github.com/qiskit-community/Quantum-Challenge-Grader.git) (3.12.14)\n",
      "Requirement already satisfied: opentelemetry-api<1.33.1,>=1.18.0 in /home/picalexs/.local/lib/python3.10/site-packages (from qiskit_serverless->qc-grader[jupyter,qiskit]@ git+https://github.com/qiskit-community/Quantum-Challenge-Grader.git) (1.33.0)\n",
      "Requirement already satisfied: opentelemetry-exporter-otlp-proto-grpc<1.33.1,>=1.18.0 in /home/picalexs/.local/lib/python3.10/site-packages (from qiskit_serverless->qc-grader[jupyter,qiskit]@ git+https://github.com/qiskit-community/Quantum-Challenge-Grader.git) (1.33.0)\n",
      "Requirement already satisfied: opentelemetry-sdk<1.33.1,>=1.18.0 in /home/picalexs/.local/lib/python3.10/site-packages (from qiskit_serverless->qc-grader[jupyter,qiskit]@ git+https://github.com/qiskit-community/Quantum-Challenge-Grader.git) (1.33.0)\n",
      "Requirement already satisfied: async-timeout<6.0,>=4.0 in /usr/lib/python3/dist-packages (from aiohttp<4,>=3.10.0->qiskit_serverless->qc-grader[jupyter,qiskit]@ git+https://github.com/qiskit-community/Quantum-Challenge-Grader.git) (4.0.1)\n",
      "Requirement already satisfied: frozenlist>=1.1.1 in /home/picalexs/.local/lib/python3.10/site-packages (from aiohttp<4,>=3.10.0->qiskit_serverless->qc-grader[jupyter,qiskit]@ git+https://github.com/qiskit-community/Quantum-Challenge-Grader.git) (1.4.1)\n",
      "Requirement already satisfied: propcache>=0.2.0 in /home/picalexs/.local/lib/python3.10/site-packages (from aiohttp<4,>=3.10.0->qiskit_serverless->qc-grader[jupyter,qiskit]@ git+https://github.com/qiskit-community/Quantum-Challenge-Grader.git) (0.3.2)\n",
      "Requirement already satisfied: yarl<2.0,>=1.17.0 in /home/picalexs/.local/lib/python3.10/site-packages (from aiohttp<4,>=3.10.0->qiskit_serverless->qc-grader[jupyter,qiskit]@ git+https://github.com/qiskit-community/Quantum-Challenge-Grader.git) (1.20.1)\n",
      "Requirement already satisfied: aiohappyeyeballs>=2.5.0 in /home/picalexs/.local/lib/python3.10/site-packages (from aiohttp<4,>=3.10.0->qiskit_serverless->qc-grader[jupyter,qiskit]@ git+https://github.com/qiskit-community/Quantum-Challenge-Grader.git) (2.6.1)\n",
      "Requirement already satisfied: multidict<7.0,>=4.5 in /home/picalexs/.local/lib/python3.10/site-packages (from aiohttp<4,>=3.10.0->qiskit_serverless->qc-grader[jupyter,qiskit]@ git+https://github.com/qiskit-community/Quantum-Challenge-Grader.git) (6.0.5)\n",
      "Requirement already satisfied: aiosignal>=1.4.0 in /home/picalexs/.local/lib/python3.10/site-packages (from aiohttp<4,>=3.10.0->qiskit_serverless->qc-grader[jupyter,qiskit]@ git+https://github.com/qiskit-community/Quantum-Challenge-Grader.git) (1.4.0)\n",
      "Requirement already satisfied: attrs>=17.3.0 in /home/picalexs/.local/lib/python3.10/site-packages (from aiohttp<4,>=3.10.0->qiskit_serverless->qc-grader[jupyter,qiskit]@ git+https://github.com/qiskit-community/Quantum-Challenge-Grader.git) (23.2.0)\n",
      "Requirement already satisfied: anyio in /home/picalexs/.local/lib/python3.10/site-packages (from httpx>=0.25.0->jupyterlab->qc-grader[jupyter,qiskit]@ git+https://github.com/qiskit-community/Quantum-Challenge-Grader.git) (4.9.0)\n",
      "Requirement already satisfied: httpcore==1.* in /home/picalexs/.local/lib/python3.10/site-packages (from httpx>=0.25.0->jupyterlab->qc-grader[jupyter,qiskit]@ git+https://github.com/qiskit-community/Quantum-Challenge-Grader.git) (1.0.9)\n",
      "Requirement already satisfied: h11>=0.16 in /home/picalexs/.local/lib/python3.10/site-packages (from httpcore==1.*->httpx>=0.25.0->jupyterlab->qc-grader[jupyter,qiskit]@ git+https://github.com/qiskit-community/Quantum-Challenge-Grader.git) (0.16.0)\n",
      "Requirement already satisfied: PyJWT<3.0.0,>=2.8.0 in /home/picalexs/.local/lib/python3.10/site-packages (from ibm_cloud_sdk_core<4.0.0,>=3.24.1->ibm-platform-services==0.66.1->qc-grader[jupyter,qiskit]@ git+https://github.com/qiskit-community/Quantum-Challenge-Grader.git) (2.10.1)\n",
      "Requirement already satisfied: decorator in /home/picalexs/.local/lib/python3.10/site-packages (from ipython>=7.23.1->ipykernel->qc-grader[jupyter,qiskit]@ git+https://github.com/qiskit-community/Quantum-Challenge-Grader.git) (5.2.1)\n",
      "Requirement already satisfied: pexpect>4.3 in /usr/lib/python3/dist-packages (from ipython>=7.23.1->ipykernel->qc-grader[jupyter,qiskit]@ git+https://github.com/qiskit-community/Quantum-Challenge-Grader.git) (4.8.0)\n",
      "Requirement already satisfied: stack_data in /home/picalexs/.local/lib/python3.10/site-packages (from ipython>=7.23.1->ipykernel->qc-grader[jupyter,qiskit]@ git+https://github.com/qiskit-community/Quantum-Challenge-Grader.git) (0.6.3)\n",
      "Requirement already satisfied: pygments>=2.4.0 in /usr/lib/python3/dist-packages (from ipython>=7.23.1->ipykernel->qc-grader[jupyter,qiskit]@ git+https://github.com/qiskit-community/Quantum-Challenge-Grader.git) (2.11.2)\n",
      "Requirement already satisfied: jedi>=0.16 in /home/picalexs/.local/lib/python3.10/site-packages (from ipython>=7.23.1->ipykernel->qc-grader[jupyter,qiskit]@ git+https://github.com/qiskit-community/Quantum-Challenge-Grader.git) (0.19.2)\n",
      "Requirement already satisfied: exceptiongroup in /home/picalexs/.local/lib/python3.10/site-packages (from ipython>=7.23.1->ipykernel->qc-grader[jupyter,qiskit]@ git+https://github.com/qiskit-community/Quantum-Challenge-Grader.git) (1.3.0)\n",
      "Requirement already satisfied: prompt_toolkit<3.1.0,>=3.0.41 in /home/picalexs/.local/lib/python3.10/site-packages (from ipython>=7.23.1->ipykernel->qc-grader[jupyter,qiskit]@ git+https://github.com/qiskit-community/Quantum-Challenge-Grader.git) (3.0.51)\n",
      "Requirement already satisfied: jupyterlab_widgets~=3.0.15 in /home/picalexs/.local/lib/python3.10/site-packages (from ipywidgets>=7.6.0->ipycytoscape->qc-grader[jupyter,qiskit]@ git+https://github.com/qiskit-community/Quantum-Challenge-Grader.git) (3.0.15)\n",
      "Requirement already satisfied: widgetsnbextension~=4.0.14 in /home/picalexs/.local/lib/python3.10/site-packages (from ipywidgets>=7.6.0->ipycytoscape->qc-grader[jupyter,qiskit]@ git+https://github.com/qiskit-community/Quantum-Challenge-Grader.git) (4.0.14)\n",
      "Requirement already satisfied: MarkupSafe>=2.0 in /usr/lib/python3/dist-packages (from jinja2>=3.0.3->jupyterlab->qc-grader[jupyter,qiskit]@ git+https://github.com/qiskit-community/Quantum-Challenge-Grader.git) (2.0.1)\n",
      "Requirement already satisfied: platformdirs>=2.5 in /home/picalexs/.local/lib/python3.10/site-packages (from jupyter-core!=5.0.*,>=4.12->ipykernel->qc-grader[jupyter,qiskit]@ git+https://github.com/qiskit-community/Quantum-Challenge-Grader.git) (4.3.8)\n",
      "Requirement already satisfied: overrides>=5.0 in /home/picalexs/.local/lib/python3.10/site-packages (from jupyter-server<3,>=2.4.0->jupyterlab->qc-grader[jupyter,qiskit]@ git+https://github.com/qiskit-community/Quantum-Challenge-Grader.git) (7.7.0)\n",
      "Requirement already satisfied: prometheus-client>=0.9 in /home/picalexs/.local/lib/python3.10/site-packages (from jupyter-server<3,>=2.4.0->jupyterlab->qc-grader[jupyter,qiskit]@ git+https://github.com/qiskit-community/Quantum-Challenge-Grader.git) (0.22.1)\n",
      "Requirement already satisfied: terminado>=0.8.3 in /home/picalexs/.local/lib/python3.10/site-packages (from jupyter-server<3,>=2.4.0->jupyterlab->qc-grader[jupyter,qiskit]@ git+https://github.com/qiskit-community/Quantum-Challenge-Grader.git) (0.18.1)\n",
      "Requirement already satisfied: websocket-client>=1.7 in /home/picalexs/.local/lib/python3.10/site-packages (from jupyter-server<3,>=2.4.0->jupyterlab->qc-grader[jupyter,qiskit]@ git+https://github.com/qiskit-community/Quantum-Challenge-Grader.git) (1.8.0)\n",
      "Requirement already satisfied: jupyter-server-terminals>=0.4.4 in /home/picalexs/.local/lib/python3.10/site-packages (from jupyter-server<3,>=2.4.0->jupyterlab->qc-grader[jupyter,qiskit]@ git+https://github.com/qiskit-community/Quantum-Challenge-Grader.git) (0.5.3)\n",
      "Requirement already satisfied: nbformat>=5.3.0 in /home/picalexs/.local/lib/python3.10/site-packages (from jupyter-server<3,>=2.4.0->jupyterlab->qc-grader[jupyter,qiskit]@ git+https://github.com/qiskit-community/Quantum-Challenge-Grader.git) (5.10.4)\n",
      "Requirement already satisfied: send2trash>=1.8.2 in /home/picalexs/.local/lib/python3.10/site-packages (from jupyter-server<3,>=2.4.0->jupyterlab->qc-grader[jupyter,qiskit]@ git+https://github.com/qiskit-community/Quantum-Challenge-Grader.git) (1.8.3)\n",
      "Requirement already satisfied: argon2-cffi>=21.1 in /home/picalexs/.local/lib/python3.10/site-packages (from jupyter-server<3,>=2.4.0->jupyterlab->qc-grader[jupyter,qiskit]@ git+https://github.com/qiskit-community/Quantum-Challenge-Grader.git) (25.1.0)\n",
      "Requirement already satisfied: nbconvert>=6.4.4 in /home/picalexs/.local/lib/python3.10/site-packages (from jupyter-server<3,>=2.4.0->jupyterlab->qc-grader[jupyter,qiskit]@ git+https://github.com/qiskit-community/Quantum-Challenge-Grader.git) (7.16.6)\n",
      "Requirement already satisfied: jupyter-events>=0.11.0 in /home/picalexs/.local/lib/python3.10/site-packages (from jupyter-server<3,>=2.4.0->jupyterlab->qc-grader[jupyter,qiskit]@ git+https://github.com/qiskit-community/Quantum-Challenge-Grader.git) (0.12.0)\n",
      "Requirement already satisfied: jsonschema>=4.18.0 in /home/picalexs/.local/lib/python3.10/site-packages (from jupyterlab-server<3,>=2.27.1->jupyterlab->qc-grader[jupyter,qiskit]@ git+https://github.com/qiskit-community/Quantum-Challenge-Grader.git) (4.24.0)\n",
      "Requirement already satisfied: babel>=2.10 in /home/picalexs/.local/lib/python3.10/site-packages (from jupyterlab-server<3,>=2.27.1->jupyterlab->qc-grader[jupyter,qiskit]@ git+https://github.com/qiskit-community/Quantum-Challenge-Grader.git) (2.17.0)\n",
      "Requirement already satisfied: json5>=0.9.0 in /home/picalexs/.local/lib/python3.10/site-packages (from jupyterlab-server<3,>=2.27.1->jupyterlab->qc-grader[jupyter,qiskit]@ git+https://github.com/qiskit-community/Quantum-Challenge-Grader.git) (0.12.0)\n",
      "Requirement already satisfied: fonttools>=4.22.0 in /home/picalexs/.local/lib/python3.10/site-packages (from matplotlib>=3.3->qiskit[visualization]~=2.1.0->qc-grader[jupyter,qiskit]@ git+https://github.com/qiskit-community/Quantum-Challenge-Grader.git) (4.58.5)\n",
      "Requirement already satisfied: contourpy>=1.0.1 in /home/picalexs/.local/lib/python3.10/site-packages (from matplotlib>=3.3->qiskit[visualization]~=2.1.0->qc-grader[jupyter,qiskit]@ git+https://github.com/qiskit-community/Quantum-Challenge-Grader.git) (1.3.2)\n",
      "Requirement already satisfied: kiwisolver>=1.3.1 in /home/picalexs/.local/lib/python3.10/site-packages (from matplotlib>=3.3->qiskit[visualization]~=2.1.0->qc-grader[jupyter,qiskit]@ git+https://github.com/qiskit-community/Quantum-Challenge-Grader.git) (1.4.8)\n",
      "Requirement already satisfied: pyparsing>=2.3.1 in /home/picalexs/.local/lib/python3.10/site-packages (from matplotlib>=3.3->qiskit[visualization]~=2.1.0->qc-grader[jupyter,qiskit]@ git+https://github.com/qiskit-community/Quantum-Challenge-Grader.git) (3.2.3)\n",
      "Requirement already satisfied: cycler>=0.10 in /home/picalexs/.local/lib/python3.10/site-packages (from matplotlib>=3.3->qiskit[visualization]~=2.1.0->qc-grader[jupyter,qiskit]@ git+https://github.com/qiskit-community/Quantum-Challenge-Grader.git) (0.12.1)\n",
      "Requirement already satisfied: deprecated>=1.2.6 in /home/picalexs/.local/lib/python3.10/site-packages (from opentelemetry-api<1.33.1,>=1.18.0->qiskit_serverless->qc-grader[jupyter,qiskit]@ git+https://github.com/qiskit-community/Quantum-Challenge-Grader.git) (1.2.18)\n",
      "Requirement already satisfied: opentelemetry-exporter-otlp-proto-common==1.33.0 in /home/picalexs/.local/lib/python3.10/site-packages (from opentelemetry-exporter-otlp-proto-grpc<1.33.1,>=1.18.0->qiskit_serverless->qc-grader[jupyter,qiskit]@ git+https://github.com/qiskit-community/Quantum-Challenge-Grader.git) (1.33.0)\n",
      "Requirement already satisfied: grpcio<2.0.0,>=1.63.2 in /home/picalexs/.local/lib/python3.10/site-packages (from opentelemetry-exporter-otlp-proto-grpc<1.33.1,>=1.18.0->qiskit_serverless->qc-grader[jupyter,qiskit]@ git+https://github.com/qiskit-community/Quantum-Challenge-Grader.git) (1.73.1)\n",
      "Requirement already satisfied: googleapis-common-protos~=1.52 in /home/picalexs/.local/lib/python3.10/site-packages (from opentelemetry-exporter-otlp-proto-grpc<1.33.1,>=1.18.0->qiskit_serverless->qc-grader[jupyter,qiskit]@ git+https://github.com/qiskit-community/Quantum-Challenge-Grader.git) (1.70.0)\n",
      "Requirement already satisfied: opentelemetry-proto==1.33.0 in /home/picalexs/.local/lib/python3.10/site-packages (from opentelemetry-exporter-otlp-proto-grpc<1.33.1,>=1.18.0->qiskit_serverless->qc-grader[jupyter,qiskit]@ git+https://github.com/qiskit-community/Quantum-Challenge-Grader.git) (1.33.0)\n",
      "Requirement already satisfied: protobuf<6.0,>=5.0 in /home/picalexs/.local/lib/python3.10/site-packages (from opentelemetry-proto==1.33.0->opentelemetry-exporter-otlp-proto-grpc<1.33.1,>=1.18.0->qiskit_serverless->qc-grader[jupyter,qiskit]@ git+https://github.com/qiskit-community/Quantum-Challenge-Grader.git) (5.29.5)\n",
      "Requirement already satisfied: opentelemetry-util-http==0.54b0 in /home/picalexs/.local/lib/python3.10/site-packages (from opentelemetry-instrumentation-requests>=0.40b0->qiskit_serverless->qc-grader[jupyter,qiskit]@ git+https://github.com/qiskit-community/Quantum-Challenge-Grader.git) (0.54b0)\n",
      "Requirement already satisfied: opentelemetry-semantic-conventions==0.54b0 in /home/picalexs/.local/lib/python3.10/site-packages (from opentelemetry-instrumentation-requests>=0.40b0->qiskit_serverless->qc-grader[jupyter,qiskit]@ git+https://github.com/qiskit-community/Quantum-Challenge-Grader.git) (0.54b0)\n",
      "Requirement already satisfied: opentelemetry-instrumentation==0.54b0 in /home/picalexs/.local/lib/python3.10/site-packages (from opentelemetry-instrumentation-requests>=0.40b0->qiskit_serverless->qc-grader[jupyter,qiskit]@ git+https://github.com/qiskit-community/Quantum-Challenge-Grader.git) (0.54b0)\n",
      "Requirement already satisfied: wrapt<2.0.0,>=1.0.0 in /home/picalexs/.local/lib/python3.10/site-packages (from opentelemetry-instrumentation==0.54b0->opentelemetry-instrumentation-requests>=0.40b0->qiskit_serverless->qc-grader[jupyter,qiskit]@ git+https://github.com/qiskit-community/Quantum-Challenge-Grader.git) (1.17.2)\n",
      "Requirement already satisfied: typing-inspection>=0.4.0 in /home/picalexs/.local/lib/python3.10/site-packages (from pydantic>=2.5.0->qiskit-ibm-runtime->qc-grader[jupyter,qiskit]@ git+https://github.com/qiskit-community/Quantum-Challenge-Grader.git) (0.4.1)\n",
      "Requirement already satisfied: annotated-types>=0.6.0 in /home/picalexs/.local/lib/python3.10/site-packages (from pydantic>=2.5.0->qiskit-ibm-runtime->qc-grader[jupyter,qiskit]@ git+https://github.com/qiskit-community/Quantum-Challenge-Grader.git) (0.7.0)\n",
      "Requirement already satisfied: pydantic-core==2.33.2 in /home/picalexs/.local/lib/python3.10/site-packages (from pydantic>=2.5.0->qiskit-ibm-runtime->qc-grader[jupyter,qiskit]@ git+https://github.com/qiskit-community/Quantum-Challenge-Grader.git) (2.33.2)\n",
      "Requirement already satisfied: six>=1.5 in /usr/lib/python3/dist-packages (from python-dateutil>=2.8.0->qiskit-aer->qc-grader[jupyter,qiskit]@ git+https://github.com/qiskit-community/Quantum-Challenge-Grader.git) (1.16.0)\n",
      "Requirement already satisfied: symengine<0.14,>=0.11 in /home/picalexs/.local/lib/python3.10/site-packages (from qiskit[visualization]~=2.1.0->qc-grader[jupyter,qiskit]@ git+https://github.com/qiskit-community/Quantum-Challenge-Grader.git) (0.13.0)\n",
      "Requirement already satisfied: msgpack<2.0.0,>=1.0.0 in /home/picalexs/.local/lib/python3.10/site-packages (from ray[default]<3,>=2.30->qiskit_serverless->qc-grader[jupyter,qiskit]@ git+https://github.com/qiskit-community/Quantum-Challenge-Grader.git) (1.1.1)\n",
      "Requirement already satisfied: pyyaml in /usr/lib/python3/dist-packages (from ray[default]<3,>=2.30->qiskit_serverless->qc-grader[jupyter,qiskit]@ git+https://github.com/qiskit-community/Quantum-Challenge-Grader.git) (5.4.1)\n",
      "Requirement already satisfied: filelock in /home/picalexs/.local/lib/python3.10/site-packages (from ray[default]<3,>=2.30->qiskit_serverless->qc-grader[jupyter,qiskit]@ git+https://github.com/qiskit-community/Quantum-Challenge-Grader.git) (3.18.0)\n",
      "Requirement already satisfied: click>=7.0 in /usr/lib/python3/dist-packages (from ray[default]<3,>=2.30->qiskit_serverless->qc-grader[jupyter,qiskit]@ git+https://github.com/qiskit-community/Quantum-Challenge-Grader.git) (8.0.3)\n",
      "Requirement already satisfied: aiohttp_cors in /home/picalexs/.local/lib/python3.10/site-packages (from ray[default]<3,>=2.30->qiskit_serverless->qc-grader[jupyter,qiskit]@ git+https://github.com/qiskit-community/Quantum-Challenge-Grader.git) (0.8.1)\n",
      "Requirement already satisfied: opencensus in /home/picalexs/.local/lib/python3.10/site-packages (from ray[default]<3,>=2.30->qiskit_serverless->qc-grader[jupyter,qiskit]@ git+https://github.com/qiskit-community/Quantum-Challenge-Grader.git) (0.11.4)\n",
      "Requirement already satisfied: opentelemetry-exporter-prometheus in /home/picalexs/.local/lib/python3.10/site-packages (from ray[default]<3,>=2.30->qiskit_serverless->qc-grader[jupyter,qiskit]@ git+https://github.com/qiskit-community/Quantum-Challenge-Grader.git) (0.54b0)\n",
      "Requirement already satisfied: colorful in /home/picalexs/.local/lib/python3.10/site-packages (from ray[default]<3,>=2.30->qiskit_serverless->qc-grader[jupyter,qiskit]@ git+https://github.com/qiskit-community/Quantum-Challenge-Grader.git) (0.5.7)\n",
      "Requirement already satisfied: py-spy>=0.2.0 in /home/picalexs/.local/lib/python3.10/site-packages (from ray[default]<3,>=2.30->qiskit_serverless->qc-grader[jupyter,qiskit]@ git+https://github.com/qiskit-community/Quantum-Challenge-Grader.git) (0.4.0)\n",
      "Requirement already satisfied: virtualenv!=20.21.1,>=20.0.24 in /home/picalexs/.local/lib/python3.10/site-packages (from ray[default]<3,>=2.30->qiskit_serverless->qc-grader[jupyter,qiskit]@ git+https://github.com/qiskit-community/Quantum-Challenge-Grader.git) (20.31.2)\n",
      "Requirement already satisfied: smart_open in /home/picalexs/.local/lib/python3.10/site-packages (from ray[default]<3,>=2.30->qiskit_serverless->qc-grader[jupyter,qiskit]@ git+https://github.com/qiskit-community/Quantum-Challenge-Grader.git) (7.3.0.post1)\n",
      "Requirement already satisfied: pyspnego>=0.4.0 in /home/picalexs/.local/lib/python3.10/site-packages (from requests-ntlm>=1.1.0->qiskit-ibm-runtime->qc-grader[jupyter,qiskit]@ git+https://github.com/qiskit-community/Quantum-Challenge-Grader.git) (0.11.2)\n",
      "Requirement already satisfied: cryptography>=1.3 in /usr/lib/python3/dist-packages (from requests-ntlm>=1.1.0->qiskit-ibm-runtime->qc-grader[jupyter,qiskit]@ git+https://github.com/qiskit-community/Quantum-Challenge-Grader.git) (3.4.8)\n",
      "Requirement already satisfied: aiobotocore<3.0.0,>=2.5.4 in /home/picalexs/.local/lib/python3.10/site-packages (from s3fs>=2023.6.0->qiskit_serverless->qc-grader[jupyter,qiskit]@ git+https://github.com/qiskit-community/Quantum-Challenge-Grader.git) (2.23.1)\n",
      "Requirement already satisfied: fsspec==2025.7.0 in /home/picalexs/.local/lib/python3.10/site-packages (from s3fs>=2023.6.0->qiskit_serverless->qc-grader[jupyter,qiskit]@ git+https://github.com/qiskit-community/Quantum-Challenge-Grader.git) (2025.7.0)\n",
      "Requirement already satisfied: pandas>=1.2 in /home/picalexs/.local/lib/python3.10/site-packages (from seaborn>=0.9.0->qiskit[visualization]~=2.1.0->qc-grader[jupyter,qiskit]@ git+https://github.com/qiskit-community/Quantum-Challenge-Grader.git) (2.3.0)\n",
      "Requirement already satisfied: pbr>=2.0.0 in /home/picalexs/.local/lib/python3.10/site-packages (from stevedore>=3.0.0->qiskit[visualization]~=2.1.0->qc-grader[jupyter,qiskit]@ git+https://github.com/qiskit-community/Quantum-Challenge-Grader.git) (6.1.0)\n",
      "Requirement already satisfied: mpmath<1.4,>=1.1.0 in /home/picalexs/.local/lib/python3.10/site-packages (from sympy>=1.3->qiskit[visualization]~=2.1.0->qc-grader[jupyter,qiskit]@ git+https://github.com/qiskit-community/Quantum-Challenge-Grader.git) (1.3.0)\n",
      "Requirement already satisfied: aioitertools<1.0.0,>=0.5.1 in /home/picalexs/.local/lib/python3.10/site-packages (from aiobotocore<3.0.0,>=2.5.4->s3fs>=2023.6.0->qiskit_serverless->qc-grader[jupyter,qiskit]@ git+https://github.com/qiskit-community/Quantum-Challenge-Grader.git) (0.12.0)\n",
      "Requirement already satisfied: botocore<1.38.47,>=1.38.40 in /home/picalexs/.local/lib/python3.10/site-packages (from aiobotocore<3.0.0,>=2.5.4->s3fs>=2023.6.0->qiskit_serverless->qc-grader[jupyter,qiskit]@ git+https://github.com/qiskit-community/Quantum-Challenge-Grader.git) (1.38.46)\n",
      "Requirement already satisfied: jmespath<2.0.0,>=0.7.1 in /home/picalexs/.local/lib/python3.10/site-packages (from aiobotocore<3.0.0,>=2.5.4->s3fs>=2023.6.0->qiskit_serverless->qc-grader[jupyter,qiskit]@ git+https://github.com/qiskit-community/Quantum-Challenge-Grader.git) (1.0.1)\n",
      "Requirement already satisfied: sniffio>=1.1 in /home/picalexs/.local/lib/python3.10/site-packages (from anyio->httpx>=0.25.0->jupyterlab->qc-grader[jupyter,qiskit]@ git+https://github.com/qiskit-community/Quantum-Challenge-Grader.git) (1.3.1)\n",
      "Requirement already satisfied: argon2-cffi-bindings in /home/picalexs/.local/lib/python3.10/site-packages (from argon2-cffi>=21.1->jupyter-server<3,>=2.4.0->jupyterlab->qc-grader[jupyter,qiskit]@ git+https://github.com/qiskit-community/Quantum-Challenge-Grader.git) (21.2.0)\n",
      "Requirement already satisfied: parso<0.9.0,>=0.8.4 in /home/picalexs/.local/lib/python3.10/site-packages (from jedi>=0.16->ipython>=7.23.1->ipykernel->qc-grader[jupyter,qiskit]@ git+https://github.com/qiskit-community/Quantum-Challenge-Grader.git) (0.8.4)\n",
      "Requirement already satisfied: jsonschema-specifications>=2023.03.6 in /home/picalexs/.local/lib/python3.10/site-packages (from jsonschema>=4.18.0->jupyterlab-server<3,>=2.27.1->jupyterlab->qc-grader[jupyter,qiskit]@ git+https://github.com/qiskit-community/Quantum-Challenge-Grader.git) (2025.4.1)\n",
      "Requirement already satisfied: referencing>=0.28.4 in /home/picalexs/.local/lib/python3.10/site-packages (from jsonschema>=4.18.0->jupyterlab-server<3,>=2.27.1->jupyterlab->qc-grader[jupyter,qiskit]@ git+https://github.com/qiskit-community/Quantum-Challenge-Grader.git) (0.36.2)\n",
      "Requirement already satisfied: rpds-py>=0.7.1 in /home/picalexs/.local/lib/python3.10/site-packages (from jsonschema>=4.18.0->jupyterlab-server<3,>=2.27.1->jupyterlab->qc-grader[jupyter,qiskit]@ git+https://github.com/qiskit-community/Quantum-Challenge-Grader.git) (0.26.0)\n",
      "Requirement already satisfied: rfc3986-validator>=0.1.1 in /home/picalexs/.local/lib/python3.10/site-packages (from jupyter-events>=0.11.0->jupyter-server<3,>=2.4.0->jupyterlab->qc-grader[jupyter,qiskit]@ git+https://github.com/qiskit-community/Quantum-Challenge-Grader.git) (0.1.1)\n",
      "Requirement already satisfied: python-json-logger>=2.0.4 in /home/picalexs/.local/lib/python3.10/site-packages (from jupyter-events>=0.11.0->jupyter-server<3,>=2.4.0->jupyterlab->qc-grader[jupyter,qiskit]@ git+https://github.com/qiskit-community/Quantum-Challenge-Grader.git) (3.3.0)\n",
      "Requirement already satisfied: rfc3339-validator in /home/picalexs/.local/lib/python3.10/site-packages (from jupyter-events>=0.11.0->jupyter-server<3,>=2.4.0->jupyterlab->qc-grader[jupyter,qiskit]@ git+https://github.com/qiskit-community/Quantum-Challenge-Grader.git) (0.1.4)\n",
      "Requirement already satisfied: mistune<4,>=2.0.3 in /home/picalexs/.local/lib/python3.10/site-packages (from nbconvert>=6.4.4->jupyter-server<3,>=2.4.0->jupyterlab->qc-grader[jupyter,qiskit]@ git+https://github.com/qiskit-community/Quantum-Challenge-Grader.git) (3.1.3)\n",
      "Requirement already satisfied: pandocfilters>=1.4.1 in /home/picalexs/.local/lib/python3.10/site-packages (from nbconvert>=6.4.4->jupyter-server<3,>=2.4.0->jupyterlab->qc-grader[jupyter,qiskit]@ git+https://github.com/qiskit-community/Quantum-Challenge-Grader.git) (1.5.1)\n",
      "Requirement already satisfied: defusedxml in /home/picalexs/.local/lib/python3.10/site-packages (from nbconvert>=6.4.4->jupyter-server<3,>=2.4.0->jupyterlab->qc-grader[jupyter,qiskit]@ git+https://github.com/qiskit-community/Quantum-Challenge-Grader.git) (0.7.1)\n",
      "Requirement already satisfied: jupyterlab-pygments in /home/picalexs/.local/lib/python3.10/site-packages (from nbconvert>=6.4.4->jupyter-server<3,>=2.4.0->jupyterlab->qc-grader[jupyter,qiskit]@ git+https://github.com/qiskit-community/Quantum-Challenge-Grader.git) (0.3.0)\n",
      "Requirement already satisfied: nbclient>=0.5.0 in /home/picalexs/.local/lib/python3.10/site-packages (from nbconvert>=6.4.4->jupyter-server<3,>=2.4.0->jupyterlab->qc-grader[jupyter,qiskit]@ git+https://github.com/qiskit-community/Quantum-Challenge-Grader.git) (0.10.2)\n",
      "Requirement already satisfied: beautifulsoup4 in /usr/lib/python3/dist-packages (from nbconvert>=6.4.4->jupyter-server<3,>=2.4.0->jupyterlab->qc-grader[jupyter,qiskit]@ git+https://github.com/qiskit-community/Quantum-Challenge-Grader.git) (4.10.0)\n",
      "Requirement already satisfied: bleach[css]!=5.0.0 in /home/picalexs/.local/lib/python3.10/site-packages (from nbconvert>=6.4.4->jupyter-server<3,>=2.4.0->jupyterlab->qc-grader[jupyter,qiskit]@ git+https://github.com/qiskit-community/Quantum-Challenge-Grader.git) (6.2.0)\n",
      "Requirement already satisfied: fastjsonschema>=2.15 in /home/picalexs/.local/lib/python3.10/site-packages (from nbformat>=5.3.0->jupyter-server<3,>=2.4.0->jupyterlab->qc-grader[jupyter,qiskit]@ git+https://github.com/qiskit-community/Quantum-Challenge-Grader.git) (2.21.1)\n",
      "Requirement already satisfied: pytz>=2020.1 in /usr/lib/python3/dist-packages (from pandas>=1.2->seaborn>=0.9.0->qiskit[visualization]~=2.1.0->qc-grader[jupyter,qiskit]@ git+https://github.com/qiskit-community/Quantum-Challenge-Grader.git) (2022.1)\n",
      "Requirement already satisfied: tzdata>=2022.7 in /home/picalexs/.local/lib/python3.10/site-packages (from pandas>=1.2->seaborn>=0.9.0->qiskit[visualization]~=2.1.0->qc-grader[jupyter,qiskit]@ git+https://github.com/qiskit-community/Quantum-Challenge-Grader.git) (2025.2)\n",
      "Requirement already satisfied: wcwidth in /home/picalexs/.local/lib/python3.10/site-packages (from prompt_toolkit<3.1.0,>=3.0.41->ipython>=7.23.1->ipykernel->qc-grader[jupyter,qiskit]@ git+https://github.com/qiskit-community/Quantum-Challenge-Grader.git) (0.2.13)\n",
      "Requirement already satisfied: ptyprocess in /usr/lib/python3/dist-packages (from terminado>=0.8.3->jupyter-server<3,>=2.4.0->jupyterlab->qc-grader[jupyter,qiskit]@ git+https://github.com/qiskit-community/Quantum-Challenge-Grader.git) (0.7.0)\n",
      "Requirement already satisfied: distlib<1,>=0.3.7 in /home/picalexs/.local/lib/python3.10/site-packages (from virtualenv!=20.21.1,>=20.0.24->ray[default]<3,>=2.30->qiskit_serverless->qc-grader[jupyter,qiskit]@ git+https://github.com/qiskit-community/Quantum-Challenge-Grader.git) (0.4.0)\n",
      "Requirement already satisfied: google-api-core<3.0.0,>=1.0.0 in /home/picalexs/.local/lib/python3.10/site-packages (from opencensus->ray[default]<3,>=2.30->qiskit_serverless->qc-grader[jupyter,qiskit]@ git+https://github.com/qiskit-community/Quantum-Challenge-Grader.git) (2.25.1)\n",
      "Requirement already satisfied: opencensus-context>=0.1.3 in /home/picalexs/.local/lib/python3.10/site-packages (from opencensus->ray[default]<3,>=2.30->qiskit_serverless->qc-grader[jupyter,qiskit]@ git+https://github.com/qiskit-community/Quantum-Challenge-Grader.git) (0.1.3)\n",
      "Requirement already satisfied: executing>=1.2.0 in /home/picalexs/.local/lib/python3.10/site-packages (from stack_data->ipython>=7.23.1->ipykernel->qc-grader[jupyter,qiskit]@ git+https://github.com/qiskit-community/Quantum-Challenge-Grader.git) (2.2.0)\n",
      "Requirement already satisfied: pure-eval in /home/picalexs/.local/lib/python3.10/site-packages (from stack_data->ipython>=7.23.1->ipykernel->qc-grader[jupyter,qiskit]@ git+https://github.com/qiskit-community/Quantum-Challenge-Grader.git) (0.2.3)\n",
      "Requirement already satisfied: asttokens>=2.1.0 in /home/picalexs/.local/lib/python3.10/site-packages (from stack_data->ipython>=7.23.1->ipykernel->qc-grader[jupyter,qiskit]@ git+https://github.com/qiskit-community/Quantum-Challenge-Grader.git) (3.0.0)\n",
      "Requirement already satisfied: webencodings in /usr/lib/python3/dist-packages (from bleach[css]!=5.0.0->nbconvert>=6.4.4->jupyter-server<3,>=2.4.0->jupyterlab->qc-grader[jupyter,qiskit]@ git+https://github.com/qiskit-community/Quantum-Challenge-Grader.git) (0.5.1)\n",
      "Requirement already satisfied: tinycss2<1.5,>=1.1.0 in /usr/lib/python3/dist-packages (from bleach[css]!=5.0.0->nbconvert>=6.4.4->jupyter-server<3,>=2.4.0->jupyterlab->qc-grader[jupyter,qiskit]@ git+https://github.com/qiskit-community/Quantum-Challenge-Grader.git) (1.1.1)\n",
      "Requirement already satisfied: proto-plus<2.0.0,>=1.22.3 in /home/picalexs/.local/lib/python3.10/site-packages (from google-api-core<3.0.0,>=1.0.0->opencensus->ray[default]<3,>=2.30->qiskit_serverless->qc-grader[jupyter,qiskit]@ git+https://github.com/qiskit-community/Quantum-Challenge-Grader.git) (1.26.1)\n",
      "Requirement already satisfied: google-auth<3.0.0,>=2.14.1 in /home/picalexs/.local/lib/python3.10/site-packages (from google-api-core<3.0.0,>=1.0.0->opencensus->ray[default]<3,>=2.30->qiskit_serverless->qc-grader[jupyter,qiskit]@ git+https://github.com/qiskit-community/Quantum-Challenge-Grader.git) (2.40.3)\n",
      "Requirement already satisfied: fqdn in /home/picalexs/.local/lib/python3.10/site-packages (from jsonschema>=4.18.0->jupyterlab-server<3,>=2.27.1->jupyterlab->qc-grader[jupyter,qiskit]@ git+https://github.com/qiskit-community/Quantum-Challenge-Grader.git) (1.5.1)\n",
      "Requirement already satisfied: webcolors>=24.6.0 in /home/picalexs/.local/lib/python3.10/site-packages (from jsonschema>=4.18.0->jupyterlab-server<3,>=2.27.1->jupyterlab->qc-grader[jupyter,qiskit]@ git+https://github.com/qiskit-community/Quantum-Challenge-Grader.git) (24.11.1)\n",
      "Requirement already satisfied: uri-template in /home/picalexs/.local/lib/python3.10/site-packages (from jsonschema>=4.18.0->jupyterlab-server<3,>=2.27.1->jupyterlab->qc-grader[jupyter,qiskit]@ git+https://github.com/qiskit-community/Quantum-Challenge-Grader.git) (1.3.0)\n",
      "Requirement already satisfied: jsonpointer>1.13 in /home/picalexs/.local/lib/python3.10/site-packages (from jsonschema>=4.18.0->jupyterlab-server<3,>=2.27.1->jupyterlab->qc-grader[jupyter,qiskit]@ git+https://github.com/qiskit-community/Quantum-Challenge-Grader.git) (3.0.0)\n",
      "Requirement already satisfied: isoduration in /home/picalexs/.local/lib/python3.10/site-packages (from jsonschema>=4.18.0->jupyterlab-server<3,>=2.27.1->jupyterlab->qc-grader[jupyter,qiskit]@ git+https://github.com/qiskit-community/Quantum-Challenge-Grader.git) (20.11.0)\n",
      "Requirement already satisfied: cffi>=1.0.1 in /home/picalexs/.local/lib/python3.10/site-packages (from argon2-cffi-bindings->argon2-cffi>=21.1->jupyter-server<3,>=2.4.0->jupyterlab->qc-grader[jupyter,qiskit]@ git+https://github.com/qiskit-community/Quantum-Challenge-Grader.git) (1.17.1)\n",
      "Requirement already satisfied: pycparser in /home/picalexs/.local/lib/python3.10/site-packages (from cffi>=1.0.1->argon2-cffi-bindings->argon2-cffi>=21.1->jupyter-server<3,>=2.4.0->jupyterlab->qc-grader[jupyter,qiskit]@ git+https://github.com/qiskit-community/Quantum-Challenge-Grader.git) (2.22)\n",
      "Requirement already satisfied: rsa<5,>=3.1.4 in /home/picalexs/.local/lib/python3.10/site-packages (from google-auth<3.0.0,>=2.14.1->google-api-core<3.0.0,>=1.0.0->opencensus->ray[default]<3,>=2.30->qiskit_serverless->qc-grader[jupyter,qiskit]@ git+https://github.com/qiskit-community/Quantum-Challenge-Grader.git) (4.9.1)\n",
      "Requirement already satisfied: pyasn1-modules>=0.2.1 in /home/picalexs/.local/lib/python3.10/site-packages (from google-auth<3.0.0,>=2.14.1->google-api-core<3.0.0,>=1.0.0->opencensus->ray[default]<3,>=2.30->qiskit_serverless->qc-grader[jupyter,qiskit]@ git+https://github.com/qiskit-community/Quantum-Challenge-Grader.git) (0.4.2)\n",
      "Requirement already satisfied: cachetools<6.0,>=2.0.0 in /home/picalexs/.local/lib/python3.10/site-packages (from google-auth<3.0.0,>=2.14.1->google-api-core<3.0.0,>=1.0.0->opencensus->ray[default]<3,>=2.30->qiskit_serverless->qc-grader[jupyter,qiskit]@ git+https://github.com/qiskit-community/Quantum-Challenge-Grader.git) (5.5.2)\n",
      "Requirement already satisfied: arrow>=0.15.0 in /home/picalexs/.local/lib/python3.10/site-packages (from isoduration->jsonschema>=4.18.0->jupyterlab-server<3,>=2.27.1->jupyterlab->qc-grader[jupyter,qiskit]@ git+https://github.com/qiskit-community/Quantum-Challenge-Grader.git) (1.3.0)\n",
      "Requirement already satisfied: types-python-dateutil>=2.8.10 in /home/picalexs/.local/lib/python3.10/site-packages (from arrow>=0.15.0->isoduration->jsonschema>=4.18.0->jupyterlab-server<3,>=2.27.1->jupyterlab->qc-grader[jupyter,qiskit]@ git+https://github.com/qiskit-community/Quantum-Challenge-Grader.git) (2.9.0.20250516)\n",
      "Requirement already satisfied: pyasn1<0.7.0,>=0.6.1 in /home/picalexs/.local/lib/python3.10/site-packages (from pyasn1-modules>=0.2.1->google-auth<3.0.0,>=2.14.1->google-api-core<3.0.0,>=1.0.0->opencensus->ray[default]<3,>=2.30->qiskit_serverless->qc-grader[jupyter,qiskit]@ git+https://github.com/qiskit-community/Quantum-Challenge-Grader.git) (0.6.1)\n",
      "Note: you may need to restart the kernel to use updated packages.\n",
      "Defaulting to user installation because normal site-packages is not writeable\n",
      "Requirement already satisfied: qiskit[visualization]~=2.1.0 in /home/picalexs/.local/lib/python3.10/site-packages (2.1.1)\n",
      "Collecting qiskit-serverless~=0.24.0\n",
      "  Downloading qiskit_serverless-0.24.0-py3-none-any.whl (54 kB)\n",
      "\u001b[2K     \u001b[90m━━━━━━━━━━━━━━━━━━━━━━━━━━━━━━━━━━━━━━━\u001b[0m \u001b[32m54.4/54.4 KB\u001b[0m \u001b[31m935.4 kB/s\u001b[0m eta \u001b[36m0:00:00\u001b[0m \u001b[36m0:00:01\u001b[0m\n",
      "\u001b[?25hCollecting qiskit-ibm-catalog~=0.8.0\n",
      "  Downloading qiskit_ibm_catalog-0.8.0-py3-none-any.whl (19 kB)\n",
      "Collecting scikit-learn==1.5.2\n",
      "  Downloading scikit_learn-1.5.2-cp310-cp310-manylinux_2_17_x86_64.manylinux2014_x86_64.whl (13.3 MB)\n",
      "\u001b[2K     \u001b[90m━━━━━━━━━━━━━━━━━━━━━━━━━━━━━━━━━━━━━━━━\u001b[0m \u001b[32m13.3/13.3 MB\u001b[0m \u001b[31m11.2 MB/s\u001b[0m eta \u001b[36m0:00:00\u001b[0m00:01\u001b[0m00:01\u001b[0m\n",
      "\u001b[?25hRequirement already satisfied: pandas<3.0.0,>=2.0.0 in /home/picalexs/.local/lib/python3.10/site-packages (2.3.0)\n",
      "Collecting imbalanced-learn~=0.12.3\n",
      "  Downloading imbalanced_learn-0.12.4-py3-none-any.whl (258 kB)\n",
      "\u001b[2K     \u001b[90m━━━━━━━━━━━━━━━━━━━━━━━━━━━━━━━━━━━━━━━\u001b[0m \u001b[32m258.3/258.3 KB\u001b[0m \u001b[31m8.6 MB/s\u001b[0m eta \u001b[36m0:00:00\u001b[0m\n",
      "\u001b[?25hRequirement already satisfied: scipy>=1.6.0 in /home/picalexs/.local/lib/python3.10/site-packages (from scikit-learn==1.5.2) (1.14.1)\n",
      "Collecting joblib>=1.2.0\n",
      "  Downloading joblib-1.5.1-py3-none-any.whl (307 kB)\n",
      "\u001b[2K     \u001b[90m━━━━━━━━━━━━━━━━━━━━━━━━━━━━━━━━━━━━━━━\u001b[0m \u001b[32m307.7/307.7 KB\u001b[0m \u001b[31m9.0 MB/s\u001b[0m eta \u001b[36m0:00:00\u001b[0m\n",
      "\u001b[?25hRequirement already satisfied: numpy>=1.19.5 in /home/picalexs/.local/lib/python3.10/site-packages (from scikit-learn==1.5.2) (2.2.0)\n",
      "Collecting threadpoolctl>=3.1.0\n",
      "  Downloading threadpoolctl-3.6.0-py3-none-any.whl (18 kB)\n",
      "Requirement already satisfied: stevedore>=3.0.0 in /home/picalexs/.local/lib/python3.10/site-packages (from qiskit[visualization]~=2.1.0) (5.4.0)\n",
      "Requirement already satisfied: typing-extensions in /home/picalexs/.local/lib/python3.10/site-packages (from qiskit[visualization]~=2.1.0) (4.14.0)\n",
      "Requirement already satisfied: dill>=0.3 in /home/picalexs/.local/lib/python3.10/site-packages (from qiskit[visualization]~=2.1.0) (0.3.9)\n",
      "Requirement already satisfied: rustworkx>=0.15.0 in /home/picalexs/.local/lib/python3.10/site-packages (from qiskit[visualization]~=2.1.0) (0.16.0)\n",
      "Requirement already satisfied: Pillow>=4.2.1 in /usr/lib/python3/dist-packages (from qiskit[visualization]~=2.1.0) (9.0.1)\n",
      "Requirement already satisfied: sympy>=1.3 in /home/picalexs/.local/lib/python3.10/site-packages (from qiskit[visualization]~=2.1.0) (1.13.3)\n",
      "Requirement already satisfied: seaborn>=0.9.0 in /home/picalexs/.local/lib/python3.10/site-packages (from qiskit[visualization]~=2.1.0) (0.13.2)\n",
      "Requirement already satisfied: matplotlib>=3.3 in /home/picalexs/.local/lib/python3.10/site-packages (from qiskit[visualization]~=2.1.0) (3.10.3)\n",
      "Requirement already satisfied: pylatexenc>=1.4 in /home/picalexs/.local/lib/python3.10/site-packages (from qiskit[visualization]~=2.1.0) (2.10)\n",
      "Requirement already satisfied: pydot in /home/picalexs/.local/lib/python3.10/site-packages (from qiskit[visualization]~=2.1.0) (4.0.1)\n",
      "Requirement already satisfied: ipywidgets<9,>=8.1.6 in /home/picalexs/.local/lib/python3.10/site-packages (from qiskit-serverless~=0.24.0) (8.1.7)\n",
      "Requirement already satisfied: opentelemetry-instrumentation-requests>=0.40b0 in /home/picalexs/.local/lib/python3.10/site-packages (from qiskit-serverless~=0.24.0) (0.54b0)\n",
      "Requirement already satisfied: requests<3,>=2.32.2 in /home/picalexs/.local/lib/python3.10/site-packages (from qiskit-serverless~=0.24.0) (2.32.3)\n",
      "Requirement already satisfied: opentelemetry-api<1.33.1,>=1.18.0 in /home/picalexs/.local/lib/python3.10/site-packages (from qiskit-serverless~=0.24.0) (1.33.0)\n",
      "Requirement already satisfied: opentelemetry-exporter-otlp-proto-grpc<1.33.1,>=1.18.0 in /home/picalexs/.local/lib/python3.10/site-packages (from qiskit-serverless~=0.24.0) (1.33.0)\n",
      "Requirement already satisfied: tqdm<5,>=4.66.3 in /home/picalexs/.local/lib/python3.10/site-packages (from qiskit-serverless~=0.24.0) (4.67.1)\n",
      "Requirement already satisfied: pyarrow<19,>=16.0.0 in /home/picalexs/.local/lib/python3.10/site-packages (from qiskit-serverless~=0.24.0) (18.1.0)\n",
      "Requirement already satisfied: cloudpickle==2.2.1 in /home/picalexs/.local/lib/python3.10/site-packages (from qiskit-serverless~=0.24.0) (2.2.1)\n",
      "Requirement already satisfied: opentelemetry-sdk<1.33.1,>=1.18.0 in /home/picalexs/.local/lib/python3.10/site-packages (from qiskit-serverless~=0.24.0) (1.33.0)\n",
      "Requirement already satisfied: ray[default]<3,>=2.30 in /home/picalexs/.local/lib/python3.10/site-packages (from qiskit-serverless~=0.24.0) (2.48.0)\n",
      "Requirement already satisfied: importlib-metadata<9,>=5.2.0 in /home/picalexs/.local/lib/python3.10/site-packages (from qiskit-serverless~=0.24.0) (8.4.0)\n",
      "Requirement already satisfied: ipython<9,>=8.10.0 in /home/picalexs/.local/lib/python3.10/site-packages (from qiskit-serverless~=0.24.0) (8.37.0)\n",
      "Requirement already satisfied: certifi==2024.7.4 in /home/picalexs/.local/lib/python3.10/site-packages (from qiskit-serverless~=0.24.0) (2024.7.4)\n",
      "Requirement already satisfied: aiohttp<4,>=3.10.0 in /home/picalexs/.local/lib/python3.10/site-packages (from qiskit-serverless~=0.24.0) (3.12.14)\n",
      "Requirement already satisfied: qiskit-ibm-runtime<1,>=0.29.0 in /home/picalexs/.local/lib/python3.10/site-packages (from qiskit-serverless~=0.24.0) (0.40.1)\n",
      "Requirement already satisfied: s3fs>=2023.6.0 in /home/picalexs/.local/lib/python3.10/site-packages (from qiskit-serverless~=0.24.0) (2025.7.0)\n",
      "Requirement already satisfied: zipp==3.19.1 in /home/picalexs/.local/lib/python3.10/site-packages (from qiskit-serverless~=0.24.0) (3.19.1)\n",
      "Requirement already satisfied: python-dateutil>=2.8.2 in /home/picalexs/.local/lib/python3.10/site-packages (from pandas<3.0.0,>=2.0.0) (2.9.0.post0)\n",
      "Requirement already satisfied: pytz>=2020.1 in /usr/lib/python3/dist-packages (from pandas<3.0.0,>=2.0.0) (2022.1)\n",
      "Requirement already satisfied: tzdata>=2022.7 in /home/picalexs/.local/lib/python3.10/site-packages (from pandas<3.0.0,>=2.0.0) (2025.2)\n",
      "Requirement already satisfied: multidict<7.0,>=4.5 in /home/picalexs/.local/lib/python3.10/site-packages (from aiohttp<4,>=3.10.0->qiskit-serverless~=0.24.0) (6.0.5)\n",
      "Requirement already satisfied: attrs>=17.3.0 in /home/picalexs/.local/lib/python3.10/site-packages (from aiohttp<4,>=3.10.0->qiskit-serverless~=0.24.0) (23.2.0)\n",
      "Requirement already satisfied: aiohappyeyeballs>=2.5.0 in /home/picalexs/.local/lib/python3.10/site-packages (from aiohttp<4,>=3.10.0->qiskit-serverless~=0.24.0) (2.6.1)\n",
      "Requirement already satisfied: async-timeout<6.0,>=4.0 in /usr/lib/python3/dist-packages (from aiohttp<4,>=3.10.0->qiskit-serverless~=0.24.0) (4.0.1)\n",
      "Requirement already satisfied: aiosignal>=1.4.0 in /home/picalexs/.local/lib/python3.10/site-packages (from aiohttp<4,>=3.10.0->qiskit-serverless~=0.24.0) (1.4.0)\n",
      "Requirement already satisfied: yarl<2.0,>=1.17.0 in /home/picalexs/.local/lib/python3.10/site-packages (from aiohttp<4,>=3.10.0->qiskit-serverless~=0.24.0) (1.20.1)\n",
      "Requirement already satisfied: propcache>=0.2.0 in /home/picalexs/.local/lib/python3.10/site-packages (from aiohttp<4,>=3.10.0->qiskit-serverless~=0.24.0) (0.3.2)\n",
      "Requirement already satisfied: frozenlist>=1.1.1 in /home/picalexs/.local/lib/python3.10/site-packages (from aiohttp<4,>=3.10.0->qiskit-serverless~=0.24.0) (1.4.1)\n",
      "Requirement already satisfied: stack_data in /home/picalexs/.local/lib/python3.10/site-packages (from ipython<9,>=8.10.0->qiskit-serverless~=0.24.0) (0.6.3)\n",
      "Requirement already satisfied: exceptiongroup in /home/picalexs/.local/lib/python3.10/site-packages (from ipython<9,>=8.10.0->qiskit-serverless~=0.24.0) (1.3.0)\n",
      "Requirement already satisfied: matplotlib-inline in /home/picalexs/.local/lib/python3.10/site-packages (from ipython<9,>=8.10.0->qiskit-serverless~=0.24.0) (0.1.7)\n",
      "Requirement already satisfied: traitlets>=5.13.0 in /home/picalexs/.local/lib/python3.10/site-packages (from ipython<9,>=8.10.0->qiskit-serverless~=0.24.0) (5.14.3)\n",
      "Requirement already satisfied: decorator in /home/picalexs/.local/lib/python3.10/site-packages (from ipython<9,>=8.10.0->qiskit-serverless~=0.24.0) (5.2.1)\n",
      "Requirement already satisfied: pygments>=2.4.0 in /usr/lib/python3/dist-packages (from ipython<9,>=8.10.0->qiskit-serverless~=0.24.0) (2.11.2)\n",
      "Requirement already satisfied: prompt_toolkit<3.1.0,>=3.0.41 in /home/picalexs/.local/lib/python3.10/site-packages (from ipython<9,>=8.10.0->qiskit-serverless~=0.24.0) (3.0.51)\n",
      "Requirement already satisfied: pexpect>4.3 in /usr/lib/python3/dist-packages (from ipython<9,>=8.10.0->qiskit-serverless~=0.24.0) (4.8.0)\n",
      "Requirement already satisfied: jedi>=0.16 in /home/picalexs/.local/lib/python3.10/site-packages (from ipython<9,>=8.10.0->qiskit-serverless~=0.24.0) (0.19.2)\n",
      "Requirement already satisfied: jupyterlab_widgets~=3.0.15 in /home/picalexs/.local/lib/python3.10/site-packages (from ipywidgets<9,>=8.1.6->qiskit-serverless~=0.24.0) (3.0.15)\n",
      "Requirement already satisfied: comm>=0.1.3 in /home/picalexs/.local/lib/python3.10/site-packages (from ipywidgets<9,>=8.1.6->qiskit-serverless~=0.24.0) (0.2.2)\n",
      "Requirement already satisfied: widgetsnbextension~=4.0.14 in /home/picalexs/.local/lib/python3.10/site-packages (from ipywidgets<9,>=8.1.6->qiskit-serverless~=0.24.0) (4.0.14)\n",
      "Requirement already satisfied: cycler>=0.10 in /home/picalexs/.local/lib/python3.10/site-packages (from matplotlib>=3.3->qiskit[visualization]~=2.1.0) (0.12.1)\n",
      "Requirement already satisfied: kiwisolver>=1.3.1 in /home/picalexs/.local/lib/python3.10/site-packages (from matplotlib>=3.3->qiskit[visualization]~=2.1.0) (1.4.8)\n",
      "Requirement already satisfied: fonttools>=4.22.0 in /home/picalexs/.local/lib/python3.10/site-packages (from matplotlib>=3.3->qiskit[visualization]~=2.1.0) (4.58.5)\n",
      "Requirement already satisfied: pyparsing>=2.3.1 in /home/picalexs/.local/lib/python3.10/site-packages (from matplotlib>=3.3->qiskit[visualization]~=2.1.0) (3.2.3)\n",
      "Requirement already satisfied: packaging>=20.0 in /home/picalexs/.local/lib/python3.10/site-packages (from matplotlib>=3.3->qiskit[visualization]~=2.1.0) (25.0)\n",
      "Requirement already satisfied: contourpy>=1.0.1 in /home/picalexs/.local/lib/python3.10/site-packages (from matplotlib>=3.3->qiskit[visualization]~=2.1.0) (1.3.2)\n",
      "Requirement already satisfied: deprecated>=1.2.6 in /home/picalexs/.local/lib/python3.10/site-packages (from opentelemetry-api<1.33.1,>=1.18.0->qiskit-serverless~=0.24.0) (1.2.18)\n",
      "Requirement already satisfied: googleapis-common-protos~=1.52 in /home/picalexs/.local/lib/python3.10/site-packages (from opentelemetry-exporter-otlp-proto-grpc<1.33.1,>=1.18.0->qiskit-serverless~=0.24.0) (1.70.0)\n",
      "Requirement already satisfied: opentelemetry-exporter-otlp-proto-common==1.33.0 in /home/picalexs/.local/lib/python3.10/site-packages (from opentelemetry-exporter-otlp-proto-grpc<1.33.1,>=1.18.0->qiskit-serverless~=0.24.0) (1.33.0)\n",
      "Requirement already satisfied: grpcio<2.0.0,>=1.63.2 in /home/picalexs/.local/lib/python3.10/site-packages (from opentelemetry-exporter-otlp-proto-grpc<1.33.1,>=1.18.0->qiskit-serverless~=0.24.0) (1.73.1)\n",
      "Requirement already satisfied: opentelemetry-proto==1.33.0 in /home/picalexs/.local/lib/python3.10/site-packages (from opentelemetry-exporter-otlp-proto-grpc<1.33.1,>=1.18.0->qiskit-serverless~=0.24.0) (1.33.0)\n",
      "Requirement already satisfied: protobuf<6.0,>=5.0 in /home/picalexs/.local/lib/python3.10/site-packages (from opentelemetry-proto==1.33.0->opentelemetry-exporter-otlp-proto-grpc<1.33.1,>=1.18.0->qiskit-serverless~=0.24.0) (5.29.5)\n",
      "Requirement already satisfied: opentelemetry-instrumentation==0.54b0 in /home/picalexs/.local/lib/python3.10/site-packages (from opentelemetry-instrumentation-requests>=0.40b0->qiskit-serverless~=0.24.0) (0.54b0)\n",
      "Requirement already satisfied: opentelemetry-semantic-conventions==0.54b0 in /home/picalexs/.local/lib/python3.10/site-packages (from opentelemetry-instrumentation-requests>=0.40b0->qiskit-serverless~=0.24.0) (0.54b0)\n",
      "Requirement already satisfied: opentelemetry-util-http==0.54b0 in /home/picalexs/.local/lib/python3.10/site-packages (from opentelemetry-instrumentation-requests>=0.40b0->qiskit-serverless~=0.24.0) (0.54b0)\n",
      "Requirement already satisfied: wrapt<2.0.0,>=1.0.0 in /home/picalexs/.local/lib/python3.10/site-packages (from opentelemetry-instrumentation==0.54b0->opentelemetry-instrumentation-requests>=0.40b0->qiskit-serverless~=0.24.0) (1.17.2)\n",
      "Requirement already satisfied: six>=1.5 in /usr/lib/python3/dist-packages (from python-dateutil>=2.8.2->pandas<3.0.0,>=2.0.0) (1.16.0)\n",
      "Requirement already satisfied: ibm-platform-services>=0.22.6 in /home/picalexs/.local/lib/python3.10/site-packages (from qiskit-ibm-runtime<1,>=0.29.0->qiskit-serverless~=0.24.0) (0.66.1)\n",
      "Requirement already satisfied: urllib3>=1.21.1 in /home/picalexs/.local/lib/python3.10/site-packages (from qiskit-ibm-runtime<1,>=0.29.0->qiskit-serverless~=0.24.0) (2.5.0)\n",
      "Requirement already satisfied: requests-ntlm>=1.1.0 in /home/picalexs/.local/lib/python3.10/site-packages (from qiskit-ibm-runtime<1,>=0.29.0->qiskit-serverless~=0.24.0) (1.3.0)\n",
      "Requirement already satisfied: pydantic>=2.5.0 in /home/picalexs/.local/lib/python3.10/site-packages (from qiskit-ibm-runtime<1,>=0.29.0->qiskit-serverless~=0.24.0) (2.11.7)\n",
      "Requirement already satisfied: msgpack<2.0.0,>=1.0.0 in /home/picalexs/.local/lib/python3.10/site-packages (from ray[default]<3,>=2.30->qiskit-serverless~=0.24.0) (1.1.1)\n",
      "Requirement already satisfied: pyyaml in /usr/lib/python3/dist-packages (from ray[default]<3,>=2.30->qiskit-serverless~=0.24.0) (5.4.1)\n",
      "Requirement already satisfied: filelock in /home/picalexs/.local/lib/python3.10/site-packages (from ray[default]<3,>=2.30->qiskit-serverless~=0.24.0) (3.18.0)\n",
      "Requirement already satisfied: jsonschema in /home/picalexs/.local/lib/python3.10/site-packages (from ray[default]<3,>=2.30->qiskit-serverless~=0.24.0) (4.24.0)\n",
      "Requirement already satisfied: click>=7.0 in /usr/lib/python3/dist-packages (from ray[default]<3,>=2.30->qiskit-serverless~=0.24.0) (8.0.3)\n",
      "Requirement already satisfied: opencensus in /home/picalexs/.local/lib/python3.10/site-packages (from ray[default]<3,>=2.30->qiskit-serverless~=0.24.0) (0.11.4)\n",
      "Requirement already satisfied: py-spy>=0.2.0 in /home/picalexs/.local/lib/python3.10/site-packages (from ray[default]<3,>=2.30->qiskit-serverless~=0.24.0) (0.4.0)\n",
      "Requirement already satisfied: colorful in /home/picalexs/.local/lib/python3.10/site-packages (from ray[default]<3,>=2.30->qiskit-serverless~=0.24.0) (0.5.7)\n",
      "Requirement already satisfied: aiohttp_cors in /home/picalexs/.local/lib/python3.10/site-packages (from ray[default]<3,>=2.30->qiskit-serverless~=0.24.0) (0.8.1)\n",
      "Requirement already satisfied: prometheus_client>=0.7.1 in /home/picalexs/.local/lib/python3.10/site-packages (from ray[default]<3,>=2.30->qiskit-serverless~=0.24.0) (0.22.1)\n",
      "Requirement already satisfied: virtualenv!=20.21.1,>=20.0.24 in /home/picalexs/.local/lib/python3.10/site-packages (from ray[default]<3,>=2.30->qiskit-serverless~=0.24.0) (20.31.2)\n",
      "Requirement already satisfied: opentelemetry-exporter-prometheus in /home/picalexs/.local/lib/python3.10/site-packages (from ray[default]<3,>=2.30->qiskit-serverless~=0.24.0) (0.54b0)\n",
      "Requirement already satisfied: smart_open in /home/picalexs/.local/lib/python3.10/site-packages (from ray[default]<3,>=2.30->qiskit-serverless~=0.24.0) (7.3.0.post1)\n",
      "Requirement already satisfied: idna<4,>=2.5 in /usr/lib/python3/dist-packages (from requests<3,>=2.32.2->qiskit-serverless~=0.24.0) (3.3)\n",
      "Requirement already satisfied: charset-normalizer<4,>=2 in /home/picalexs/.local/lib/python3.10/site-packages (from requests<3,>=2.32.2->qiskit-serverless~=0.24.0) (3.4.2)\n",
      "Requirement already satisfied: aiobotocore<3.0.0,>=2.5.4 in /home/picalexs/.local/lib/python3.10/site-packages (from s3fs>=2023.6.0->qiskit-serverless~=0.24.0) (2.23.1)\n",
      "Requirement already satisfied: fsspec==2025.7.0 in /home/picalexs/.local/lib/python3.10/site-packages (from s3fs>=2023.6.0->qiskit-serverless~=0.24.0) (2025.7.0)\n",
      "Requirement already satisfied: pbr>=2.0.0 in /home/picalexs/.local/lib/python3.10/site-packages (from stevedore>=3.0.0->qiskit[visualization]~=2.1.0) (6.1.0)\n",
      "Requirement already satisfied: mpmath<1.4,>=1.1.0 in /home/picalexs/.local/lib/python3.10/site-packages (from sympy>=1.3->qiskit[visualization]~=2.1.0) (1.3.0)\n",
      "Requirement already satisfied: botocore<1.38.47,>=1.38.40 in /home/picalexs/.local/lib/python3.10/site-packages (from aiobotocore<3.0.0,>=2.5.4->s3fs>=2023.6.0->qiskit-serverless~=0.24.0) (1.38.46)\n",
      "Requirement already satisfied: aioitertools<1.0.0,>=0.5.1 in /home/picalexs/.local/lib/python3.10/site-packages (from aiobotocore<3.0.0,>=2.5.4->s3fs>=2023.6.0->qiskit-serverless~=0.24.0) (0.12.0)\n",
      "Requirement already satisfied: jmespath<2.0.0,>=0.7.1 in /home/picalexs/.local/lib/python3.10/site-packages (from aiobotocore<3.0.0,>=2.5.4->s3fs>=2023.6.0->qiskit-serverless~=0.24.0) (1.0.1)\n",
      "Requirement already satisfied: ibm_cloud_sdk_core<4.0.0,>=3.24.1 in /home/picalexs/.local/lib/python3.10/site-packages (from ibm-platform-services>=0.22.6->qiskit-ibm-runtime<1,>=0.29.0->qiskit-serverless~=0.24.0) (3.24.1)\n",
      "Requirement already satisfied: parso<0.9.0,>=0.8.4 in /home/picalexs/.local/lib/python3.10/site-packages (from jedi>=0.16->ipython<9,>=8.10.0->qiskit-serverless~=0.24.0) (0.8.4)\n",
      "Requirement already satisfied: wcwidth in /home/picalexs/.local/lib/python3.10/site-packages (from prompt_toolkit<3.1.0,>=3.0.41->ipython<9,>=8.10.0->qiskit-serverless~=0.24.0) (0.2.13)\n",
      "Requirement already satisfied: annotated-types>=0.6.0 in /home/picalexs/.local/lib/python3.10/site-packages (from pydantic>=2.5.0->qiskit-ibm-runtime<1,>=0.29.0->qiskit-serverless~=0.24.0) (0.7.0)\n",
      "Requirement already satisfied: typing-inspection>=0.4.0 in /home/picalexs/.local/lib/python3.10/site-packages (from pydantic>=2.5.0->qiskit-ibm-runtime<1,>=0.29.0->qiskit-serverless~=0.24.0) (0.4.1)\n",
      "Requirement already satisfied: pydantic-core==2.33.2 in /home/picalexs/.local/lib/python3.10/site-packages (from pydantic>=2.5.0->qiskit-ibm-runtime<1,>=0.29.0->qiskit-serverless~=0.24.0) (2.33.2)\n",
      "Requirement already satisfied: cryptography>=1.3 in /usr/lib/python3/dist-packages (from requests-ntlm>=1.1.0->qiskit-ibm-runtime<1,>=0.29.0->qiskit-serverless~=0.24.0) (3.4.8)\n",
      "Requirement already satisfied: pyspnego>=0.4.0 in /home/picalexs/.local/lib/python3.10/site-packages (from requests-ntlm>=1.1.0->qiskit-ibm-runtime<1,>=0.29.0->qiskit-serverless~=0.24.0) (0.11.2)\n",
      "Requirement already satisfied: platformdirs<5,>=3.9.1 in /home/picalexs/.local/lib/python3.10/site-packages (from virtualenv!=20.21.1,>=20.0.24->ray[default]<3,>=2.30->qiskit-serverless~=0.24.0) (4.3.8)\n",
      "Requirement already satisfied: distlib<1,>=0.3.7 in /home/picalexs/.local/lib/python3.10/site-packages (from virtualenv!=20.21.1,>=20.0.24->ray[default]<3,>=2.30->qiskit-serverless~=0.24.0) (0.4.0)\n",
      "Requirement already satisfied: jsonschema-specifications>=2023.03.6 in /home/picalexs/.local/lib/python3.10/site-packages (from jsonschema->ray[default]<3,>=2.30->qiskit-serverless~=0.24.0) (2025.4.1)\n",
      "Requirement already satisfied: rpds-py>=0.7.1 in /home/picalexs/.local/lib/python3.10/site-packages (from jsonschema->ray[default]<3,>=2.30->qiskit-serverless~=0.24.0) (0.26.0)\n",
      "Requirement already satisfied: referencing>=0.28.4 in /home/picalexs/.local/lib/python3.10/site-packages (from jsonschema->ray[default]<3,>=2.30->qiskit-serverless~=0.24.0) (0.36.2)\n",
      "Requirement already satisfied: google-api-core<3.0.0,>=1.0.0 in /home/picalexs/.local/lib/python3.10/site-packages (from opencensus->ray[default]<3,>=2.30->qiskit-serverless~=0.24.0) (2.25.1)\n",
      "Requirement already satisfied: opencensus-context>=0.1.3 in /home/picalexs/.local/lib/python3.10/site-packages (from opencensus->ray[default]<3,>=2.30->qiskit-serverless~=0.24.0) (0.1.3)\n",
      "Requirement already satisfied: asttokens>=2.1.0 in /home/picalexs/.local/lib/python3.10/site-packages (from stack_data->ipython<9,>=8.10.0->qiskit-serverless~=0.24.0) (3.0.0)\n",
      "Requirement already satisfied: executing>=1.2.0 in /home/picalexs/.local/lib/python3.10/site-packages (from stack_data->ipython<9,>=8.10.0->qiskit-serverless~=0.24.0) (2.2.0)\n",
      "Requirement already satisfied: pure-eval in /home/picalexs/.local/lib/python3.10/site-packages (from stack_data->ipython<9,>=8.10.0->qiskit-serverless~=0.24.0) (0.2.3)\n",
      "Requirement already satisfied: proto-plus<2.0.0,>=1.22.3 in /home/picalexs/.local/lib/python3.10/site-packages (from google-api-core<3.0.0,>=1.0.0->opencensus->ray[default]<3,>=2.30->qiskit-serverless~=0.24.0) (1.26.1)\n",
      "Requirement already satisfied: google-auth<3.0.0,>=2.14.1 in /home/picalexs/.local/lib/python3.10/site-packages (from google-api-core<3.0.0,>=1.0.0->opencensus->ray[default]<3,>=2.30->qiskit-serverless~=0.24.0) (2.40.3)\n",
      "Requirement already satisfied: PyJWT<3.0.0,>=2.8.0 in /home/picalexs/.local/lib/python3.10/site-packages (from ibm_cloud_sdk_core<4.0.0,>=3.24.1->ibm-platform-services>=0.22.6->qiskit-ibm-runtime<1,>=0.29.0->qiskit-serverless~=0.24.0) (2.10.1)\n",
      "Requirement already satisfied: cachetools<6.0,>=2.0.0 in /home/picalexs/.local/lib/python3.10/site-packages (from google-auth<3.0.0,>=2.14.1->google-api-core<3.0.0,>=1.0.0->opencensus->ray[default]<3,>=2.30->qiskit-serverless~=0.24.0) (5.5.2)\n",
      "Requirement already satisfied: pyasn1-modules>=0.2.1 in /home/picalexs/.local/lib/python3.10/site-packages (from google-auth<3.0.0,>=2.14.1->google-api-core<3.0.0,>=1.0.0->opencensus->ray[default]<3,>=2.30->qiskit-serverless~=0.24.0) (0.4.2)\n",
      "Requirement already satisfied: rsa<5,>=3.1.4 in /home/picalexs/.local/lib/python3.10/site-packages (from google-auth<3.0.0,>=2.14.1->google-api-core<3.0.0,>=1.0.0->opencensus->ray[default]<3,>=2.30->qiskit-serverless~=0.24.0) (4.9.1)\n",
      "Requirement already satisfied: pyasn1<0.7.0,>=0.6.1 in /home/picalexs/.local/lib/python3.10/site-packages (from pyasn1-modules>=0.2.1->google-auth<3.0.0,>=2.14.1->google-api-core<3.0.0,>=1.0.0->opencensus->ray[default]<3,>=2.30->qiskit-serverless~=0.24.0) (0.6.1)\n",
      "Installing collected packages: threadpoolctl, joblib, scikit-learn, imbalanced-learn, qiskit-serverless, qiskit-ibm-catalog\n",
      "  Attempting uninstall: qiskit-serverless\n",
      "    Found existing installation: qiskit-serverless 0.25.1\n",
      "    Uninstalling qiskit-serverless-0.25.1:\n",
      "      Successfully uninstalled qiskit-serverless-0.25.1\n",
      "  Attempting uninstall: qiskit-ibm-catalog\n",
      "    Found existing installation: qiskit-ibm-catalog 0.9.0\n",
      "    Uninstalling qiskit-ibm-catalog-0.9.0:\n",
      "      Successfully uninstalled qiskit-ibm-catalog-0.9.0\n",
      "Successfully installed imbalanced-learn-0.12.4 joblib-1.5.1 qiskit-ibm-catalog-0.8.0 qiskit-serverless-0.24.0 scikit-learn-1.5.2 threadpoolctl-3.6.0\n",
      "Note: you may need to restart the kernel to use updated packages.\n"
     ]
    }
   ],
   "source": [
    "# Install dependencies\n",
    "%pip install \"qc-grader[qiskit,jupyter] @ git+https://github.com/qiskit-community/Quantum-Challenge-Grader.git\"\n",
    "%pip install \"qiskit[visualization]~=2.1.0\" \"qiskit-serverless~=0.24.0\" \"qiskit-ibm-catalog~=0.8.0\" \"scikit-learn==1.5.2\" \"pandas>=2.0.0,<3.0.0\" \"imbalanced-learn~=0.12.3\""
   ]
  },
  {
   "cell_type": "code",
   "execution_count": 2,
   "id": "0c736bc9",
   "metadata": {},
   "outputs": [
    {
     "name": "stdout",
     "output_type": "stream",
     "text": [
      "Grader version: 0.22.12\n"
     ]
    }
   ],
   "source": [
    "import qc_grader\n",
    "\n",
    "print(f\"Grader version: {qc_grader.__version__}\")"
   ]
  },
  {
   "cell_type": "markdown",
   "id": "fafb5664",
   "metadata": {},
   "source": [
    "You should have Grader `>=0.22.11`. If you see a lower version, you need to restart your kernel and reinstall the grader."
   ]
  },
  {
   "cell_type": "code",
   "execution_count": 3,
   "id": "7be03466-6b0e-4f79-9998-47923c7133af",
   "metadata": {},
   "outputs": [],
   "source": [
    "# Imports\n",
    "\n",
    "import sys\n",
    "import os\n",
    "import tarfile\n",
    "import time\n",
    "import numpy as np\n",
    "import pandas as pd\n",
    "import matplotlib.pyplot as plt\n",
    "from qiskit_serverless import IBMServerlessClient, QiskitFunction\n",
    "from typing import Tuple\n",
    "from sklearn.model_selection import train_test_split\n",
    "from imblearn.over_sampling import RandomOverSampler\n",
    "from sklearn.metrics import accuracy_score, f1_score, precision_score, recall_score\n",
    "from sklearn.ensemble import AdaBoostClassifier\n",
    "from grader import grade_exercise_1, grade_exercise_2, grade_exercise_3\n",
    "from qc_grader.challenges.qgss_2025 import grade_multiverse_function"
   ]
  },
  {
   "cell_type": "markdown",
   "id": "d888e7b0",
   "metadata": {},
   "source": [
    "<div class=\"alert alert-block alert-warning\">\n",
    "\n",
    "**Exclusive Access to Qiskit Functions**\n",
    "\n",
    "As part of Qiskit Global Summer School (QGSS), participants with a Premium or Flex Plan have limited-time trial access to Qiskit Functions. Access is exclusive and subject to your organization’s administrator approval. Complete [this form](https://airtable.com/appj8IrSNZGz4l4BB/pag8WgWdUr5uSJGZA/form) to request access.\n",
    "\n",
    "If you encounter the error `QiskitServerlessException: Credentials couldn't be verified`. in the cell below, it means your access to Qiskit Functions is not yet active. Please check back later after your request has been processed.\n",
    "\n",
    "**Note: Running this lab will consume QPU time from your organization’s account. Estimated QPU usage is provided before each cell that executes on a QPU. Please monitor your usage and consult your organization admin if you’re unsure about your allocated QPU time for QGSS Functions labs.**\n",
    "\n",
    "</div>"
   ]
  },
  {
   "cell_type": "markdown",
   "id": "0ced1098",
   "metadata": {},
   "source": [
    "# Initialize the 'Singularity Machine Learning - Classification' Function\n",
    "\n",
    "We will start by initializing the IBM Qiskit Serverless client and retrieve the function from the Multiverse Computing workspace. Qiskit Serverless offers a flexible and scalable way to run Qiskit programs without worrying about the underlying infrastructure. It allows you to offload complex quantum-classical workflows to the cloud, automatically managing resources across CPUs, GPUs, and QPUs. This makes it easier to focus on your algorithm logic while benefiting from remote, managed execution on the IBM Quantum Platform.\n",
    "\n",
    "By loading the 'Singularity Machine Learning - Classification' function, we gain access to a powerful quantum-enhanced classifier that can be used for hybrid workflows. This function encapsulates both classical and quantum components, allowing us to train, optimize, and predict with ensemble methods enhanced by quantum processing. For full details, please refer to our documentation: <https://docs.quantum.ibm.com/guides/multiverse-computing-singularity>.\n",
    "\n",
    "Let’s get started by connecting to the serverless environment and loading the function."
   ]
  },
  {
   "cell_type": "code",
   "execution_count": null,
   "id": "5afcc794",
   "metadata": {},
   "outputs": [
    {
     "name": "stdout",
     "output_type": "stream",
     "text": [
      "Using IBM Qiskit Serverless...\n",
      "\n"
     ]
    },
    {
     "data": {
      "text/plain": [
       "[QiskitFunction(qunova/hivqe-chemistry),\n",
       " QiskitFunction(global-data-quantum/quantum-portfolio-optimizer),\n",
       " QiskitFunction(algorithmiq/tem),\n",
       " QiskitFunction(qedma/qesem),\n",
       " QiskitFunction(multiverse/singularity),\n",
       " QiskitFunction(q-ctrl/optimization-solver),\n",
       " QiskitFunction(colibritd/quick-pde),\n",
       " QiskitFunction(q-ctrl/performance-management),\n",
       " QiskitFunction(kipu-quantum/iskay-quantum-optimizer)]"
      ]
     },
     "execution_count": 4,
     "metadata": {},
     "output_type": "execute_result"
    }
   ],
   "source": [
    "print(\"Using IBM Qiskit Serverless...\\n\")\n",
    "\n",
    "# Load the IBM Serverless Client\n",
    "your_api_key = \"deleteThisAndPasteYourAPIKeyHere\"\n",
    "your_crn = \"deleteThisAndPasteYourCRNHere\"\n",
    "\n",
    "client = IBMServerlessClient(\n",
    "    channel=\"ibm_quantum_platform\",\n",
    "    token=your_api_key,\n",
    "    instance=your_crn,\n",
    ")\n",
    "# You should see a list of Qiskit Functions available to you\n",
    "# If you encounter the error `QiskitServerlessException: Credentials couldn't be verified`,\n",
    "# it means your access is not yet active\n",
    "client.list()"
   ]
  },
  {
   "cell_type": "markdown",
   "id": "bf012b33",
   "metadata": {},
   "source": [
    "<div class=\"alert alert-block alert-success\">\n",
    "    \n",
    "<b> Load Qiskit Function</b>\n",
    "\n",
    "Find the correct function name from the list above, or refer to the [Qiskit Functions Catalog](https://quantum.cloud.ibm.com/functions) to locate the appropriate function name string. The name should follow the format: `\"[provider]/[title]\"`.\n",
    "\n",
    "</div>"
   ]
  },
  {
   "cell_type": "code",
   "execution_count": 5,
   "id": "bc3b277f",
   "metadata": {},
   "outputs": [],
   "source": [
    "# Load the Multiverse Singularity function\n",
    "\n",
    "function_name = \"multiverse/singularity\"  # TODO\n",
    "singularity = client.get(function_name)"
   ]
  },
  {
   "cell_type": "code",
   "execution_count": 6,
   "id": "859e3f9a",
   "metadata": {},
   "outputs": [
    {
     "name": "stdout",
     "output_type": "stream",
     "text": [
      "Submitting your answer. Please wait...\n",
      "Congratulations 🎉! Your answer is correct and has been submitted.\n"
     ]
    }
   ],
   "source": [
    "grade_multiverse_function(singularity)"
   ]
  },
  {
   "cell_type": "code",
   "execution_count": 7,
   "id": "0ca209ef-508d-4917-a4a7-e2c187817aab",
   "metadata": {},
   "outputs": [],
   "source": [
    "# Define static variables\n",
    "\n",
    "RANDOM_STATE: int = 123\n",
    "TRAIN_PATH = \"data/grid_stability/train.csv\"\n",
    "TEST_PATH = \"data/grid_stability/test.csv\""
   ]
  },
  {
   "cell_type": "markdown",
   "id": "ddbb1cc7-ff26-45e3-9da3-d14c9e04334e",
   "metadata": {},
   "source": [
    "# Define Helper Functions\n",
    "\n",
    "To streamline the workflow, we define a set of helper functions used for data handling and evaluation throughout this lab. These functions enable a smooth interface between local data processing and remote execution with Qiskit Serverless."
   ]
  },
  {
   "cell_type": "code",
   "execution_count": 9,
   "id": "1d0eb03d-d530-4da2-9314-f4305daded2e",
   "metadata": {},
   "outputs": [],
   "source": [
    "def load_data(data_path: str) -> Tuple[np.ndarray, np.ndarray]:\n",
    "    \"\"\"Load data from the given path to X and y arrays.\"\"\"\n",
    "    df: pd.DataFrame = pd.read_csv(data_path)\n",
    "    return df.iloc[:, :-1].values, df.iloc[:, -1].values\n",
    "\n",
    "\n",
    "def make_tarfile(file_path, tar_file_name):\n",
    "    \"\"\"Create a tar file from the given file.\"\"\"\n",
    "    with tarfile.open(tar_file_name, \"w\") as tar:\n",
    "        tar.add(file_path, arcname=os.path.basename(file_path))\n",
    "\n",
    "\n",
    "def upload_data(name: str, data: np.ndarray, client: IBMServerlessClient, function: QiskitFunction):\n",
    "    \"\"\"Save the data to a file, create a tar file, upload it, and remove the files.\"\"\"\n",
    "    np.save(name, data)\n",
    "    make_tarfile(name, f\"{name}.tar\")\n",
    "    client.file_upload(f\"{name}.tar\", function)\n",
    "\n",
    "    \n",
    "def evaluate_predictions(predictions, y_true, start_time=None, end_time=None):\n",
    "    accuracy = accuracy_score(y_true, predictions)\n",
    "    precision = precision_score(y_true, predictions)\n",
    "    recall = recall_score(y_true, predictions)\n",
    "    f1 = f1_score(y_true, predictions)\n",
    "    if start_time is not None and end_time is not None:\n",
    "        print(\"Time taken (s):\", end_time - start_time)\n",
    "    print(\"Accuracy:\", accuracy)\n",
    "    print(\"Precision:\", precision)\n",
    "    print(\"Recall:\", recall)\n",
    "    print(\"F1:\", f1)\n",
    "    return accuracy, precision, recall, f1"
   ]
  },
  {
   "cell_type": "markdown",
   "id": "11248574-3d1d-42c7-8cc2-df567361a3dd",
   "metadata": {},
   "source": [
    "# Load the Dataset \n",
    "\n",
    "Next, we load and preprocess the dataset used for training and evaluating our quantum-enhanced classifier. The dataset consists of labeled samples for a grid stability classification task, where the goal is to predict system stability based on sensor inputs.\n",
    "\n",
    "We begin by reading the training and test data from CSV files and then split the training set further to create a validation set. To address class imbalance—a common issue in real-world datasets—we apply random over-sampling to augment the minority class, ensuring that the classifier is not biased toward the dominant label.\n",
    "\n",
    "Once prepared, the datasets are serialized as NumPy arrays and uploaded to the Qiskit Serverless environment. This allows the remote 'Singularity Machine Learning - Classification' function to access and operate on the data during distributed execution."
   ]
  },
  {
   "cell_type": "code",
   "execution_count": 10,
   "id": "b65a37e9-85cd-444a-bffe-b0e5fe885aaf",
   "metadata": {
    "scrolled": true
   },
   "outputs": [],
   "source": [
    "# Load and upload the data\n",
    "X_train, y_train = load_data(TRAIN_PATH)\n",
    "X_test, y_test = load_data(TEST_PATH)\n",
    "X_train, X_val, y_train, y_val = train_test_split(\n",
    "    X_train, y_train, test_size=0.2, random_state=RANDOM_STATE\n",
    ")\n",
    "# Balance the dataset through over-sampling of the positive class\n",
    "ros = RandomOverSampler(random_state=RANDOM_STATE)\n",
    "X_train, y_train = ros.fit_resample(X_train, y_train)"
   ]
  },
  {
   "cell_type": "code",
   "execution_count": 11,
   "id": "2b4a1baf-ced0-4934-8d13-91c665525ec0",
   "metadata": {},
   "outputs": [
    {
     "name": "stdout",
     "output_type": "stream",
     "text": [
      "-- Uploading data --\n",
      "Data uploaded!\n",
      "\n"
     ]
    }
   ],
   "source": [
    "print(\"-- Uploading data --\")\n",
    "upload_data(\"grid_stability_X_train.npy\", X_train, client, singularity)\n",
    "upload_data(\"grid_stability_y_train.npy\", y_train, client, singularity)\n",
    "upload_data(\"grid_stability_X_test.npy\", X_test, client, singularity)\n",
    "print(\"Data uploaded!\\n\")"
   ]
  },
  {
   "cell_type": "markdown",
   "id": "b4d2d1a1-0943-486e-9b14-997d66b58666",
   "metadata": {},
   "source": [
    "# AdaBoostClassifier\n",
    "\n",
    "Now that the data is ready, let's begin by using the AdaBoostClassifier, a well-established ensemble method in classical machine learning. AdaBoost works by combining multiple weak learners into a single strong classifier, iteratively improving performance by focusing more on difficult-to-classify samples.\n",
    "\n",
    "In this lab, we train the AdaBoost model using the balanced training set and evaluate it on the test set. This provides a strong baseline for comparison with the quantum-enhanced classifier we'll use later. The number of estimators is set to 75 to allow the ensemble to generalize well without overfitting.\n",
    "\n",
    "After training, we generate predictions on the test set and compute key performance metrics—accuracy, precision, recall, and F1-score—to assess how well the model performs on this grid stability classification task."
   ]
  },
  {
   "cell_type": "code",
   "execution_count": 12,
   "id": "1678bce5-e4e4-4836-b8f1-37f332ce5157",
   "metadata": {},
   "outputs": [],
   "source": [
    "classifier = AdaBoostClassifier(n_estimators=75, random_state=RANDOM_STATE)\n",
    "classifier.fit(X_train, y_train)\n",
    "predictions = classifier.predict(X_test)"
   ]
  },
  {
   "cell_type": "code",
   "execution_count": 13,
   "id": "89cef1ac-af1c-4b7a-b313-0077afd5603a",
   "metadata": {},
   "outputs": [
    {
     "name": "stdout",
     "output_type": "stream",
     "text": [
      "Accuracy: 0.7853333333333333\n",
      "Precision: 1.0\n",
      "Recall: 0.7853333333333333\n",
      "F1: 0.8797610156833457\n"
     ]
    },
    {
     "data": {
      "text/plain": [
       "(0.7853333333333333,\n",
       " np.float64(1.0),\n",
       " np.float64(0.7853333333333333),\n",
       " np.float64(0.8797610156833457))"
      ]
     },
     "execution_count": 13,
     "metadata": {},
     "output_type": "execute_result"
    }
   ],
   "source": [
    "evaluate_predictions(predictions, y_test)"
   ]
  },
  {
   "cell_type": "markdown",
   "id": "70ff8fc5-90ec-42a2-91fa-71f0d507ec1d",
   "metadata": {},
   "source": [
    "# QuantumEnhancedEnsembleClassifier\n",
    "\n",
    "### Introduction\n",
    "\n",
    "The `QuantumEnhancedEnsembleClassifier` is a hybrid machine learning model from Multiverse Computing's 'Singularity Machine Learning - Classification' Function, combining classical ensemble methods—like boosting and bagging—with quantum optimization algorithms such as QAOA. Unlike classical ensembles, which become increasingly expensive to train as the number of learners grows, this quantum classifier demonstrates favorable scalability properties: training time remains comparatively stable as the number of learners (and thus qubits) increases. This makes it especially well-suited for problems that require large ensembles—where classical models tend to struggle with optimization costs that scale exponentially. Additionally, unlike traditional quantum models such as QSVMs, which are often constrained by dataset size, this classifier is designed to operate independently of the number of data points and features—limited primarily by available hardware infrastructure—making it well-suited for processing large-scale, high-dimensional datasets. As quantum hardware scales, so too will the accuracy and performance of this model—offering a compelling trajectory for future real-world quantum advantage. In this notebook, we demonstrate its use in both classical simulation and real quantum execution, showcasing its potential and flexibility.\n",
    "\n",
    "![Diagram](diagram.png)\n",
    "\n",
    "---\n",
    "\n",
    "## Understanding the Optimization Parameters\n",
    "\n",
    "To effectively use the `QuantumEnhancedEnsembleClassifier`, it's important to understand the role of several key parameters that influence model training and optimization. Please refer to the [documentation](https://docs.quantum.ibm.com/guides/multiverse-computing-singularity) for details on the usage and parameters for this function. \n",
    "\n",
    "Some of the key parameters, also used in this lab, are explained below:\n",
    "\n",
    "- **`regularization`**  \n",
    "  This parameter controls the complexity of the final ensemble. A higher value penalizes large or complex learner combinations, promoting simpler models and reducing the risk of overfitting. \n",
    "\n",
    "- **`num_solutions`**  \n",
    "  Defines the number of candidate ensemble configurations that the optimizer evaluates. Higher values lead to more exhaustive searches and can uncover better-performing ensembles, but at the cost of increased runtime. For demonstration, values around `100,000` balance exploration and performance.\n",
    "\n",
    "- **`simulator`**  \n",
    "  Setting this to `True` enables classical optimization—faster and well-suited for quick experimentation but does not benefit from the scalability advantages of quantum computation. Setting it to `False` activates quantum optimization via QAOA, ideal for larger ensembles.\n",
    "\n",
    "- **`classical_optimizer_options`**  \n",
    "  These options define the behavior of the underlying classical optimizer used in QAOA. For instance, `{\"maxiter\": 10}` limits the number of optimization iterations—useful for short demos, but convergence usually improves with `60+` iterations in real applications.\n",
    "\n",
    "These parameters give you flexibility to balance speed, accuracy, and compute resource use. In the following sections, you'll experiment with both classical and quantum setups to see these trade-offs in action.\n"
   ]
  },
  {
   "cell_type": "markdown",
   "id": "2f72e8b3-9e7a-41ab-a6b0-de00c0547697",
   "metadata": {},
   "source": [
    "# Part 1: Simulated Quantum Classifier\n",
    "\n",
    "### Execute the Job\n",
    "\n",
    "Now let’s begin experimenting with the `QuantumEnhancedEnsembleClassifier` provided by the Singularity Qiskit Function. This classifier integrates classical ensemble learning with quantum-inspired optimization to intelligently combine multiple learners.\n",
    "\n",
    "In this exercise, we configure the model to use classical optimization using our simulator. This allows you to test the optimization logic without invoking real quantum hardware. For demonstration purposes, we set `num_learners` to `15`, which controls how many weak learners the ensemble will combine. Note that the simulator mode is not designed for scalability—larger values of `num_learners` may significantly increase runtime or hit performance limits.\n",
    "\n",
    "This setup provides a quick, low-cost way to validate the workflow and gain insights into the expected performance before scaling up with quantum optimization.\n"
   ]
  },
  {
   "cell_type": "markdown",
   "id": "626fb97a-a5e1-4c30-b313-8ba9914107f0",
   "metadata": {},
   "source": [
    "<div class=\"alert alert-block alert-success\">\n",
    "  <strong>Exercise 1:</strong>  \n",
    "  Fill in the <code>#TODO</code> sections to enable the simulator for classical optimization.\n",
    "</div>"
   ]
  },
  {
   "cell_type": "markdown",
   "id": "c95c95ba-8d72-4353-be44-cf1211d14e88",
   "metadata": {},
   "source": [
    "<div class=\"alert alert-block alert-info\">\n",
    "  <strong>💡 Tip:</strong> Refer to the documentation \n",
    "  <a href=\"https://docs.quantum.ibm.com/guides/multiverse-computing-singularity\" target=\"_blank\">here</a> on how to enable the simulator.\n",
    "</div>"
   ]
  },
  {
   "cell_type": "markdown",
   "id": "f381f005",
   "metadata": {},
   "source": [
    "<div class=\"alert alert-block alert-warning\">\n",
    "  <strong>⚠️ Warning:</strong> Use a simulator for this exercise to avoid consuming QPU time.\n",
    "</div>"
   ]
  },
  {
   "cell_type": "code",
   "execution_count": 14,
   "id": "f75ad675-1458-4a45-b285-8b9b699a09fa",
   "metadata": {},
   "outputs": [],
   "source": [
    "optimizer_options_ex1 = {\n",
    "    ### TODO: Write your code below here ###\n",
    "    \"simulator\": True,\n",
    "    ### Don't change any code past this line ###\n",
    "    \"num_solutions\": 100000,\n",
    "}"
   ]
  },
  {
   "cell_type": "code",
   "execution_count": 15,
   "id": "0d538220-5bd5-4660-8a0b-2defe2b03e52",
   "metadata": {},
   "outputs": [
    {
     "name": "stdout",
     "output_type": "stream",
     "text": [
      "✅ Exercise 1 solution is correct!\n"
     ]
    }
   ],
   "source": [
    "grade_exercise_1(optimizer_options_ex1)"
   ]
  },
  {
   "cell_type": "code",
   "execution_count": 16,
   "id": "b56a4247-8ab0-49b6-aca1-d32816dd6040",
   "metadata": {},
   "outputs": [
    {
     "name": "stdout",
     "output_type": "stream",
     "text": [
      "-- Creating, fitting, and predicting --\n"
     ]
    }
   ],
   "source": [
    "# Create, fit, and predict\n",
    "print(\"-- Creating, fitting, and predicting --\")\n",
    "start = time.time()\n",
    "job = singularity.run(\n",
    "    action=\"create_fit_predict\",\n",
    "    name=\"classifier_for_grid_stability\",\n",
    "    quantum_classifier=\"QuantumEnhancedEnsembleClassifier\",\n",
    "    num_learners=15, \n",
    "    regularization=15,\n",
    "    optimizer_options=optimizer_options_ex1,\n",
    "    backend_name= None, \n",
    "    instance=your_crn,\n",
    "    random_state=RANDOM_STATE,\n",
    "    X_train=\"grid_stability_X_train.npy\",\n",
    "    y_train=\"grid_stability_y_train.npy\",\n",
    "    X_test=\"grid_stability_X_test.npy\",\n",
    "    fit_params={\n",
    "        \"validation_data\": (X_val, y_val),\n",
    "    },\n",
    "    options={\n",
    "        \"save\": False,\n",
    "    }\n",
    ")"
   ]
  },
  {
   "cell_type": "markdown",
   "id": "bc7455a7-d994-461e-8d39-b8925f88d3b6",
   "metadata": {},
   "source": [
    "### Monitor Job Execution\n",
    "\n",
    "Now that the job has been submitted, we can print `job` to save the JobID, and monitor the status of the execution using `job.status()`. The cell can be re-ran again to ping for the latest status. If the job fails, we can obtain information about the reason it did so using `job.error_message()`. \n",
    "\n"
   ]
  },
  {
   "cell_type": "code",
   "execution_count": 17,
   "id": "7c4d238e-8aeb-47af-97cc-70589bd6bbf1",
   "metadata": {},
   "outputs": [
    {
     "data": {
      "text/plain": [
       "<Job | 3adb5e46-aa3e-4d0c-8bb6-76787dd9cda1>"
      ]
     },
     "execution_count": 17,
     "metadata": {},
     "output_type": "execute_result"
    }
   ],
   "source": [
    "job"
   ]
  },
  {
   "cell_type": "code",
   "execution_count": 30,
   "id": "efcb8447-9fbc-4e0a-a08b-8e668f1008f4",
   "metadata": {},
   "outputs": [
    {
     "data": {
      "text/plain": [
       "'DONE'"
      ]
     },
     "execution_count": 30,
     "metadata": {},
     "output_type": "execute_result"
    }
   ],
   "source": [
    "job.status()"
   ]
  },
  {
   "cell_type": "code",
   "execution_count": 19,
   "id": "9aa6e435-8447-4ac5-8c83-17f7a99ca113",
   "metadata": {},
   "outputs": [
    {
     "name": "stdout",
     "output_type": "stream",
     "text": [
      "\n"
     ]
    }
   ],
   "source": [
    "error_message = job.error_message()\n",
    "print(error_message)"
   ]
  },
  {
   "cell_type": "markdown",
   "id": "8c871230-39c9-4f0a-934b-b5f849e42cc1",
   "metadata": {},
   "source": [
    "### Retrieve and Analyze the Results\n",
    "\n",
    "Once the job has been submitted and completed, we can retrieve the results using `job.result()`. We can then evaluate the results using our previously defined helper function and ensure it matches our expectation."
   ]
  },
  {
   "cell_type": "code",
   "execution_count": 31,
   "id": "1fa3df38-30f5-4c8d-b96c-0278e56b5e13",
   "metadata": {
    "scrolled": true
   },
   "outputs": [
    {
     "name": "stdout",
     "output_type": "stream",
     "text": [
      "Job status:  DONE\n",
      "Error message:  \n",
      "Action status:  ok\n",
      "Action message:  Classifier created, fitted, and predicted.\n",
      "Action result:  {'predictions': [1, 1, 1, 1, 1, 1, 1, 1, 1, 1, 1, 1, 1, 1, 1, 1, 1, 1, 1, 1, 1, 1, 1, 0, 1, 1, 1, 1, 1, 1, 1, 1, 0, 1, 1, 1, 1, 1, 1, 1, 1, 1, 1, 1, 1, 1, 1, 1, 1, 1, 1, 1, 0, 1, 1, 1, 1, 1, 1, 1, 1, 0, 1, 1, 1, 0, 1, 1, 1, 1, 0, 1, 0, 1, 1, 1, 1, 0, 1, 1, 1, 1, 1, 1, 1, 1, 1, 1, 1, 0, 1, 1, 1, 1, 1, 1, 1, 1, 1, 1, 1, 1, 0, 1, 1, 1, 0, 1, 0, 1, 0, 1, 1, 1, 1, 1, 1, 1, 1, 1, 1, 1, 1, 1, 1, 0, 1, 1, 1, 1, 1, 1, 1, 1, 1, 1, 1, 1, 1, 1, 0, 1, 1, 1, 1, 1, 1, 0, 1, 1, 0, 1, 1, 1, 1, 1, 1, 1, 1, 1, 0, 0, 1, 1, 1, 1, 1, 1, 1, 1, 1, 1, 1, 1, 1, 1, 1, 1, 1, 1, 1, 1, 1, 1, 1, 1, 1, 1, 1, 0, 1, 1, 1, 0, 1, 1, 1, 0, 1, 1, 1, 1, 1, 1, 0, 1, 1, 0, 1, 1, 1, 1, 1, 0, 1, 1, 1, 1, 1, 1, 1, 1, 1, 1, 1, 1, 1, 1, 1, 1, 0, 1, 1, 1, 1, 1, 1, 0, 1, 1, 1, 0, 0, 1, 1, 0, 1, 1, 1, 1, 1, 1, 1, 1, 1, 1, 1, 1, 1, 1, 0, 1, 1, 0, 1, 1, 1, 1, 0, 0, 0, 1, 1, 1, 1, 1, 0, 1, 0, 1, 1, 1, 1, 1, 0, 1, 1, 1, 1, 1, 0, 1, 1, 1, 1, 1, 1, 0, 1, 0, 1, 1, 1, 1, 1, 1, 1, 1, 1, 1, 1, 1, 1, 0, 1, 0, 1, 1, 1, 1, 1, 1, 1, 1, 1, 1, 1, 1, 1, 1, 0, 0, 1, 1, 1, 1, 1, 1, 1, 1, 1, 1, 1, 1, 1, 1, 0, 1, 1, 1, 1, 1, 1, 1, 1, 1, 1, 0, 1, 1, 1, 1, 1, 1, 0, 1, 1, 1, 1, 1, 1, 1, 1, 1, 1, 1, 1, 1, 1, 1, 1, 1, 1, 1, 1, 1, 1, 1, 1, 1, 1, 1, 0, 1, 1, 1, 1, 1, 1, 1, 1, 1, 1, 1, 1, 1, 1, 1, 1, 1, 1, 1, 1, 1, 1, 1, 1, 1, 1, 0, 0, 1, 1, 1, 0, 1, 1, 1, 1, 1, 1, 1, 1, 1, 1, 1, 0, 1, 1, 1, 0, 0, 0, 1, 1, 0, 1, 1, 1, 1, 1, 1, 1, 1, 1, 0, 1, 1, 1, 1, 1, 1, 1, 1, 1, 1, 1, 1, 1, 1, 1, 1, 1, 1, 1, 1, 1, 1, 1, 0, 1, 1, 0, 1, 0, 0, 1, 1, 1, 1, 1, 1, 0, 1, 1, 1, 1, 1, 1, 1, 0, 1, 1, 1, 0, 1, 1, 1, 0, 0, 1, 1, 1, 1, 1, 1, 1, 1, 1, 1, 1, 1, 1, 1, 1, 1, 1, 1, 1, 0, 1, 1, 1, 1, 1, 1, 1, 1, 1, 1, 1, 1, 0, 0, 1, 0, 1, 1, 1, 1, 0, 0, 0, 1, 1, 0, 1, 1, 1, 1, 0, 1, 1, 1, 0, 1, 1, 1, 1, 1, 1, 1, 1, 1, 1, 1, 1, 1, 1, 1, 0, 1, 1, 1, 0, 1, 0, 1, 1, 1, 1, 1, 1, 1, 1, 1, 1, 0, 0, 1, 1, 1, 1, 1, 1, 1, 1, 0, 1, 1, 1, 1, 1, 1, 1, 1, 0, 1, 1, 1, 1, 1, 1, 1, 1, 1, 1, 1, 1, 1, 1, 1, 1, 1, 1, 1, 1, 1, 1, 1, 1, 0, 1, 1, 1, 1, 1, 1, 1, 1, 1, 1, 1, 1, 1, 1, 0, 1, 1, 1, 1, 1, 1, 1, 1, 1, 1, 1, 1, 0, 0, 1, 0, 1, 1, 1, 1, 1, 1, 1, 1, 1, 1, 1, 1, 1, 1, 1, 1, 0, 1, 1, 1, 0, 1, 1, 1, 1, 1, 1, 1, 1, 1, 1, 1, 1, 1, 1, 1, 1, 1, 0, 1, 1, 1, 1, 0, 1, 1, 0, 1, 1, 1, 1, 1, 1, 1, 1, 0, 1, 1, 1, 1, 1, 1, 1, 1, 1, 1, 1, 1, 1, 0, 1, 1, 1, 1, 0, 0, 1], 'probabilities': [[0.3787638612838799, 0.6212361387161197], [0.4805183054276834, 0.5194816945723166], [0.44182648319529066, 0.558173516804709], [0.49698192858323503, 0.5030180714167654], [0.49139451125634825, 0.5086054887436509], [0.4135065050592364, 0.5864934949407641], [0.28202623723455134, 0.7179737627654499], [0.4613880540935157, 0.5386119459064843], [0.24918565407996557, 0.7508143459200343], [0.4717781941256787, 0.5282218058743219], [0.36850415367478195, 0.6314958463252175], [0.48851432969614544, 0.5114856703038551], [0.3470540835466359, 0.6529459164533642], [0.47080556256459855, 0.5291944374354012], [0.4604394656672428, 0.5395605343327557], [0.32437104712695436, 0.6756289528730459], [0.41635371439322455, 0.5836462856067755], [0.45702520975403166, 0.5429747902459678], [0.42812695614690255, 0.5718730438530978], [0.35241585193402597, 0.6475841480659741], [0.49066359035716345, 0.5093364096428367], [0.450115251641035, 0.5498847483589654], [0.4427232439768091, 0.5572767560231907], [0.5098129540444196, 0.49018704595558127], [0.40043819709296724, 0.5995618029070333], [0.33416402894523173, 0.6658359710547691], [0.47014942083365246, 0.5298505791663468], [0.4492565317105566, 0.5507434682894441], [0.41852380913733195, 0.5814761908626686], [0.4835122854439785, 0.5164877145560206], [0.3837706251224924, 0.6162293748775085], [0.4598680684435319, 0.5401319315564682], [0.5101808349234649, 0.48981916507653483], [0.3574717729851941, 0.642528227014807], [0.4706538158266676, 0.5293461841733326], [0.3408880624330322, 0.659111937566969], [0.34070816994358233, 0.6592918300564177], [0.40509981606836865, 0.5949001839316311], [0.4352125251534229, 0.5647874748465765], [0.3397669083369223, 0.6602330916630778], [0.4289235566073442, 0.5710764433926548], [0.37964350816084924, 0.6203564918391501], [0.4118445753732073, 0.5881554246267926], [0.45119093060153265, 0.5488090693984664], [0.4489386639350971, 0.5510613360649015], [0.43396358261417833, 0.5660364173858227], [0.41850577119882626, 0.5814942288011725], [0.4340048582197838, 0.5659951417802171], [0.425175942098645, 0.5748240579013549], [0.46380262002164313, 0.5361973799783561], [0.3920998353564692, 0.6079001646435302], [0.4060841294485492, 0.5939158705514506], [0.5000696419383492, 0.49993035806164954], [0.34898514783265816, 0.6510148521673403], [0.4122726526434027, 0.5877273473565968], [0.4175814121919586, 0.582418587808042], [0.45342678395884634, 0.5465732160411539], [0.42576043187914364, 0.5742395681208573], [0.42429236984816754, 0.5757076301518327], [0.4279938092008402, 0.5720061907991585], [0.4635245640929427, 0.5364754359070569], [0.5243599420576458, 0.47564005794235403], [0.4375750830564134, 0.5624249169435867], [0.47211710085943104, 0.5278828991405673], [0.37314734555554746, 0.6268526544444525], [0.5540491971532087, 0.44595080284679206], [0.3780016706613199, 0.621998329338681], [0.24432270944140538, 0.7556772905585947], [0.46045788497454, 0.5395421150254602], [0.4103213073556441, 0.5896786926443566], [0.5116161350678861, 0.48838386493211366], [0.49428175339897007, 0.5057182466010303], [0.6052375651004872, 0.394762434899513], [0.4673160066516867, 0.5326839933483127], [0.47825438424587047, 0.5217456157541283], [0.4276927551301077, 0.5723072448698924], [0.45821496281648655, 0.5417850371835125], [0.5007314288236276, 0.49926857117637247], [0.395270877805565, 0.6047291221944343], [0.2502837463012337, 0.749716253698767], [0.42114037267891324, 0.578859627321086], [0.4356560535754945, 0.5643439464245047], [0.4501058679156334, 0.549894132084366], [0.4154950333682889, 0.5845049666317104], [0.39701630774806534, 0.6029836922519338], [0.3582403516560286, 0.6417596483439723], [0.39751365127625127, 0.6024863487237477], [0.3487085051191478, 0.6512914948808519], [0.3155924174022958, 0.6844075825977051], [0.5276384761224546, 0.4723615238775454], [0.4732138880228173, 0.5267861119771827], [0.39288310350053895, 0.6071168964994612], [0.3959218370403157, 0.6040781629596854], [0.406767915618649, 0.5932320843813516], [0.4972707721171826, 0.5027292278828186], [0.4422456540537716, 0.5577543459462287], [0.455736601227754, 0.5442633987722447], [0.33009424008975896, 0.6699057599102403], [0.4316297294661087, 0.5683702705338909], [0.3731192366182029, 0.6268807633817964], [0.3711162595636373, 0.6288837404363629], [0.4306418478269686, 0.5693581521730315], [0.5244427884392099, 0.47555721156079045], [0.40567293366172635, 0.5943270663382749], [0.4351161203285009, 0.5648838796714993], [0.4642972166455425, 0.5357027833544581], [0.5168584562959554, 0.4831415437040441], [0.39277381806492945, 0.6072261819350709], [0.5021264068498809, 0.4978735931501198], [0.4417809560262375, 0.5582190439737622], [0.5040097795783883, 0.49599022042161045], [0.35315386087237105, 0.6468461391276282], [0.404608953150633, 0.5953910468493668], [0.4572461953581077, 0.5427538046418933], [0.3924791948516141, 0.6075208051483855], [0.3175840603029108, 0.6824159396970899], [0.39993951610132766, 0.6000604838986724], [0.43313491756812933, 0.5668650824318695], [0.29859460071581184, 0.7014053992841877], [0.4585070938183511, 0.5414929061816485], [0.3540903625756433, 0.645909637424356], [0.35332952249441235, 0.6466704775055874], [0.32763248816354623, 0.672367511836453], [0.474862593935353, 0.5251374060646473], [0.4952009428868939, 0.504799057113107], [0.5353188997255316, 0.4646811002744689], [0.46779216173476196, 0.5322078382652378], [0.46531780822834107, 0.534682191771658], [0.3271564877013052, 0.6728435122986952], [0.3254071393096041, 0.6745928606903959], [0.43338984077184595, 0.5666101592281526], [0.4433828065414363, 0.5566171934585639], [0.4480027095439796, 0.55199729045602], [0.49085554386787084, 0.5091444561321299], [0.4598680684435319, 0.5401319315564682], [0.3806498747822789, 0.6193501252177217], [0.4368632805078066, 0.5631367194921929], [0.38503312053820504, 0.6149668794617948], [0.4798270787112512, 0.5201729212887496], [0.46076771046054704, 0.5392322895394526], [0.5448966213536575, 0.4551033786463422], [0.43598340256034823, 0.5640165974396522], [0.37187023061550595, 0.6281297693844948], [0.43809921438818866, 0.5619007856118119], [0.41204476964680686, 0.5879552303531926], [0.4249955532240304, 0.5750044467759697], [0.4580577216633671, 0.5419422783366336], [0.5138922381477312, 0.4861077618522691], [0.4596965939152055, 0.5403034060847952], [0.45102665347791143, 0.5489733465220875], [0.503980875557541, 0.49601912444246], [0.44874931016244984, 0.5512506898375503], [0.3595053601626122, 0.6404946398373873], [0.4383809909648416, 0.561619009035158], [0.4944973984505994, 0.5055026015493999], [0.43469626958817137, 0.565303730411829], [0.4316912945568225, 0.568308705443178], [0.34995235500766736, 0.6500476449923326], [0.45070629868653544, 0.5492937013134641], [0.47202297195667525, 0.5279770280433232], [0.5106893590455533, 0.48931064095444726], [0.5170246735727937, 0.48297532642720614], [0.3592450747571411, 0.640754925242858], [0.4355984865967867, 0.5644015134032134], [0.4811184974098165, 0.5188815025901846], [0.3561819250526107, 0.643818074947389], [0.48780399329589696, 0.5121960067041021], [0.47172152770368386, 0.5282784722963167], [0.4452727286701894, 0.5547272713298099], [0.4293058898900758, 0.5706941101099244], [0.3877296384439327, 0.6122703615560671], [0.43769062388296853, 0.5623093761170319], [0.3460010770502539, 0.6539989229497459], [0.41173599775055664, 0.5882640022494431], [0.3356838506172441, 0.6643161493827557], [0.4676695757450372, 0.5323304242549617], [0.372294687918595, 0.6277053120814038], [0.38332563718040824, 0.6166743628195912], [0.4552762460217171, 0.5447237539782825], [0.4464517882050953, 0.5535482117949061], [0.4562696003574118, 0.5437303996425865], [0.41782706036052725, 0.5821729396394731], [0.42715020042589363, 0.5728497995741061], [0.4552707020536137, 0.544729297946386], [0.36375197759769917, 0.6362480224023016], [0.2577509696691958, 0.7422490303308054], [0.46266950373449267, 0.5373304962655069], [0.4605877896259342, 0.5394122103740657], [0.3507443641323626, 0.6492556358676381], [0.5621628600359643, 0.43783713996403556], [0.40922921833481285, 0.5907707816651873], [0.3522607059222503, 0.6477392940777496], [0.3410570537633137, 0.6589429462366865], [0.5343877922457098, 0.46561220775428985], [0.39496586052469984, 0.6050341394753003], [0.4137362013238375, 0.586263798676163], [0.2652298897835012, 0.7347701102165], [0.5348595533141122, 0.46514044668588833], [0.44511965299953293, 0.5548803470004671], [0.41930999697041516, 0.5806900030295838], [0.4957378310669696, 0.5042621689330297], [0.43308708309841004, 0.5669129169015898], [0.3743347928902098, 0.6256652071097907], [0.430804300174896, 0.569195699825105], [0.5032665937984805, 0.49673340620151923], [0.4523593709930156, 0.5476406290069857], [0.43926871017298874, 0.5607312898270116], [0.5176360678097339, 0.48236393219026474], [0.49072597705755644, 0.5092740229424435], [0.45243892429252835, 0.5475610757074727], [0.37517947805316243, 0.6248205219468381], [0.4050176847109357, 0.5949823152890644], [0.36890328328473515, 0.6310967167152657], [0.5028109940602888, 0.4971890059397123], [0.48598512596731885, 0.5140148740326814], [0.43825809631153345, 0.5617419036884655], [0.4574486870124846, 0.5425513129875148], [0.4290756716754998, 0.5709243283244996], [0.4777157083773427, 0.5222842916226572], [0.459774924014303, 0.5402250759856974], [0.424123435781149, 0.5758765642188504], [0.4747727732995165, 0.5252272267004824], [0.3622562505236263, 0.6377437494763729], [0.4795054058909578, 0.5204945941090416], [0.4804976306248742, 0.5195023693751248], [0.35588906474379467, 0.6441109352562056], [0.4901899895746625, 0.5098100104253381], [0.3759057935187304, 0.6240942064812695], [0.46916471686867, 0.5308352831313308], [0.43153103689153877, 0.5684689631084597], [0.5057010473031794, 0.49429895269681967], [0.35255918158683114, 0.6474408184131687], [0.48833205865112495, 0.5116679413488763], [0.4668121596351759, 0.5331878403648236], [0.39615759805382994, 0.6038424019461703], [0.43204586233993336, 0.5679541376600665], [0.3387029417852637, 0.6612970582147362], [0.5119480950967291, 0.48805190490326933], [0.47474708865753495, 0.5252529113424643], [0.48167608533695133, 0.5183239146630477], [0.4877476527770277, 0.5122523472229721], [0.5600497028815015, 0.43995029711849926], [0.5438149679530679, 0.4561850320469322], [0.45174575891464025, 0.5482542410853587], [0.4755057823854472, 0.524494217614553], [0.5857917565773718, 0.4142082434226289], [0.48537363575533743, 0.5146263642446632], [0.4651388736754682, 0.5348611263245319], [0.48945008362448156, 0.510549916375518], [0.4730958276399097, 0.5269041723600901], [0.3677852314716775, 0.632214768528322], [0.44290072845608824, 0.5570992715439128], [0.42618918327729377, 0.5738108167227056], [0.4508440854175403, 0.5491559145824592], [0.48475998034080364, 0.5152400196591959], [0.3990996137530536, 0.600900386246946], [0.46635149744249094, 0.5336485025575095], [0.45739454440565763, 0.5426054555943424], [0.3470598112696743, 0.652940188730326], [0.4877207672237955, 0.5122792327762049], [0.5042639628284851, 0.4957360371715147], [0.4038895021828313, 0.5961104978171664], [0.4989323960116011, 0.5010676039883983], [0.5913989935650003, 0.4086010064349994], [0.49067743614077713, 0.5093225638592236], [0.3474540844260649, 0.6525459155739355], [0.4031076459878038, 0.5968923540121963], [0.4132232329448964, 0.5867767670551025], [0.5168213658589393, 0.48317863414106116], [0.5396853925167754, 0.4603146074832242], [0.5345425902548776, 0.4654574097451229], [0.2953084175095357, 0.7046915824904644], [0.4188106779201656, 0.5811893220798346], [0.46029537578447977, 0.5397046242155205], [0.4996535230383898, 0.50034647696161], [0.4876446838983489, 0.5123553161016514], [0.5187155549837453, 0.48128444501625384], [0.28280768864168926, 0.7171923113583122], [0.5743668416508714, 0.4256331583491281], [0.3672497977863169, 0.6327502022136834], [0.45888136542789154, 0.5411186345721073], [0.413986973996345, 0.586013026003654], [0.4981300320509489, 0.5018699679490507], [0.4665106347592896, 0.5334893652407111], [0.5031514587391062, 0.49684854126089417], [0.378644670237944, 0.621355329762057], [0.2834330962000143, 0.7165669037999857], [0.4788365478714161, 0.5211634521285838], [0.43799229923231187, 0.5620077007676891], [0.3116948741070409, 0.6883051258929592], [0.530430190933679, 0.4695698090663199], [0.3713934964641709, 0.6286065035358299], [0.4756749357576837, 0.5243250642423161], [0.4247254938426354, 0.5752745061573646], [0.42169643300343396, 0.5783035669965657], [0.31888872159640963, 0.6811112784035912], [0.4278955639283249, 0.5721044360716743], [0.5442001530922949, 0.4557998469077042], [0.4716920878516444, 0.5283079121483557], [0.5466474815017327, 0.4533525184982674], [0.49327672855741167, 0.5067232714425877], [0.4224060045811319, 0.5775939954188688], [0.4267834164438807, 0.573216583556119], [0.3977204962147666, 0.6022795037852339], [0.45142573506698797, 0.5485742649330129], [0.4811383432243622, 0.5188616567756376], [0.40401025570859284, 0.5959897442914055], [0.4153102658717277, 0.5846897341282719], [0.4339229802852246, 0.5660770197147755], [0.46056009805103676, 0.5394399019489633], [0.40220621835528, 0.59779378164472], [0.46692936098175003, 0.5330706390182505], [0.49452572111317034, 0.5054742788868295], [0.5083099408086944, 0.49169005919130615], [0.4368138067305872, 0.5631861932694142], [0.53767736166516, 0.4623226383348405], [0.4184554082427037, 0.5815445917572961], [0.47126921873978456, 0.5287307812602148], [0.3777739733721521, 0.6222260266278475], [0.4933769302141202, 0.5066230697858797], [0.34361741428813214, 0.656382585711869], [0.43776021536096743, 0.5622397846390326], [0.39913998560031244, 0.6008600143996887], [0.38230158973064277, 0.617698410269356], [0.37618959838132066, 0.6238104016186778], [0.491456991340678, 0.508543008659322], [0.48918563347557414, 0.5108143665244262], [0.4716853246735414, 0.5283146753264595], [0.48440041547877294, 0.515599584521227], [0.4221924642158681, 0.5778075357841312], [0.5187442343782436, 0.481255765621757], [0.5040996049317662, 0.4959003950682337], [0.4679846038868322, 0.5320153961131662], [0.486238760097743, 0.5137612399022566], [0.4021682895273074, 0.5978317104726921], [0.42388162962080783, 0.5761183703791926], [0.43429642266263335, 0.5657035773373674], [0.44808035824956843, 0.5519196417504312], [0.45131927073953404, 0.5486807292604666], [0.4332904153304741, 0.5667095846695263], [0.42767264277352307, 0.5723273572264768], [0.3726725112163292, 0.6273274887836717], [0.41715493564236356, 0.5828450643576364], [0.39974290324717193, 0.6002570967528289], [0.47260650914702745, 0.5273934908529722], [0.47966520188630724, 0.5203347981136915], [0.545225238506637, 0.454774761493364], [0.40526928217149416, 0.594730717828506], [0.4755097286568476, 0.5244902713431523], [0.36850392610810656, 0.6314960738918916], [0.4032193951526739, 0.5967806048473251], [0.4416286063847509, 0.5583713936152471], [0.4697259394734744, 0.5302740605265248], [0.4232936380376496, 0.5767063619623494], [0.47783882519847876, 0.5221611748015215], [0.4773622061697252, 0.5226377938302735], [0.39246714687738465, 0.6075328531226165], [0.5324394509670473, 0.46756054903295324], [0.43675890506305454, 0.5632410949369454], [0.49812533899772565, 0.5018746610022735], [0.4777157083773427, 0.5222842916226572], [0.3489808765916972, 0.651019123408302], [0.4610966340554766, 0.5389033659445237], [0.43398032666971725, 0.5660196733302818], [0.5003499642535368, 0.4996500357464631], [0.48222599202130506, 0.5177740079786958], [0.43333995077755344, 0.5666600492224462], [0.40750418336007976, 0.5924958166399212], [0.420901160416409, 0.5790988395835925], [0.36158838713609875, 0.6384116128639014], [0.4238734626433949, 0.5761265373566042], [0.3905628689774137, 0.6094371310225867], [0.4433040202590469, 0.5566959797409534], [0.42846552970792595, 0.5715344702920738], [0.35192360954908947, 0.6480763904509105], [0.44534029324287044, 0.55465970675713], [0.4938695648056783, 0.5061304351943217], [0.4159049223101963, 0.5840950776898022], [0.4499654299394783, 0.5500345700605217], [0.42127132047392724, 0.5787286795260733], [0.31417059685477167, 0.6858294031452293], [0.49278610011241025, 0.5072138998875884], [0.4993052615524372, 0.5006947384475618], [0.4815412424224073, 0.5184587575775921], [0.370048364824492, 0.6299516351755076], [0.37855191063812643, 0.6214480893618738], [0.403520732355397, 0.5964792676446026], [0.45949625127823335, 0.5405037487217664], [0.41395806855083794, 0.586041931449162], [0.45286557694801033, 0.5471344230519913], [0.48383866621635235, 0.5161613337836475], [0.42185818886082677, 0.5781418111391728], [0.5585921748440494, 0.4414078251559502], [0.4256439677985723, 0.5743560322014272], [0.35749498410094094, 0.64250501589906], [0.34205264579438877, 0.6579473542056125], [0.4088823586043768, 0.5911176413956233], [0.4174132757756466, 0.5825867242243541], [0.4981893928130547, 0.5018106071869459], [0.29969149279002116, 0.7003085072099796], [0.4327225886856573, 0.5672774113143431], [0.37199828741906893, 0.6280017125809321], [0.3942222839228491, 0.6057777160771508], [0.4813844643583395, 0.5186155356416596], [0.4520667065266864, 0.5479332934733134], [0.41937121697382573, 0.5806287830261735], [0.48865886339987086, 0.51134113660013], [0.4207273023886435, 0.5792726976113572], [0.3994870626171197, 0.6005129373828811], [0.4338875748732536, 0.5661124251267476], [0.3893705556650365, 0.6106294443349646], [0.44364527450373914, 0.5563547254962612], [0.4512363148513827, 0.5487636851486181], [0.44469420912988106, 0.5553057908701201], [0.34646834626756035, 0.6535316537324415], [0.3964227661531257, 0.6035772338468733], [0.49569100734663496, 0.5043089926533639], [0.44423651634153344, 0.5557634836584656], [0.4817331141253621, 0.5182668858746389], [0.5271947993732354, 0.4728052006267645], [0.5561684900224042, 0.4438315099775958], [0.46442567988126565, 0.5355743201187347], [0.42724674857878575, 0.5727532514212149], [0.33968188701799035, 0.6603181129820097], [0.5395028130205799, 0.46049718697942], [0.41828085224428935, 0.5817191477557115], [0.4609148721310101, 0.5390851278689888], [0.48956711243720935, 0.5104328875627916], [0.48437324751935384, 0.5156267524806463], [0.41516491217765306, 0.5848350878223479], [0.433074932772643, 0.566925067227357], [0.3742123263681015, 0.6257876736318992], [0.4312195272057704, 0.5687804727942297], [0.3264849701445358, 0.6735150298554653], [0.43434753695846134, 0.5656524630415393], [0.45950334362213346, 0.5404966563778667], [0.616759106922522, 0.38324089307747716], [0.457264525957638, 0.542735474042363], [0.43213110493082174, 0.5678688950691781], [0.44124795313770515, 0.5587520468622947], [0.5567126408144569, 0.44328735918554274], [0.5001262734000552, 0.49987372659994445], [0.5388025198432785, 0.46119748015672124], [0.35374559002018824, 0.646254409979813], [0.37479084830135817, 0.6252091516986431], [0.519149495918172, 0.4808505040818266], [0.40297808320795914, 0.5970219167920401], [0.41723777297610537, 0.5827622270238941], [0.41182109976797754, 0.5881789002320233], [0.42674396868521175, 0.5732560313147873], [0.46318259758276575, 0.5368174024172344], [0.41023584393008344, 0.589764156069916], [0.49308009798856184, 0.506919902011439], [0.4388091134085051, 0.5611908865914942], [0.45575524486848157, 0.5442447551315189], [0.5032063408940273, 0.49679365910597245], [0.34502646545309823, 0.6549735345469027], [0.47122597724180165, 0.528774022758198], [0.4762425570430955, 0.5237574429569033], [0.43941309884324936, 0.5605869011567499], [0.41728675957689104, 0.5827132404231087], [0.4079680901983739, 0.5920319098016257], [0.4387162745250306, 0.5612837254749704], [0.38582188140573276, 0.6141781185942679], [0.4762324749228732, 0.5237675250771266], [0.4004910406408125, 0.599508959359189], [0.2944267905701025, 0.7055732094298988], [0.47361578751550154, 0.5263842124844982], [0.48905848528019813, 0.5109415147198023], [0.4456179049235419, 0.5543820950764579], [0.37081593364884735, 0.6291840663511515], [0.4707551462792204, 0.5292448537207789], [0.3642944507118571, 0.6357055492881429], [0.38795814258534295, 0.6120418574146557], [0.38798040666547867, 0.6120195933345215], [0.3284591910226896, 0.6715408089773105], [0.4225193102146293, 0.5774806897853711], [0.4634528130719057, 0.5365471869280942], [0.4753264823075512, 0.5246735176924493], [0.5001258668343037, 0.49987413316569607], [0.496315391115031, 0.5036846088849688], [0.39110156027201026, 0.608898439727989], [0.5033010329621356, 0.49669896703786537], [0.4744398019370968, 0.5255601980629029], [0.5230443268279027, 0.47695567317209664], [0.503057048260551, 0.4969429517394485], [0.35679636865231573, 0.6432036313476848], [0.49003492340494836, 0.5099650765950502], [0.4641686124685114, 0.5358313875314881], [0.38555263743359863, 0.6144473625664008], [0.367317000407383, 0.6326829995926182], [0.4982795448878941, 0.5017204551121057], [0.5191522756796287, 0.4808477243203714], [0.4575855672035441, 0.5424144327964547], [0.44892637137390207, 0.5510736286260981], [0.46916773735730827, 0.530832262642692], [0.372548413492064, 0.6274515865079354], [0.45278859944567773, 0.5472114005543222], [0.38853617178299804, 0.6114638282170025], [0.48851408489746057, 0.5114859151025396], [0.5034768925614085, 0.4965231074385902], [0.48808063386974854, 0.5119193661302516], [0.41097213732636956, 0.5890278626736306], [0.4589871231928862, 0.5410128768071156], [0.5138220129224724, 0.4861779870775266], [0.47509614590237015, 0.5249038540976305], [0.4690309377063212, 0.5309690622936789], [0.3901322111684049, 0.6098677888315956], [0.5248754526162365, 0.47512454738376264], [0.5194975310315425, 0.4805024689684579], [0.36824136573565025, 0.6317586342643484], [0.34326941985571613, 0.6567305801442829], [0.4094784903020886, 0.5905215096979103], [0.4808780367932601, 0.5191219632067401], [0.4086431063700591, 0.5913568936299398], [0.3500133663206127, 0.6499866336793864], [0.4210351197789202, 0.5789648802210795], [0.4744621547658692, 0.5255378452341314], [0.4595980119726179, 0.5404019880273813], [0.4122505504729954, 0.5877494495270048], [0.48265318050260375, 0.5173468194973962], [0.33662125214366817, 0.6633787478563317], [0.45256373413847134, 0.5474362658615285], [0.42850205399546276, 0.571497946004537], [0.3887398517606382, 0.6112601482393618], [0.3166981575491377, 0.6833018424508628], [0.41516453528993563, 0.5848354647100648], [0.4327608644753265, 0.5672391355246719], [0.4440770698907886, 0.5559229301092107], [0.5340350475045238, 0.4659649524954765], [0.4819184033169429, 0.5180815966830573], [0.36013764131052056, 0.6398623586894784], [0.46838140997841843, 0.5316185900215812], [0.4030794874762665, 0.5969205125237346], [0.43589420230902587, 0.5641057976909742], [0.43150007805994584, 0.5684999219400539], [0.3966054556761778, 0.6033945443238227], [0.44864376080057705, 0.5513562391994226], [0.4932111151860721, 0.5067888848139286], [0.4686679736322956, 0.5313320263677037], [0.3961647272635645, 0.6038352727364358], [0.43451991729527717, 0.5654800827047217], [0.5003650617941741, 0.4996349382058258], [0.5027716644082558, 0.4972283355917435], [0.2962579152187456, 0.7037420847812538], [0.5207134369992227, 0.47928656300077754], [0.4219633277487365, 0.5780366722512628], [0.4496364976887073, 0.5503635023112937], [0.4600178046909191, 0.5399821953090814], [0.42575004067688305, 0.5742499593231164], [0.512217726287281, 0.48778227371271987], [0.5125095848983209, 0.48749041510167934], [0.5072167279821099, 0.49278327201788985], [0.44744408758939136, 0.5525559124106086], [0.4885570948862006, 0.5114429051138002], [0.5145001145739584, 0.485499885426041], [0.48642462064289577, 0.5135753793571043], [0.44682614320647784, 0.5531738567935232], [0.3859007508357382, 0.6140992491642607], [0.35230670561503047, 0.6476932943849706], [0.5040474601481783, 0.49595253985182114], [0.4827435206364522, 0.517256479363548], [0.4601214798886184, 0.5398785201113824], [0.43704586687428, 0.5629541331257196], [0.5126616933365882, 0.4873383066634108], [0.45118857055614847, 0.5488114294438523], [0.3303730032109213, 0.6696269967890784], [0.4251881477228839, 0.5748118522771157], [0.35549039478046535, 0.6445096052195349], [0.4706442820064557, 0.5293557179935451], [0.48099979068045456, 0.5190002093195464], [0.4366430439849666, 0.5633569560150332], [0.4341606177012913, 0.5658393822987083], [0.4888882015740231, 0.511111798425977], [0.4621935391419168, 0.5378064608580838], [0.4162021807633461, 0.5837978192366535], [0.47316916843144646, 0.5268308315685525], [0.454317068654386, 0.5456829313456131], [0.47196102828164344, 0.5280389717183562], [0.4602791241796578, 0.5397208758203427], [0.5099162974180695, 0.4900837025819314], [0.4185682271142425, 0.5814317728857573], [0.4469346080134875, 0.5530653919865112], [0.43664866550962295, 0.563351334490377], [0.5145567992919672, 0.4854432007080321], [0.3745834443946983, 0.6254165556053003], [0.5043109384393318, 0.4956890615606678], [0.48029743331829106, 0.5197025666817097], [0.4002629034581112, 0.5997370965418884], [0.3620966274589549, 0.6379033725410458], [0.42406306427922846, 0.5759369357207724], [0.4692103869260568, 0.5307896130739439], [0.4188235746029959, 0.581176425397003], [0.36539140490435046, 0.6346085950956496], [0.42442859355428736, 0.5755714064457128], [0.45296068674800327, 0.5470393132519963], [0.37562865273702667, 0.6243713472629725], [0.5632180997603539, 0.4367819002396456], [0.5345207380774749, 0.46547926192252603], [0.3835656385264613, 0.6164343614735371], [0.4475554959187665, 0.5524445040812334], [0.4804726182146039, 0.5195273817853965], [0.47631727508610555, 0.5236827249138943], [0.37355289863762225, 0.6264471013623786], [0.4053812119269487, 0.5946187880730501], [0.49536700707677966, 0.5046329929232202], [0.3458707885874729, 0.6541292114125273], [0.5300797279874234, 0.469920272012576], [0.4695227169650397, 0.5304772830349612], [0.45742176038029936, 0.5425782396197008], [0.43087275757655885, 0.5691272424234413], [0.367712098913793, 0.6322879010862064], [0.4526021559413281, 0.5473978440586726], [0.46387849515855034, 0.5361215048414486], [0.47492281552478127, 0.5250771844752193], [0.49582354385895105, 0.5041764561410493], [0.5382880154332959, 0.461711984566705], [0.46407055395923247, 0.5359294460407683], [0.4496147285121244, 0.5503852714878745], [0.46681995863181747, 0.5331800413681835], [0.4191168604203385, 0.5808831395796614], [0.4764652488544243, 0.5235347511455758], [0.47323341663261737, 0.526766583367382], [0.4769245788797863, 0.5230754211202137], [0.3995147541822507, 0.600485245817748], [0.38709911584391304, 0.6129008841560875], [0.4364218755266073, 0.563578124473393], [0.46678090258351185, 0.5332190974164888], [0.4583826512087782, 0.5416173487912227], [0.470558279554314, 0.529441720445685], [0.41405252208488086, 0.5859474779151186], [0.49610873211399936, 0.5038912678860006], [0.4615302658802089, 0.5384697341197913], [0.331897501705626, 0.6681024982943747], [0.42273622170606523, 0.577263778293935], [0.4462013841411934, 0.5537986158588065], [0.3822695474907567, 0.617730452509242], [0.47074908484504896, 0.5292509151549519], [0.48609493350016064, 0.5139050664998394], [0.4046360690012617, 0.5953639309987376], [0.3550294974328517, 0.6449705025671472], [0.5256473073237887, 0.4743526926762113], [0.369350033053705, 0.6306499669462947], [0.38597259655134475, 0.614027403448654], [0.47820590084877984, 0.5217940991512202], [0.41000215821137803, 0.5899978417886225], [0.4493474103797338, 0.5506525896202654], [0.48264303442279444, 0.5173569655772047], [0.4775935124202119, 0.5224064875797876], [0.46022863297429556, 0.5397713670257042], [0.4559486879450063, 0.5440513120549929], [0.3827164736130865, 0.6172835263869142], [0.4073141019276922, 0.5926858980723085], [0.4685679218326315, 0.5314320781673679], [0.3362424556928427, 0.6637575443071572], [0.48572382762911387, 0.5142761723708876], [0.5396464979819718, 0.4603535020180274], [0.4020180249116659, 0.5979819750883343], [0.44562861612733917, 0.5543713838726598], [0.4384628408510013, 0.561537159148998], [0.34582729380479715, 0.6541727061952023], [0.32397575601122497, 0.6760242439887754], [0.31807292889447647, 0.6819270711055224], [0.34927312827798035, 0.6507268717220203], [0.42364645872369844, 0.5763535412763012], [0.32680798258614974, 0.6731920174138503], [0.4953786476223376, 0.5046213523776623], [0.48554178158417, 0.5144582184158294], [0.42737508311374167, 0.5726249168862599], [0.5086881325793916, 0.49131186742060845], [0.5090251470347436, 0.49097485296525684], [0.47413628217084003, 0.5258637178291594], [0.5573528528581195, 0.44264714714188125], [0.3938070537035578, 0.6061929462964426], [0.3686385683637089, 0.6313614316362897], [0.47939802294818307, 0.5206019770518163], [0.46430848742998193, 0.5356915125700176], [0.33984729523717694, 0.6601527047628227], [0.41747650415413606, 0.5825234958458625], [0.3817569163527976, 0.6182430836472029], [0.38151926585390983, 0.6184807341460914], [0.3925863543145195, 0.6074136456854802], [0.4735816947096169, 0.5264183052903841], [0.45325798533120376, 0.5467420146687952], [0.3989778393949815, 0.6010221606050167], [0.40672715197092624, 0.5932728480290734], [0.4860398007670424, 0.5139601992329577], [0.4703825300122118, 0.5296174699877876], [0.4725628003788699, 0.52743719962113], [0.527795820756183, 0.47220417924381736], [0.47195721162480503, 0.5280427883751949], [0.46397205637016614, 0.5360279436298329], [0.40331235922084135, 0.5966876407791593], [0.5010418957836553, 0.49895810421634484], [0.45831916947026047, 0.5416808305297406], [0.4139834484199597, 0.5860165515800417], [0.3704178811068203, 0.6295821188931804], [0.48131283482532, 0.5186871651746785], [0.36325431008473374, 0.6367456899152656], [0.44573939214745073, 0.5542606078525499], [0.4394010094129169, 0.5605989905870815], [0.41437845120827405, 0.585621548791725], [0.458229696813854, 0.5417703031861447], [0.4277507056339912, 0.5722492943660096], [0.4968875957446747, 0.5031124042553246], [0.4047907700899997, 0.5952092299100001], [0.35923156406403217, 0.6407684359359666], [0.3685819534923415, 0.6314180465076599], [0.4192550475731547, 0.5807449524268452], [0.4663659489075859, 0.5336340510924144], [0.48238104048199, 0.5176189595180104], [0.5191469808639236, 0.4808530191360761], [0.4557457487612696, 0.5442542512387296], [0.45215002967560614, 0.5478499703243934], [0.3863730707478626, 0.6136269292521387], [0.4439566038816544, 0.5560433961183445], [0.5003650617941741, 0.4996349382058258], [0.3882594730624038, 0.6117405269375953], [0.4422404984768631, 0.5577595015231369], [0.5053823520175353, 0.49461764798246516], [0.3667513381540624, 0.633248661845937], [0.43310681815325913, 0.5668931818467411], [0.45242073244828673, 0.5475792675517127], [0.472295144343371, 0.5277048556566301], [0.35124495038953824, 0.648755049610463], [0.40081758720104355, 0.5991824127989557], [0.4513334090128064, 0.5486665909871936], [0.46340385932229555, 0.5365961406777053], [0.5213247651076431, 0.4786752348923567], [0.4326391218646154, 0.5673608781353856], [0.38264015411339397, 0.6173598458866051], [0.441409927148502, 0.5585900728514966], [0.4432428361664017, 0.5567571638335984], [0.48076643996508717, 0.5192335600349125], [0.42042739607736135, 0.5795726039226382], [0.3755553144508219, 0.6244446855491774], [0.45395597488963624, 0.5460440251103639], [0.4096076447941152, 0.5903923552058844], [0.4845226308994447, 0.5154773691005549], [0.4071977602260448, 0.5928022397739539], [0.4265677270618473, 0.5734322729381528], [0.42237414630656034, 0.5776258536934405], [0.5008342258234744, 0.49916577417652686], [0.4286916600428754, 0.5713083399571239], [0.3319104863385149, 0.668089513661484], [0.42240606834841005, 0.5775939316515898], [0.4577146700821149, 0.5422853299178843], [0.5177289083219169, 0.48227109167808346], [0.5042756447567759, 0.4957243552432248], [0.3610521897730885, 0.6389478102269115]]}\n"
     ]
    }
   ],
   "source": [
    "# Get the job status, logs, and result\n",
    "result = job.result()\n",
    "status = job.status()\n",
    "error_message = job.error_message()\n",
    "end = time.time()\n",
    "\n",
    "print(\"Job status: \", status)\n",
    "print(\"Error message: \", error_message)\n",
    "print(\"Action status: \", result[\"status\"])\n",
    "print(\"Action message: \", result[\"message\"])\n",
    "print(\"Action result: \", result[\"data\"])"
   ]
  },
  {
   "cell_type": "code",
   "execution_count": 32,
   "id": "5971254a-a095-47c6-a670-924fca44e776",
   "metadata": {},
   "outputs": [
    {
     "name": "stdout",
     "output_type": "stream",
     "text": [
      "Time taken (s): 389.6062481403351\n",
      "Accuracy: 0.8693333333333333\n",
      "Precision: 1.0\n",
      "Recall: 0.8693333333333333\n",
      "F1: 0.9300998573466477\n"
     ]
    },
    {
     "data": {
      "text/plain": [
       "(0.8693333333333333,\n",
       " np.float64(1.0),\n",
       " np.float64(0.8693333333333333),\n",
       " np.float64(0.9300998573466477))"
      ]
     },
     "execution_count": 32,
     "metadata": {},
     "output_type": "execute_result"
    }
   ],
   "source": [
    "predictions = result[\"data\"][\"predictions\"]\n",
    "evaluate_predictions(predictions, y_test, start, end)"
   ]
  },
  {
   "cell_type": "markdown",
   "id": "3bbd8fc4-e538-40a0-8f9f-0aa0ce58ce49",
   "metadata": {},
   "source": [
    "# Part 2: Simulated Heterogenous Quantum Classifier\n",
    "\n",
    "### Execute the Job\n",
    "\n",
    "In this section, we simulate a heterogeneous quantum ensemble using classical resources. Unlike the standard simulated classifier, the heterogeneous variant allows us to define a mix of different learner types within the ensemble—such as decision trees, k-nearest neighbors, or logistic regression—each contributing a unique inductive bias. This strategy can enhance model diversity and improve generalization, particularly on complex datasets with varied feature relationships."
   ]
  },
  {
   "cell_type": "markdown",
   "id": "ec7a62df-c085-4901-9355-c3a4349de517",
   "metadata": {},
   "source": [
    "<div class=\"alert alert-block alert-success\">\n",
    "  <strong>Exercise 2:</strong>  \n",
    "  Fill in the <code>#TODO</code> sections to create a job that uses two unique learners, with an equal proportion distributed between them. \n",
    "</div>"
   ]
  },
  {
   "cell_type": "markdown",
   "id": "6ae17dcc-02cd-4196-8a44-b15846665d14",
   "metadata": {},
   "source": [
    "<div class=\"alert alert-block alert-info\">\n",
    "  <strong>💡 Tip:</strong> Refer to the documentation \n",
    "  <a href=\"https://docs.quantum.ibm.com/guides/multiverse-computing-singularity\" target=\"_blank\">here</a> on how to specify different learners. Observe how this influenced the results. Once you have passed the exercise grader, feel free to experiment with different learners to learn how this impacts the performance.\n",
    "</div>"
   ]
  },
  {
   "cell_type": "code",
   "execution_count": 33,
   "id": "aeff5ae8-0335-4f62-b2aa-badc898d8938",
   "metadata": {},
   "outputs": [],
   "source": [
    "### TODO: Write your code below here ###\n",
    "learners_types_solution = [\n",
    "        \"DecisionTreeClassifier\",\n",
    "        \"KNeighborsClassifier\",\n",
    "]\n",
    "learners_proportions_solution = [0.5 , 0.5]\n",
    "### Don't change any code past this line ###"
   ]
  },
  {
   "cell_type": "code",
   "execution_count": 34,
   "id": "1177332b-a65c-4c98-af2a-f8757033bed8",
   "metadata": {},
   "outputs": [
    {
     "name": "stdout",
     "output_type": "stream",
     "text": [
      "✅ Exercise 2 solution is correct!\n"
     ]
    }
   ],
   "source": [
    "grade_exercise_2(learners_types_solution, learners_proportions_solution)"
   ]
  },
  {
   "cell_type": "markdown",
   "id": "f043351c",
   "metadata": {},
   "source": [
    "<div class=\"alert alert-block alert-warning\">\n",
    "  <strong>⚠️ Warning:</strong> Note that for this exercise, we again use a simulator to avoid consuming QPU time.\n",
    "</div>"
   ]
  },
  {
   "cell_type": "code",
   "execution_count": 35,
   "id": "78685382-aaa2-4e54-a1c5-7ecaae8bca9a",
   "metadata": {},
   "outputs": [
    {
     "name": "stdout",
     "output_type": "stream",
     "text": [
      "-- Creating, fitting, and predicting --\n"
     ]
    }
   ],
   "source": [
    "# Create, fit, and predict\n",
    "print(\"-- Creating, fitting, and predicting --\")\n",
    "start = time.time()\n",
    "job = singularity.run(\n",
    "    action=\"create_fit_predict\",\n",
    "    name=\"classifier_for_grid_stability\",\n",
    "    quantum_classifier=\"QuantumEnhancedEnsembleClassifier\",\n",
    "    num_learners=15, \n",
    "    regularization=15,\n",
    "    learners_types=learners_types_solution,\n",
    "    learners_proportions=learners_proportions_solution,\n",
    "    optimizer_options={\n",
    "        \"num_solutions\": 100000,\n",
    "        \"simulator\": True, \n",
    "    },\n",
    "    backend_name= None, \n",
    "    instance=your_crn,\n",
    "    random_state=RANDOM_STATE,\n",
    "    X_train=\"grid_stability_X_train.npy\",\n",
    "    y_train=\"grid_stability_y_train.npy\",\n",
    "    X_test=\"grid_stability_X_test.npy\",\n",
    "    fit_params={\n",
    "        \"validation_data\": (X_val, y_val),\n",
    "    },\n",
    "    options={\n",
    "        \"save\": False,\n",
    "    }\n",
    ")"
   ]
  },
  {
   "cell_type": "markdown",
   "id": "5163dd55-b248-4a18-a7ed-14d74d6ca717",
   "metadata": {},
   "source": [
    "### Monitor Job Execution\n",
    "\n",
    "Now that the job has been submitted, we can print `job` to save the JobID, and monitor the status of the execution using `job.status()`. The cell can be re-ran again to ping for the latest status. If the job fails, we can obtain information about the reason it did so using `job.error_message()`. "
   ]
  },
  {
   "cell_type": "code",
   "execution_count": 36,
   "id": "f3e2de58-f4bf-4c19-bff9-0ecf329207f4",
   "metadata": {},
   "outputs": [
    {
     "data": {
      "text/plain": [
       "<Job | 0bebf504-a850-4a80-a73a-2ea32d373ab0>"
      ]
     },
     "execution_count": 36,
     "metadata": {},
     "output_type": "execute_result"
    }
   ],
   "source": [
    "job"
   ]
  },
  {
   "cell_type": "code",
   "execution_count": 41,
   "id": "ccf9c752-bd6e-4b52-8fbf-738c46e90d48",
   "metadata": {},
   "outputs": [
    {
     "data": {
      "text/plain": [
       "'DONE'"
      ]
     },
     "execution_count": 41,
     "metadata": {},
     "output_type": "execute_result"
    }
   ],
   "source": [
    "job.status()"
   ]
  },
  {
   "cell_type": "code",
   "execution_count": 42,
   "id": "2c48ebb4-ea21-400c-a0cd-cb623311689a",
   "metadata": {},
   "outputs": [
    {
     "name": "stdout",
     "output_type": "stream",
     "text": [
      "\n"
     ]
    }
   ],
   "source": [
    "error_message = job.error_message()\n",
    "print(error_message)"
   ]
  },
  {
   "cell_type": "markdown",
   "id": "93d57f45-b6bc-4b0a-bb65-7938729c068a",
   "metadata": {},
   "source": [
    "### Retrieve and Analyze the Results\n",
    "\n",
    "Once the job has been submitted and completed, we can retrieve the results using `job.result()`. We can then evaluate the results using our previously defined helper function and ensure it matches our expectation."
   ]
  },
  {
   "cell_type": "code",
   "execution_count": 43,
   "id": "5c36bb11-99fa-42ef-9b5c-848807d2df5d",
   "metadata": {},
   "outputs": [
    {
     "name": "stdout",
     "output_type": "stream",
     "text": [
      "Job status:  DONE\n",
      "Error message:  \n",
      "Action status:  ok\n",
      "Action message:  Classifier created, fitted, and predicted.\n",
      "Action result:  {'predictions': [1, 0, 1, 0, 1, 1, 1, 1, 1, 1, 1, 0, 1, 1, 1, 1, 0, 0, 1, 1, 0, 0, 0, 0, 1, 1, 1, 1, 1, 0, 1, 1, 1, 1, 1, 1, 0, 1, 1, 1, 0, 1, 1, 1, 1, 0, 1, 0, 1, 1, 1, 1, 0, 1, 1, 1, 1, 0, 1, 1, 1, 0, 1, 0, 0, 0, 0, 1, 1, 1, 0, 0, 1, 1, 1, 0, 0, 1, 1, 1, 0, 1, 0, 1, 1, 1, 1, 1, 1, 0, 0, 1, 1, 0, 1, 1, 0, 1, 0, 1, 0, 1, 1, 1, 1, 1, 0, 1, 1, 0, 0, 1, 1, 1, 1, 1, 0, 1, 1, 1, 1, 1, 1, 1, 1, 0, 1, 0, 1, 1, 0, 0, 0, 1, 1, 0, 1, 1, 1, 0, 0, 1, 0, 1, 1, 0, 1, 1, 1, 1, 0, 1, 1, 0, 0, 0, 0, 1, 0, 0, 1, 0, 1, 1, 1, 1, 1, 1, 0, 1, 1, 1, 1, 1, 1, 1, 1, 1, 1, 1, 1, 1, 1, 0, 1, 1, 1, 1, 1, 0, 0, 1, 1, 1, 1, 0, 1, 1, 1, 0, 0, 1, 1, 1, 0, 1, 1, 1, 1, 1, 1, 1, 0, 0, 1, 1, 1, 1, 1, 1, 0, 0, 1, 0, 1, 1, 1, 0, 1, 0, 0, 1, 0, 0, 1, 1, 1, 0, 1, 0, 0, 0, 1, 1, 1, 1, 1, 1, 1, 0, 1, 1, 1, 1, 1, 0, 0, 1, 1, 0, 0, 1, 0, 0, 1, 1, 1, 0, 1, 0, 0, 1, 1, 1, 0, 1, 1, 1, 1, 0, 0, 1, 1, 1, 1, 1, 1, 0, 1, 1, 1, 1, 1, 1, 0, 1, 0, 0, 0, 1, 0, 1, 0, 0, 1, 0, 1, 1, 1, 0, 0, 1, 0, 0, 1, 1, 1, 0, 1, 0, 1, 1, 1, 1, 1, 0, 1, 0, 1, 0, 0, 1, 1, 0, 1, 1, 0, 1, 0, 0, 1, 0, 0, 1, 0, 0, 0, 0, 0, 1, 1, 1, 1, 0, 0, 1, 0, 1, 1, 0, 1, 1, 0, 1, 0, 0, 0, 1, 0, 1, 0, 0, 0, 1, 1, 1, 0, 1, 0, 1, 1, 0, 0, 1, 1, 1, 1, 0, 1, 0, 0, 0, 0, 1, 0, 1, 1, 1, 0, 1, 0, 1, 1, 1, 1, 1, 0, 1, 1, 1, 1, 1, 0, 0, 1, 1, 0, 1, 0, 0, 1, 1, 1, 1, 0, 1, 1, 0, 0, 0, 1, 1, 1, 1, 1, 0, 0, 0, 0, 0, 0, 1, 1, 1, 0, 0, 0, 1, 1, 1, 1, 1, 1, 0, 1, 0, 0, 1, 1, 1, 1, 1, 0, 1, 0, 0, 1, 1, 1, 0, 1, 0, 1, 1, 1, 1, 1, 0, 0, 0, 1, 0, 0, 1, 0, 1, 1, 1, 1, 1, 1, 0, 1, 0, 1, 0, 1, 0, 1, 0, 0, 1, 0, 1, 0, 0, 1, 1, 0, 0, 1, 1, 1, 1, 1, 1, 1, 1, 1, 1, 0, 1, 0, 0, 1, 1, 0, 1, 1, 0, 0, 1, 1, 0, 1, 1, 1, 1, 1, 1, 1, 0, 0, 0, 1, 0, 0, 0, 0, 0, 1, 1, 0, 1, 0, 0, 0, 1, 0, 1, 0, 1, 1, 1, 0, 1, 1, 1, 1, 0, 1, 1, 0, 1, 1, 1, 0, 1, 0, 0, 0, 1, 1, 1, 0, 1, 1, 1, 1, 1, 0, 0, 1, 0, 0, 0, 1, 1, 0, 1, 1, 0, 1, 0, 1, 1, 0, 0, 1, 1, 0, 0, 0, 1, 1, 0, 1, 0, 0, 0, 1, 0, 0, 1, 0, 1, 0, 1, 0, 0, 0, 1, 1, 1, 0, 0, 1, 0, 1, 1, 1, 0, 0, 0, 1, 1, 0, 0, 1, 0, 0, 1, 1, 1, 1, 0, 1, 0, 1, 0, 1, 1, 1, 1, 1, 1, 1, 0, 0, 1, 0, 0, 1, 1, 1, 1, 0, 1, 1, 0, 0, 0, 1, 1, 1, 1, 0, 1, 1, 1, 1, 0, 1, 1, 0, 1, 0, 0, 1, 0, 1, 1, 0, 1, 0, 1, 1, 1, 1, 1, 0, 0, 1, 1, 1, 1, 0, 0, 0, 0, 1, 0, 0, 0, 1, 0, 1, 0, 0, 0, 1, 1, 1, 1, 1, 1, 0, 1, 1, 1, 1, 1, 0, 1, 1, 1, 0, 0, 0, 1], 'probabilities': [[0.48704184776112325, 0.512958152238877], [0.6408055936459767, 0.3591944063540238], [0.24794050473062035, 0.7520594952693794], [0.6017206920516558, 0.39827930794834454], [0.37087081741277417, 0.6291291825872257], [0.21149446979566114, 0.788505530204339], [0.14364979354630403, 0.8563502064536972], [0.4694054958586786, 0.5305945041413211], [0.0931666658453636, 0.9068333341546366], [0.4638634184317062, 0.5361365815682941], [0.2609888712241287, 0.7390111287758708], [0.5842446059905988, 0.41575539400940165], [0.18373504443151883, 0.8162649555684816], [0.24604180629842484, 0.7539581937015746], [0.4362174779074652, 0.5637825220925337], [0.36113619118225254, 0.6388638088177481], [0.5573932504483479, 0.442606749551652], [0.6286066837576247, 0.37139331624237565], [0.38974081695201795, 0.6102591830479823], [0.167670988618539, 0.8323290113814612], [0.6845233300121865, 0.3154766699878142], [0.598118640000847, 0.4018813599991535], [0.5619622572876138, 0.438037742712386], [0.7506302015547504, 0.24936979844525062], [0.40664922002064846, 0.5933507799793519], [0.29755724022067276, 0.7024427597793281], [0.47738024481041824, 0.522619755189581], [0.4740552671297458, 0.5259447328702552], [0.47491306778749476, 0.525086932212506], [0.5700404880694729, 0.42995951193052623], [0.18881685261512565, 0.8111831473848751], [0.3598938197380094, 0.640106180261991], [0.32317686823929165, 0.6768231317607082], [0.41458627790770447, 0.5854137220922965], [0.43853857998301377, 0.5614614200169867], [0.2525126257776056, 0.7474873742223956], [0.5233945532782674, 0.47660544672173316], [0.3294637074985316, 0.6705362925014683], [0.4201790858068966, 0.5798209141931028], [0.4947829879333596, 0.5052170120666408], [0.5259651659224053, 0.47403483407759445], [0.2678358886201798, 0.7321641113798196], [0.2422609372549494, 0.7577390627450503], [0.41995820799261707, 0.5800417920073819], [0.47250638232155384, 0.5274936176784447], [0.5930667287107698, 0.4069332712892312], [0.1999076281355022, 0.8000923718644967], [0.5247309665961986, 0.4752690334038027], [0.3118171947035593, 0.6881828052964409], [0.4155681698081264, 0.5844318301918735], [0.4605446566449396, 0.5394553433550601], [0.25787723726201234, 0.7421227627379877], [0.6275395220640458, 0.3724604779359534], [0.18824697596898018, 0.8117530240310183], [0.21420473165536144, 0.7857952683446378], [0.44582854582939757, 0.5541714541706033], [0.35194557979481367, 0.6480544202051869], [0.5113892840082239, 0.4886107159917772], [0.3709112726572654, 0.6290887273427349], [0.2988085746482515, 0.7011914253517477], [0.41861906004571126, 0.581380939954288], [0.5915823169904179, 0.40841768300958253], [0.46592552770621454, 0.5340744722937861], [0.527935185171378, 0.4720648148286207], [0.5125898196407715, 0.48741018035922806], [0.5791914582114777, 0.4208085417885229], [0.5573079891413109, 0.44269201085869014], [0.11678229276545257, 0.8832177072345474], [0.39446497119373397, 0.6055350288062665], [0.3743975962063601, 0.6256024037936404], [0.7342594055874619, 0.2657405944125385], [0.5082672696009332, 0.49173273039906745], [0.4473484254409293, 0.5526515745590707], [0.4740467586629145, 0.5259532413370852], [0.3352187494383739, 0.6647812505616251], [0.5092459389246983, 0.49075406107530223], [0.6294415820998154, 0.37055841790018357], [0.3563680832292736, 0.6436319167707268], [0.3463788015192295, 0.6536211984807699], [0.22531155726961005, 0.7746884427303906], [0.5716044603026201, 0.4283955396973796], [0.3997909552590801, 0.6002090447409189], [0.5610516549458009, 0.43894834505419833], [0.41596468286559707, 0.5840353171344027], [0.3341005634764743, 0.6658994365235252], [0.20052779832807505, 0.7994722016719258], [0.24300445844484256, 0.7569955415551571], [0.2524478009619116, 0.7475521990380882], [0.24537782017482399, 0.7546221798251768], [0.6167117788327569, 0.38328822116724304], [0.58389051523334, 0.4161094847666601], [0.21160228638817016, 0.7883977136118296], [0.36319674762438314, 0.6368032523756176], [0.6668387235926349, 0.3331612764073659], [0.4976785347223759, 0.5023214652776252], [0.4322651214237567, 0.5677348785762438], [0.7355843452469796, 0.2644156547530195], [0.4372646445178176, 0.5627353554821819], [0.5799290880913571, 0.42007091190864326], [0.3046921198267886, 0.695307880173211], [0.565302386387067, 0.4346976136129337], [0.22400093245477948, 0.7759990675452209], [0.3457789885925581, 0.6542210114074424], [0.2445210849380105, 0.7554789150619905], [0.2006875889733257, 0.7993124110266744], [0.38863284043897617, 0.6113671595610248], [0.7465148502006943, 0.25348514979930553], [0.4016542657993023, 0.5983457342006981], [0.33556841525476705, 0.6644315847452333], [0.527830585201536, 0.4721694147984641], [0.590251233673083, 0.40974876632691626], [0.22397365511226847, 0.776026344887731], [0.24958255729714376, 0.7504174427028564], [0.4714162265475109, 0.52858377345249], [0.31958260508753855, 0.6804173949124613], [0.2894508354463606, 0.7105491645536405], [0.5787274669033365, 0.42127253309666357], [0.2255384309571066, 0.774461569042893], [0.3223671896401433, 0.6776328103598567], [0.31453978277835404, 0.685460217221646], [0.31249550263773124, 0.6875044973622679], [0.34818856962040956, 0.6518114303795902], [0.28766606738037, 0.7123339326196295], [0.27806602905820305, 0.7219339709417973], [0.4042645525146806, 0.5957354474853204], [0.7215808832344212, 0.2784191167655792], [0.44453732868635376, 0.5554626713136467], [0.6034805870546831, 0.39651941294531634], [0.16012853223273565, 0.8398714677672651], [0.34659479891237255, 0.6534052010876276], [0.5481932519507625, 0.4518067480492363], [0.5644946540766562, 0.43550534592334395], [0.5965085783799874, 0.4034914216200119], [0.4565322947947318, 0.5434677052052693], [0.34656048640467607, 0.6534395135953243], [0.560690954284209, 0.43930904571579155], [0.4721539638736874, 0.5278460361263126], [0.32091760959708354, 0.6790823904029166], [0.30951533976328516, 0.6904846602367152], [0.5031007852585418, 0.49689921474145815], [0.6038014233318155, 0.3961985766681841], [0.19175668716310057, 0.8082433128369001], [0.5033569445066615, 0.49664305549333954], [0.2753233300184471, 0.7246766699815537], [0.3419661784139768, 0.6580338215860227], [0.5956592473602458, 0.4043407526397547], [0.2702646794480889, 0.7297353205519116], [0.406161868811595, 0.5938381311884058], [0.38631034326663755, 0.6136896567333632], [0.30690033184511667, 0.6930996681548826], [0.6991311566099585, 0.30086884339004266], [0.4739887631006291, 0.5260112368993712], [0.30524499002469496, 0.694755009975305], [0.5344969699139153, 0.4655030300860844], [0.6693939091217501, 0.33060609087824944], [0.6374904521234567, 0.36250954787654394], [0.5901656465183495, 0.40983435348165137], [0.18578113429524493, 0.8142188657047549], [0.7169359411046832, 0.283064058895317], [0.6231332392313789, 0.3768667607686199], [0.35562236191914914, 0.6443776380808511], [0.7088546096009668, 0.29114539039903387], [0.3223671896401433, 0.6776328103598567], [0.20686429504779616, 0.7931357049522044], [0.3617203975598416, 0.6382796024401591], [0.35467995654724505, 0.6453200434527547], [0.24535368072466163, 0.7546463192753377], [0.3244591663400061, 0.6755408336599947], [0.6911710417609646, 0.3088289582390353], [0.3518440072882871, 0.6481559927117132], [0.33787723726201235, 0.6621227627379876], [0.2164939546078681, 0.7835060453921322], [0.16267058335294485, 0.8373294166470546], [0.4815699487989698, 0.5184300512010299], [0.4272170335473983, 0.5727829664526015], [0.48657733148395993, 0.513422668516039], [0.37302629123097314, 0.6269737087690256], [0.19835693507788285, 0.8016430649221161], [0.44370056816775555, 0.5562994318322443], [0.37440024594194665, 0.6255997540580543], [0.28327555376583186, 0.7167244462341669], [0.49347516460003565, 0.5065248353999647], [0.2191348251127094, 0.7808651748872905], [0.5474070615781479, 0.452592938421852], [0.30520239300463065, 0.6947976069953697], [0.10787255929510127, 0.8921274407049], [0.31702879837028913, 0.682971201629711], [0.3629568740652009, 0.6370431259347988], [0.4272429016896784, 0.5727570983103225], [0.7000467093105416, 0.2999532906894583], [0.6105706316034961, 0.38942936839650405], [0.1493498048990665, 0.8506501951009331], [0.34768953124517343, 0.6523104687548272], [0.47071584788451315, 0.5292841521154873], [0.24283810311899354, 0.7571618968810068], [0.5890777946200986, 0.4109222053799018], [0.13106068889615966, 0.8689393111038414], [0.4637020681752725, 0.536297931824728], [0.3085216030193619, 0.6914783969806387], [0.6417655831818155, 0.35823441681818385], [0.5870910695127883, 0.4129089304872115], [0.25246673281487764, 0.7475332671851227], [0.3557556666223247, 0.6442443333776754], [0.47657789669225814, 0.5234221033077425], [0.7369488760133839, 0.2630511239866165], [0.3220273458679673, 0.6779726541320339], [0.34944628152920715, 0.6505537184707934], [0.4083295594799304, 0.591670440520069], [0.3341909040048873, 0.6658090959951125], [0.478135661724842, 0.521864338275159], [0.22305731129172915, 0.7769426887082711], [0.4762664946421429, 0.5237335053578573], [0.6512778893337069, 0.34872211066629405], [0.7436282415706195, 0.2563717584293817], [0.34426246143093064, 0.65573753856907], [0.2466638044248932, 0.7533361955751062], [0.3992632185807141, 0.6007367814192862], [0.1970444058629344, 0.8029555941370653], [0.3974075214760027, 0.6025924785239969], [0.4180828932141775, 0.5819171067858233], [0.6588948629424093, 0.34110513705759093], [0.6666997701143481, 0.3333002298856517], [0.16560527817024218, 0.8343947218297572], [0.6594647717819219, 0.34053522821807763], [0.23263877151890947, 0.7673612284810893], [0.3491969840153756, 0.6508030159846248], [0.2479360498374028, 0.7520639501625977], [0.5175241429447806, 0.4824758570552197], [0.3693147243955887, 0.6306852756044121], [0.6675763576955253, 0.33242364230447374], [0.719504723121684, 0.2804952768783156], [0.3626831382323999, 0.6373168617675997], [0.6140091223452461, 0.385990877654755], [0.6404981843221884, 0.35950181567781164], [0.25240390924392647, 0.7475960907560739], [0.3554675384670369, 0.6445324615329638], [0.3606556218621549, 0.6393443781378455], [0.5050062615363301, 0.49499373846366906], [0.2763696538240291, 0.72363034617597], [0.631880355544843, 0.36811964445515616], [0.7155898029083817, 0.2844101970916181], [0.5165697179710551, 0.4834302820289454], [0.3779333019242082, 0.6220666980757917], [0.27657144945929446, 0.7234285505407048], [0.3079597529663124, 0.6920402470336877], [0.36220432019368354, 0.6377956798063168], [0.2873284329278396, 0.7126715670721613], [0.49808492832123036, 0.5019150716787696], [0.3306579177723627, 0.6693420822276376], [0.5513936891598721, 0.44860631084012764], [0.2822609372549494, 0.7177390627450504], [0.39112311991188414, 0.6088768800881167], [0.30967011542870676, 0.6903298845712929], [0.400168837919417, 0.5998311620805828], [0.36026361372168475, 0.639736386278315], [0.518824451285973, 0.4811755487140267], [0.6759813910622554, 0.3240186089377454], [0.25401569058825796, 0.7459843094117421], [0.19855850643709794, 0.801441493562903], [0.5346905080353684, 0.465309491964632], [0.6685548962397576, 0.3314451037602425], [0.4548875020456179, 0.5451124979543801], [0.7102673412782312, 0.2897326587217685], [0.7055786301117636, 0.29442136988823564], [0.43382335547687384, 0.566176644523127], [0.23933304904246183, 0.7606669509575387], [0.3062146651740978, 0.6937853348259021], [0.5444076495937341, 0.45559235040626533], [0.45716072818954795, 0.5428392718104527], [0.721942706412858, 0.2780572935871418], [0.5592721729758219, 0.4407278270241784], [0.3899352653137718, 0.6100647346862283], [0.3364782349518663, 0.6635217650481342], [0.4811003580872474, 0.5188996419127528], [0.6656227490218959, 0.33437725097810406], [0.41298462602291863, 0.5870153739770821], [0.47212605819718895, 0.5278739418028106], [0.16765586017130377, 0.8323441398286974], [0.35216743514287757, 0.6478325648571217], [0.5024223332889914, 0.4975776667110086], [0.541638199721973, 0.458361800278026], [0.35528669795607376, 0.6447133020439253], [0.37623759043013294, 0.6237624095698672], [0.44103546092633045, 0.5589645390736696], [0.3918519667922652, 0.6081480332077348], [0.44052935508393787, 0.5594706449160631], [0.30494092856882643, 0.6950590714311734], [0.5441945048636042, 0.45580549513639546], [0.3857295436427389, 0.614270456357262], [0.17273749395392313, 0.8272625060460773], [0.3818710826461965, 0.6181289173538033], [0.48139633610019517, 0.5186036638998054], [0.36226685962071853, 0.6377331403792819], [0.48634384326868557, 0.5136561567313147], [0.6774197572029433, 0.3225802427970563], [0.4762450750434457, 0.5237549249565551], [0.6639468459067033, 0.3360531540932962], [0.5024513647138906, 0.4975486352861086], [0.6730469379616468, 0.3269530620383538], [0.45132466185565345, 0.5486753381443468], [0.7270417301823546, 0.2729582698176453], [0.23799221158650022, 0.7620077884135009], [0.5049300804922272, 0.4950699195077723], [0.5288788867785488, 0.4711211132214516], [0.26545650920988184, 0.7345434907901189], [0.6979626836703408, 0.30203731632965936], [0.21917304898822051, 0.7808269510117781], [0.44443649930218065, 0.5555635006978188], [0.20551486861312604, 0.7944851313868743], [0.5505738226325216, 0.44942617736747825], [0.6073748378404745, 0.3926251621595254], [0.3495751874553158, 0.650424812544685], [0.7183351570994829, 0.28166484290051713], [0.5373236931429305, 0.46267630685706984], [0.38491245879751074, 0.6150875412024904], [0.44845851850994783, 0.5515414814900523], [0.4594670570192408, 0.5405329429807589], [0.720335137500875, 0.2796648624991249], [0.382965897989726, 0.6170341020102733], [0.7511468785853178, 0.24885312141468194], [0.25783076560318724, 0.7421692343968133], [0.4976678901601744, 0.5023321098398259], [0.2464148961843799, 0.7535851038156209], [0.18407118269265718, 0.815928817307342], [0.40744508134772184, 0.5925549186522768], [0.5403592793915865, 0.45964072060841393], [0.45647979194661653, 0.5435202080533837], [0.5954289674056147, 0.40457103259438587], [0.40026361372168473, 0.5997363862783149], [0.6875770096298887, 0.3124229903701105], [0.6196031766314085, 0.38039682336859204], [0.3218858652543989, 0.678114134745601], [0.3157180117619319, 0.6842819882380675], [0.574455268833005, 0.4255447311669951], [0.27481262866309314, 0.7251873713369065], [0.3329626251803029, 0.6670373748196978], [0.6233761523824537, 0.37662384761754697], [0.3130697624846255, 0.6869302375153747], [0.611235808880721, 0.3887641911192795], [0.5071294545056895, 0.492870545494311], [0.183983396206684, 0.8160166037933156], [0.5619273062569992, 0.43807269374300156], [0.6851068902247535, 0.3148931097752467], [0.45680866051685953, 0.5431913394831409], [0.5403750635156879, 0.4596249364843119], [0.7379520167501288, 0.2620479832498707], [0.7137088528923878, 0.2862911471076133], [0.5345249870189839, 0.4654750129810163], [0.6715993620701883, 0.32840063792981194], [0.18710924908948, 0.8128907509105188], [0.19829176993270023, 0.8017082300672992], [0.2625411470841237, 0.7374588529158749], [0.2918265501978921, 0.7081734498021071], [0.5170726151067958, 0.4829273848932035], [0.599991953090593, 0.4000080469094078], [0.40580980982738646, 0.5941901901726122], [0.6504208722718962, 0.34957912772810507], [0.46498923656307056, 0.53501076343693], [0.3509649288560738, 0.6490350711439269], [0.5457045463637652, 0.45429545363623447], [0.3574075214760027, 0.6425924785239968], [0.35678741216605625, 0.6432125878339432], [0.6856261647669838, 0.31437383523301654], [0.3342925226489608, 0.6657074773510384], [0.6500230218602652, 0.3499769781397355], [0.6563224190794731, 0.34367758092052747], [0.6261735344726714, 0.37382646552732895], [0.448025167322142, 0.5519748326778589], [0.619735094876913, 0.3802649051230885], [0.21572390939779856, 0.7842760906022015], [0.6521205962808341, 0.34787940371916565], [0.6435980127814223, 0.3564019872185782], [0.6686721218950982, 0.33132787810490216], [0.254893598223059, 0.7451064017769411], [0.27860683806071534, 0.7213931619392845], [0.2761693297561661, 0.7238306702438347], [0.5661383977058534, 0.43386160229414705], [0.23449882417511872, 0.76550117582488], [0.5024103176020571, 0.497589682397943], [0.2684460717912953, 0.7315539282087049], [0.27916414765954917, 0.7208358523404518], [0.5547933699432105, 0.44520663005678807], [0.6703630348278339, 0.32963696517216584], [0.4138811395522561, 0.5861188604477435], [0.22293800265589955, 0.7770619973441003], [0.23348868718715624, 0.7665113128128439], [0.48228365001166235, 0.5177163499883375], [0.5024928008391243, 0.49750719916087527], [0.2736569794628938, 0.7263430205371065], [0.71901813505849, 0.28098186494151167], [0.6579333019242082, 0.3420666980757919], [0.5853259726778692, 0.4146740273221302], [0.5789003502962573, 0.421099649703743], [0.2318984884263754, 0.7681015115736244], [0.5191308462534433, 0.4808691537465576], [0.2202004914489, 0.779799508551101], [0.3507260656553669, 0.6492739343446332], [0.46076607647896506, 0.5392339235210358], [0.7287593585568629, 0.27124064144313775], [0.44478556645303746, 0.5552144335469631], [0.5922928314336505, 0.40770716856634986], [0.4292178724053626, 0.5707821275946383], [0.4750266327959667, 0.5249733672040332], [0.4392427795341927, 0.560757220465807], [0.2661045246529589, 0.7338954753470408], [0.24939068434381087, 0.7506093156561886], [0.729756572347002, 0.2702434276529989], [0.19673635718580865, 0.8032636428141918], [0.2281085264562885, 0.7718914735437127], [0.48907852911579663, 0.5109214708842048], [0.41836832566487486, 0.5816316743351259], [0.3734355003127921, 0.6265644996872086], [0.6369330522836963, 0.3630669477163044], [0.5887465220604083, 0.4112534779395927], [0.1810128461727937, 0.8189871538272079], [0.4688227270270339, 0.5311772729729655], [0.7292879237806044, 0.27071207621939525], [0.45688602425376135, 0.5431139757462388], [0.5868307751604077, 0.4131692248395933], [0.5271068756170392, 0.47289312438296094], [0.26500182376614956, 0.7349981762338503], [0.34123501564052144, 0.6587649843594787], [0.35333904363244206, 0.6466609563675586], [0.4661349634900059, 0.5338650365099943], [0.5446425425234278, 0.4553574574765728], [0.3234670343909778, 0.6765329656090227], [0.461358387486321, 0.5386416125136779], [0.5085771966974036, 0.4914228033025976], [0.5917137942765064, 0.4082862057234942], [0.6298044646950551, 0.3701955353049456], [0.4214253774224442, 0.5785746225775564], [0.1930993764905121, 0.8069006235094888], [0.24027345770086422, 0.7597265422991357], [0.26810852645628847, 0.7318914735437125], [0.4542235165123449, 0.5457764834876556], [0.5592687397423562, 0.4407312602576439], [0.5669014621322243, 0.4330985378677752], [0.5634170840681176, 0.43658291593188336], [0.5984640905174501, 0.4015359094825496], [0.7136528965097647, 0.2863471034902355], [0.6102508974119291, 0.3897491025880709], [0.41621242121751834, 0.5837875787824811], [0.4689608278710375, 0.5310391721289623], [0.23916414765954916, 0.7608358523404518], [0.6259512576781521, 0.374048742321849], [0.7401612599383092, 0.2598387400616902], [0.5529102686003569, 0.44708973139964275], [0.3805446566449396, 0.6194553433550599], [0.2431098726182288, 0.7568901273817719], [0.2278418094153717, 0.7721581905846276], [0.42683611215469125, 0.5731638878453091], [0.20105936630681936, 0.7989406336931805], [0.4774416484028591, 0.5225583515971418], [0.6403622972030957, 0.3596377027969041], [0.34946874074474477, 0.6505312592552559], [0.6018224632861299, 0.39817753671387], [0.5724974809928826, 0.42750251900711844], [0.43444713904255067, 0.5655528609574497], [0.4385522247602011, 0.561447775239798], [0.4500078104555539, 0.5499921895444455], [0.2572175158813292, 0.7427824841186703], [0.33385131760580383, 0.6661486823941954], [0.5938693180892815, 0.40613068191071966], [0.4086833231747932, 0.5913166768252078], [0.6370122693508885, 0.3629877306491115], [0.5632241813867497, 0.43677581861325143], [0.3612058926284346, 0.6387941073715666], [0.3945448110443323, 0.6054551889556674], [0.4849703914132098, 0.5150296085867909], [0.6663796709134145, 0.3336203290865855], [0.3863596245643065, 0.6136403754356923], [0.6630068396931977, 0.33699316030680193], [0.3259020658976313, 0.6740979341023688], [0.2417587818549452, 0.7582412181450536], [0.4570459554546524, 0.5429540445453476], [0.2823671896401433, 0.7176328103598565], [0.34483587779431646, 0.6551641222056837], [0.7489754727495334, 0.25102452725046703], [0.7151675792536063, 0.28483242074639475], [0.6470983165825785, 0.3529016834174215], [0.44316408379944267, 0.5568359162005577], [0.5771673193650643, 0.42283268063493534], [0.5148292595587748, 0.4851707404412259], [0.4203195631764315, 0.5796804368235688], [0.5535367265095614, 0.4464632734904378], [0.4876478583171097, 0.5123521416828898], [0.4285203438748358, 0.5714796561251647], [0.3419606805044199, 0.6580393194955788], [0.3971669055372727, 0.6028330944627273], [0.2585498987823292, 0.7414501012176703], [0.4887854176327629, 0.5112145823672382], [0.6951750114578561, 0.30482498854214424], [0.4022350819214337, 0.5977649180785668], [0.5635662869943422, 0.43643371300565703], [0.46451257837927035, 0.5354874216207305], [0.5831828508634931, 0.4168171491365069], [0.20380389645846528, 0.7961961035415343], [0.6152733504242913, 0.384726649575709], [0.35082361845504445, 0.6491763815449562], [0.5684306230386477, 0.4315693769613524], [0.6807327949627847, 0.31926720503721434], [0.37459247091669756, 0.6254075290833023], [0.6797558349194119, 0.3202441650805884], [0.38298781688847794, 0.6170121831115235], [0.6258687303458796, 0.3741312696541196], [0.546575304420367, 0.45342469557963366], [0.392717253916754, 0.607282746083246], [0.47848124056135893, 0.5215187594386419], [0.5435487280741396, 0.4564512719258601], [0.5906369311980948, 0.409363068801906], [0.2038653188592045, 0.7961346811407946], [0.3395075364849147, 0.660492463515085], [0.4571563082647536, 0.5428436917352454], [0.489877731390122, 0.5101222686098784], [0.40360863092212634, 0.5963913690778728], [0.34798555472979703, 0.6520144452702026], [0.20521656544899589, 0.7947834345510036], [0.33910976064923015, 0.6608902393507705], [0.2654821303144411, 0.7345178696855583], [0.45117924504593704, 0.5488207549540637], [0.6675104158957185, 0.3324895841042814], [0.20090304788096144, 0.7990969521190388], [0.5188953605405657, 0.48110463945943444], [0.5288060829181987, 0.47119391708180114], [0.29695970222189527, 0.7030402977781051], [0.21167954396894112, 0.7883204560310595], [0.5809497227861617, 0.419050277213839], [0.36817867006795757, 0.6318213299320413], [0.3164673861826067, 0.6835326138173924], [0.5592732394668097, 0.44072676053319065], [0.6745542959671157, 0.32544570403288464], [0.17719865219253783, 0.8228013478074612], [0.29506277191921565, 0.7049372280807839], [0.5256676158502697, 0.4743323841497312], [0.29844103389904647, 0.7015589661009539], [0.37964642368383533, 0.6203535763161645], [0.22228269125363248, 0.7777173087463678], [0.3705269484328877, 0.6294730515671122], [0.49824868327631067, 0.50175131672369], [0.40862250886574913, 0.5913774911342506], [0.20915983326270296, 0.7908401667372973], [0.5808431424873284, 0.4191568575126709], [0.7491062433506442, 0.25089375664935576], [0.5236785300846276, 0.476321469915372], [0.12885800018180718, 0.8711419998181923], [0.7257978232766253, 0.274202176723376], [0.5221560603603672, 0.4778439396396321], [0.6078018424899461, 0.392198157510055], [0.5955092515838497, 0.4044907484161506], [0.5736245414914307, 0.4263754585085691], [0.3153850106690275, 0.6846149893309733], [0.45464924723942496, 0.545350752760575], [0.6054114031506276, 0.3945885968493721], [0.29196936118315514, 0.708030638816845], [0.6423033911104772, 0.3576966088895235], [0.5519793558607116, 0.4480206441392878], [0.6559527290786228, 0.3440472709213776], [0.2527129807498204, 0.7472870192501805], [0.5597013901053406, 0.4402986098946587], [0.4186889759613151, 0.5813110240386855], [0.7508464018197007, 0.24915359818029914], [0.2789479329869628, 0.7210520670130374], [0.3437067272120091, 0.6562932727879918], [0.4732231339957688, 0.526776866004231], [0.7312778157286908, 0.2687221842713085], [0.24780389846706952, 0.752196101532931], [0.16765553789079535, 0.8323444621092041], [0.382965897989726, 0.6170341020102733], [0.3670965651814209, 0.6329034348185795], [0.5144705651337361, 0.48552943486626443], [0.3796800653750282, 0.6203199346249725], [0.25880527277511134, 0.741194727224889], [0.7039493992509601, 0.2960506007490401], [0.4930295510865498, 0.5069704489134502], [0.42139939858550046, 0.5786006014144999], [0.4185558229818149, 0.5814441770181852], [0.6225945462122386, 0.37740545378776086], [0.3690884958156463, 0.6309115041843536], [0.596900482965572, 0.4030995170344277], [0.6775440229223076, 0.32245597707769286], [0.7436282415706195, 0.2563717584293817], [0.4523033040156268, 0.5476966959843725], [0.2425998635396262, 0.7574001364603729], [0.3296976025225743, 0.6703023974774251], [0.51375551451984, 0.4862444854801593], [0.19053198552587117, 0.8094680144741279], [0.4721813131950367, 0.5278186868049637], [0.3930737576521383, 0.6069262423478624], [0.41876233504781163, 0.5812376649521879], [0.35897985558444834, 0.6410201444155521], [0.6546330300230369, 0.34536696997696426], [0.7073424556785795, 0.29265754432142166], [0.31208766424076745, 0.6879123357592313], [0.634755429358105, 0.36524457064189497], [0.5275324027984608, 0.47246759720153986], [0.7132362603844247, 0.2867637396155755], [0.3661470394135334, 0.6338529605864655], [0.4791268455229416, 0.5208731544770581], [0.574560126041081, 0.42543987395891975], [0.25719865219253785, 0.7428013478074612], [0.3878567253033864, 0.6121432746966136], [0.612325467027959, 0.3876745329720411], [0.4004408942172878, 0.5995591057827122], [0.5727743131040791, 0.42722568689592216], [0.3976183978466346, 0.6023816021533646], [0.3834675390893923, 0.6165324609106079], [0.5403049779027693, 0.45969502209723073], [0.6433510117370569, 0.3566489882629427], [0.3122330937120366, 0.6877669062879639], [0.4916531787156642, 0.5083468212843363], [0.6144955829352619, 0.38550441706473837], [0.5484271100107847, 0.4515728899892148], [0.566954570399993, 0.43304542960000814], [0.2900078104555538, 0.7099921895444455], [0.4610243967235698, 0.538975603276431], [0.6182687744062074, 0.3817312255937931], [0.31841668054841193, 0.6815833194515887], [0.7205302889808772, 0.27946971101912393], [0.5432381161259611, 0.4567618838740381], [0.6198286939499839, 0.38017130605001725], [0.28226928650959066, 0.7177307134904092], [0.5744987575524095, 0.42550124244759063], [0.5430309358559076, 0.4569690641440919], [0.4952565632423522, 0.5047434367576479], [0.5437502884555043, 0.4562497115444946], [0.3329390203294858, 0.6670609796705148], [0.5722073276820758, 0.42779267231792406], [0.47086922414847737, 0.5291307758515233], [0.6104806969773136, 0.389519303022687], [0.558774788289576, 0.44122521171042356], [0.6429515435506411, 0.35704845644935845], [0.4375440229223077, 0.5624559770776929], [0.4412930862996457, 0.5587069137003543], [0.48319674762438314, 0.5168032523756177], [0.6197019279890085, 0.3802980720109918], [0.5483973277877987, 0.45160267221220146], [0.1976395095683871, 0.8023604904316116], [0.5468679545086699, 0.453132045491331], [0.4323727517892537, 0.5676272482107466], [0.4023671896401433, 0.5976328103598566], [0.43094274711262126, 0.5690572528873777], [0.5053861512996312, 0.4946138487003691], [0.6196650029317108, 0.3803349970682894], [0.6105222043626832, 0.38947779563731627], [0.36654486726911606, 0.633455132730884], [0.25910877614746375, 0.740891223852537], [0.6645639313453776, 0.33543606865462194], [0.5258357738040813, 0.4741642261959185], [0.29670373207832484, 0.7032962679216743], [0.7263566171867633, 0.2736433828132367], [0.6614792953297599, 0.33852070467023976], [0.3822265202342837, 0.6177734797657168], [0.39304693796164686, 0.6069530620383538], [0.400957083085147, 0.5990429169148528], [0.26959048430030663, 0.7304095156996928], [0.5029604600395888, 0.4970395399604128], [0.40032274283206887, 0.5996772571679306], [0.6498298953670776, 0.3501701046329231], [0.22530892706164518, 0.7746910729383536], [0.5468749791704682, 0.4531250208295314], [0.43245977128665686, 0.567540228713343], [0.3370399949420658, 0.6629600050579346], [0.1864019684920907, 0.8135980315079081], [0.2141051397458858, 0.7858948602541148], [0.374463847065932, 0.6255361529340678], [0.20538076885766227, 0.7946192311423377], [0.4123871220619872, 0.5876128779380128], [0.6506815110870178, 0.34931848891298223], [0.6159351738403717, 0.38406482615962945], [0.3240040402979252, 0.6759959597020746], [0.714309882313254, 0.28569011768674635], [0.6944898651737164, 0.3055101348262832], [0.44424656240095894, 0.5557534375990414], [0.44616884521538275, 0.5538311547846179], [0.27973530182542405, 0.7202646981745747], [0.46753952206404586, 0.5324604779359533], [0.5412738380639536, 0.45872616193604615], [0.15102147824424833, 0.8489785217557508], [0.43670815057824447, 0.5632918494217543], [0.5200481463640376, 0.479951853635963], [0.5149650345789085, 0.48503496542109265], [0.6423326884778596, 0.3576673115221404], [0.3459930111861024, 0.6540069888138983], [0.3955464290140309, 0.6044535709859681], [0.36044258242281335, 0.6395574175771854], [0.21421159922452804, 0.7857884007754716], [0.669384085759585, 0.3306159142404152], [0.2660477855383505, 0.733952214461649], [0.3645155478215393, 0.6354844521784606], [0.3856018875894017, 0.6143981124105988], [0.4026530920766099, 0.5973469079233902], [0.5869771427106015, 0.41302285728939747], [0.27551791691049693, 0.7244820830895036], [0.4187269296226418, 0.5812730703773583], [0.6567501638386394, 0.34324983616136173], [0.36907852911579664, 0.6309214708842048], [0.5822265202342838, 0.41777347976571677], [0.5158269372421332, 0.48417306275786537], [0.18753610582202698, 0.8124638941779726], [0.5156144825918638, 0.4843855174081366], [0.33599986147198124, 0.6640001385280174], [0.49339353394732505, 0.506606466052674], [0.5826460239787058, 0.4173539760212931], [0.3191388131407828, 0.6808611868592179], [0.6502595775400095, 0.34974042245998993], [0.47318184851979417, 0.5268181514802055], [0.1864019684920907, 0.8135980315079081], [0.25575851811175454, 0.7442414818882467], [0.2696406419494452, 0.7303593580505551], [0.35273152648630834, 0.6472684735136921], [0.638995742166833, 0.3610042578331675], [0.5174695323328727, 0.48253046766712704], [0.2921081216229095, 0.7078918783770902], [0.4865693719799818, 0.5134306280200175], [0.49042087227189607, 0.5095791277281051], [0.25605285487125307, 0.7439471451287462], [0.7491062433506442, 0.25089375664935576], [0.5211692219535131, 0.47883077804648627], [0.7317974238507835, 0.2682025761492162], [0.7452503673214947, 0.25474963267850603], [0.21981421741730392, 0.7801857825826953], [0.6007060526789816, 0.3992939473210183], [0.5170284127420736, 0.4829715872579261], [0.6859416599388368, 0.3140583400611643], [0.3585332935031214, 0.6414667064968799], [0.6404786156578215, 0.3595213843421783], [0.3330977819225314, 0.6669022180774687], [0.7026998706868831, 0.2973001293131182], [0.7230333860251962, 0.2769666139748042], [0.5300487440486648, 0.4699512559513361], [0.22124567427239625, 0.778754325727603], [0.25774965142189693, 0.7422503485781025], [0.269285389524421, 0.730714610475579], [0.40768190359368517, 0.5923180964063146], [0.28953621110691785, 0.7104637888930818], [0.4538662345849349, 0.5461337654150646], [0.6081530145700733, 0.3918469854299272], [0.2713152339916377, 0.7286847660083623], [0.4649084613481744, 0.5350915386518255], [0.49431211051781376, 0.5056878894821855], [0.4999397088571822, 0.5000602911428181], [0.29483017120261257, 0.7051698287973883], [0.7436282415706195, 0.2563717584293817], [0.4205639587239524, 0.579436041276047], [0.15844257282917676, 0.8415574271708226], [0.3930697624846255, 0.6069302375153748], [0.5019186258215202, 0.49808137417847936], [0.631212249182169, 0.36878775081783144], [0.6339735224327546, 0.36602647756724604], [0.45425094293041685, 0.5457490570695833]]}\n"
     ]
    }
   ],
   "source": [
    "# Get the job status, error affecting the job (if any), and result\n",
    "result = job.result()\n",
    "status = job.status()\n",
    "error_message = job.error_message()\n",
    "end = time.time()\n",
    "\n",
    "print(\"Job status: \", status)\n",
    "print(\"Error message: \", error_message)\n",
    "print(\"Action status: \", result[\"status\"])\n",
    "print(\"Action message: \", result[\"message\"])\n",
    "print(\"Action result: \", result[\"data\"])"
   ]
  },
  {
   "cell_type": "code",
   "execution_count": 44,
   "id": "fa057161-7912-4159-8465-f654f1a57925",
   "metadata": {},
   "outputs": [
    {
     "name": "stdout",
     "output_type": "stream",
     "text": [
      "Time taken (s): 402.3746497631073\n",
      "Accuracy: 0.616\n",
      "Precision: 1.0\n",
      "Recall: 0.616\n",
      "F1: 0.7623762376237624\n"
     ]
    },
    {
     "data": {
      "text/plain": [
       "(0.616, np.float64(1.0), np.float64(0.616), np.float64(0.7623762376237624))"
      ]
     },
     "execution_count": 44,
     "metadata": {},
     "output_type": "execute_result"
    }
   ],
   "source": [
    "predictions = result[\"data\"][\"predictions\"]\n",
    "evaluate_predictions(predictions, y_test, start, end)"
   ]
  },
  {
   "cell_type": "markdown",
   "id": "4ce0ffe5-5a6e-4122-95e1-2e8da7711671",
   "metadata": {},
   "source": [
    "# Part 3: Quantum Classifier on Real Quantum Hardware\n",
    "\n",
    "### Execute the Job\n",
    "\n",
    "Next, let's use real quantum hardware to perform the evaluation. This approach offers multiple advantages, the most significant being better scalability as the number of learners increases. Unlike the simulator mode, which uses classical resources, real quantum optimization can efficiently handle larger ensembles and more complex search spaces.\n",
    "\n",
    "To enable quantum optimization, set the `simulator` flag to `False` in the `optimizer_options`. Also include a `classical_optimizer_options` parameter to control the convergence behavior. While quantum algorithms like QAOA generally benefit from `maxiter` values of 60 or more, for demonstration purposes we limit it to `10` to ensure shorter runtimes—approximately 10 minutes is expected.\n",
    "\n",
    "This section showcases how hybrid quantum-classical workflows can be executed at scale using Qiskit Serverless, bridging the gap between research and production-ready quantum applications.\n"
   ]
  },
  {
   "cell_type": "markdown",
   "id": "fe9b2fc7-7fb5-4bd0-8077-f08ed4ccd328",
   "metadata": {},
   "source": [
    "<div class=\"alert alert-block alert-success\">\n",
    "  <strong>Exercise 3:</strong>  \n",
    "  Fill in the <code>#TODO</code> sections to specify the optimizer options, for a job that runs the <code>QuantumEnhancedEnsembleClassifier</code> on real quantum hardware. Limit the number of iterations in the optimization to <code>10</code> to ensure it finishes in a reasonable amount of time (expected: ~10 minutes).\n",
    "</div>"
   ]
  },
  {
   "cell_type": "markdown",
   "id": "a36e0b91-3778-4800-ad46-5775ea0f9c57",
   "metadata": {},
   "source": [
    "<div class=\"alert alert-block alert-info\">\n",
    "  <strong>💡 Tip:</strong> Use a similar configuration as the one used in <em>Part 1: Simulated Quantum Classifier</em>. Once you have passed the exercise, feel free to experiment with different parameters such as <code>regularization</code>, <code>num_learners</code>, or <code>num_solutions</code> to explore how they influence performance and optimization time. Refer to the documentation \n",
    "  <a href=\"https://docs.quantum.ibm.com/guides/multiverse-computing-singularity\" target=\"_blank\">here</a> for examples.\n",
    "</div>"
   ]
  },
  {
   "cell_type": "code",
   "execution_count": 53,
   "id": "52684725-3c08-41d5-9e13-f723902b5fdf",
   "metadata": {},
   "outputs": [],
   "source": [
    "optimizer_options_ex3 = {\n",
    "    ### TODO: Write your code below here ###\n",
    "    \"simulator\": False,\n",
    "    \"num_learners\": 10,\n",
    "    \"num_solutions\": 100000,\n",
    "    \"classical_optimizer_options\": {\n",
    "        \"maxiter\": 10,\n",
    "    }\n",
    "    ### Don't change any code past this line ###\n",
    "}"
   ]
  },
  {
   "cell_type": "code",
   "execution_count": 54,
   "id": "85e0ae79-cf8c-4af2-a301-acf172130b81",
   "metadata": {},
   "outputs": [
    {
     "name": "stdout",
     "output_type": "stream",
     "text": [
      "✅ Exercise 3 solution is correct!\n"
     ]
    }
   ],
   "source": [
    "grade_exercise_3(optimizer_options_ex3)"
   ]
  },
  {
   "cell_type": "markdown",
   "id": "991ac57a",
   "metadata": {},
   "source": [
    "<div class=\"alert alert-block alert-warning\">\n",
    "\n",
    "**⚠️ Warning: QPU Time Consumption**\n",
    "\n",
    "Running the cell below will submit a job to a QPU and consume real QPU time. Please ensure you intend to proceed.\n",
    "\n",
    "**Estimated QPU runtime:** 2 minutes 47 seconds (based on tests on `ibm_brisbane`)\n",
    "\n",
    "</div>"
   ]
  },
  {
   "cell_type": "code",
   "execution_count": 55,
   "id": "d05c8e89-bf02-425b-93c9-dfca650aceb8",
   "metadata": {},
   "outputs": [
    {
     "name": "stdout",
     "output_type": "stream",
     "text": [
      "-- Creating, fitting, and predicting --\n"
     ]
    }
   ],
   "source": [
    "# Create, fit, and predict\n",
    "print(\"-- Creating, fitting, and predicting --\")\n",
    "start = time.time()\n",
    "job = singularity.run(\n",
    "    action=\"create_fit_predict\",\n",
    "    name=\"classifier_for_grid_stability\",\n",
    "    quantum_classifier=\"QuantumEnhancedEnsembleClassifier\",\n",
    "    num_learners=75,\n",
    "    regularization=15,\n",
    "    optimizer_options=optimizer_options_ex3,\n",
    "    backend_name=None,\n",
    "    instance=your_crn,\n",
    "    random_state=RANDOM_STATE,\n",
    "    X_train=\"grid_stability_X_train.npy\",\n",
    "    y_train=\"grid_stability_y_train.npy\",\n",
    "    X_test=\"grid_stability_X_test.npy\",\n",
    "    fit_params={\n",
    "        \"validation_data\": (X_val, y_val),\n",
    "    },\n",
    "    options={\n",
    "        \"save\": False,\n",
    "    }\n",
    ")"
   ]
  },
  {
   "cell_type": "markdown",
   "id": "0eae92b1-ae88-46f9-a920-53dc21a38966",
   "metadata": {},
   "source": [
    "### Monitor Job Execution\n",
    "\n",
    "Now that the job has been submitted, we can print `job` to save the JobID, and monitor the status of the execution using `job.status()`. The cell can be re-ran again to ping for the latest status. If the job fails, we can obtain information about the reason it did so using `job.error_message()`. "
   ]
  },
  {
   "cell_type": "code",
   "execution_count": 56,
   "id": "3cecdfaa-7f92-4f87-8785-bfda37d5cdf7",
   "metadata": {},
   "outputs": [
    {
     "data": {
      "text/plain": [
       "<Job | 4b10bc6d-be8d-43cc-afbb-d1101294afd7>"
      ]
     },
     "execution_count": 56,
     "metadata": {},
     "output_type": "execute_result"
    }
   ],
   "source": [
    "job"
   ]
  },
  {
   "cell_type": "code",
   "execution_count": 110,
   "id": "f54c55a5-47a1-475e-8aad-5cbf43221d90",
   "metadata": {},
   "outputs": [
    {
     "data": {
      "text/plain": [
       "'RUNNING: EXECUTING_QPU'"
      ]
     },
     "execution_count": 110,
     "metadata": {},
     "output_type": "execute_result"
    }
   ],
   "source": [
    "job.status()"
   ]
  },
  {
   "cell_type": "code",
   "execution_count": 81,
   "id": "ab06aca1-a44a-4ff5-89ff-cfd4c10eda27",
   "metadata": {},
   "outputs": [
    {
     "name": "stdout",
     "output_type": "stream",
     "text": [
      "\n"
     ]
    }
   ],
   "source": [
    "error_message = job.error_message()\n",
    "print(error_message)"
   ]
  },
  {
   "cell_type": "markdown",
   "id": "f473f36b-9492-4408-972a-c36579ba70c1",
   "metadata": {},
   "source": [
    "### Retrieve and Analyze the Results\n",
    "\n",
    "Once the job has been submitted and completed, we can retrieve the results using `job.result()`. We can then evaluate the results using our previously defined helper function and ensure it matches our expectation."
   ]
  },
  {
   "cell_type": "code",
   "execution_count": null,
   "id": "527bd350-d77f-4965-9608-910597e639a3",
   "metadata": {
    "scrolled": true
   },
   "outputs": [],
   "source": [
    "# Get the job status, logs, and result\n",
    "result = job.result()\n",
    "status = job.status()\n",
    "error_message = job.error_message()\n",
    "end = time.time()\n",
    "\n",
    "print(\"Job status: \", status)\n",
    "print(\"Error message: \", error_message)\n",
    "print(\"Action status: \", result[\"status\"])\n",
    "print(\"Action message: \", result[\"message\"])\n",
    "print(\"Action result: \", result[\"data\"])"
   ]
  },
  {
   "cell_type": "code",
   "execution_count": null,
   "id": "575e80bf-2582-4440-b106-244e9a8b1d3d",
   "metadata": {},
   "outputs": [],
   "source": [
    "predictions = result[\"data\"][\"predictions\"]\n",
    "evaluate_predictions(predictions, y_test, start, end)"
   ]
  },
  {
   "cell_type": "markdown",
   "id": "8edfc660-a359-4bf3-be15-34d8b953d169",
   "metadata": {},
   "source": [
    "### Visualization: Classical vs Quantum F1 Score\n",
    "\n",
    "To summarize our experiments, let’s compare the F1 scores of the classical and quantum classifiers. F1 score is a balanced metric that considers both precision and recall, making it especially useful in imbalanced classification tasks like this one. This visualization helps highlight the performance gains introduced by quantum optimization."
   ]
  },
  {
   "cell_type": "code",
   "execution_count": null,
   "id": "73385e5e-c705-4b9d-9e5e-fb7b2d529401",
   "metadata": {},
   "outputs": [],
   "source": [
    "# Collect F1 scores from both experiments\n",
    "labels = [\"AdaBoost (Classical)\", \"Quantum Classifier\"]\n",
    "f1_scores = []\n",
    "\n",
    "# Recalculate F1 for AdaBoost\n",
    "_, _, _, f1_ada = evaluate_predictions(classifier.predict(X_test), y_test)\n",
    "f1_scores.append(f1_ada)\n",
    "\n",
    "# Use F1 score from the quantum job\n",
    "_, _, _, f1_quantum = evaluate_predictions(predictions, y_test)\n",
    "f1_scores.append(f1_quantum)\n",
    "\n",
    "# Create the bar chart\n",
    "plt.figure(figsize=(8, 5))\n",
    "plt.bar(labels, f1_scores, color=[\"#808080\", \"#8A2BE2\"])\n",
    "plt.ylabel(\"F1 Score\")\n",
    "plt.title(\"F1 Score Comparison: Classical vs Quantum Classifier\")\n",
    "plt.ylim(0, 1.0)\n",
    "for i, f1 in enumerate(f1_scores):\n",
    "    plt.text(i, f1 + 0.01, f\"{f1:.3f}\", ha='center', va='bottom', fontweight='bold')\n",
    "plt.grid(axis=\"y\", linestyle=\"--\", alpha=0.7)\n",
    "plt.tight_layout()\n",
    "plt.show()"
   ]
  },
  {
   "cell_type": "markdown",
   "id": "2b0f0e89-0a1e-4dab-8086-d007da0f5038",
   "metadata": {},
   "source": [
    "# Clean up Shared Directory\n",
    "\n",
    "After completing all remote executions, it's important to clean up any temporary files that were uploaded to the Qiskit Serverless environment. This helps maintain a tidy workspace and avoids unnecessary storage usage in shared or limited environments.\n",
    "\n",
    "In this step, we remove the uploaded `.tar` archives corresponding to the training and test datasets using the `client.file_delete()` method. These files are no longer needed after the jobs have completed and results have been retrieved.\n",
    "\n",
    "Cleaning up is a good practice, especially when working with multiple users or when automating workflows in production."
   ]
  },
  {
   "cell_type": "code",
   "execution_count": null,
   "id": "f28012db-3530-4e01-9975-39504f15e5b6",
   "metadata": {},
   "outputs": [],
   "source": [
    "# Clean up the shared data directory\n",
    "file_names = [\n",
    "    \"grid_stability_X_train.npy\",\n",
    "    \"grid_stability_y_train.npy\",\n",
    "    \"grid_stability_X_test.npy\",\n",
    "]\n",
    "\n",
    "for name in file_names:\n",
    "    tar_name = f\"{name}.tar\"\n",
    "    client.file_delete(tar_name, singularity)\n",
    "    if os.path.exists(name):\n",
    "        os.remove(name)\n",
    "    if os.path.exists(tar_name):\n",
    "        os.remove(tar_name)"
   ]
  },
  {
   "cell_type": "markdown",
   "id": "bc04cbda-fd17-4463-85b5-18275a666cc4",
   "metadata": {},
   "source": [
    "# Scaling Benefits and Enhancements\n",
    "\n",
    "The true power of the `QuantumEnhancedEnsembleClassifier` comes into play in scenarios that involve **large ensemble sizes** or **high-dimensional optimization**. While in this lab we limited the number of learners and iterations (`maxiter = 10`) to ensure the job completes in under 30 minutes, it's important to note that quantum optimization algorithms like QAOA typically require 60 or more iterations to converge effectively. This setting provides only a glimpse of the potential performance gains.\n",
    "\n",
    "In classical ensemble optimization, the training time scales poorly—often exponentially—as the number of learners increases. This makes it impractical for large ensemble configurations due to the combinatorial nature of selecting optimal learners. On the other hand, quantum optimization is expected to scale much more favorably as you increase the number of learners or the problem size (e.g., qubits). In practice, this means quantum methods can remain efficient even when classical methods become infeasible."
   ]
  },
  {
   "cell_type": "markdown",
   "id": "ee0bd48b",
   "metadata": {},
   "source": [
    "# Feedback Survey\n",
    "\n",
    "We’d love to hear about your experience using the Qiskit Function! Your feedback is valuable and will help Qiskit Function providers enhance their tools and services. Please take a moment to share your thoughts by completing our short 2 min [feedback survey](https://airtable.com/app6VujlNUHZuOnAF/pagpw6TgP9UEt4TAT/form)."
   ]
  },
  {
   "cell_type": "markdown",
   "id": "5907411a-bd3e-4dca-b81b-4ab1d666a6ec",
   "metadata": {},
   "source": [
    "# References\n",
    "\n",
    "1. Qiskit Function:\n",
    "   - [Qiskit Function Tutorial](https://docs.quantum.ibm.com/guides/functions)\n",
    "   - [Qiskit Serverless Documentation](https://qiskit.github.io/qiskit-serverless/index.html)\n",
    "\n",
    "2. Papers:\n",
    "   - [Neven et al. 2008: Training a Binary Classifier with the Quantum Adiabatic Algorithm](https://arxiv.org/abs/0811.0416)\n",
    "   - [Neven et al. 2012: QBoost: Large Scale Classifier Training with Adiabatic Quantum Optimization](http://proceedings.mlr.press/v25/neven12/neven12.pdf)\n"
   ]
  },
  {
   "cell_type": "markdown",
   "id": "74708eab-9f0d-4c41-900e-726c2ce399a6",
   "metadata": {},
   "source": [
    "# Additional information\n",
    "\n",
    "**Created by:** Sepehr Hosseini, Pablo Lauret\n",
    "\n",
    "**Advised by:** Junye Huang\n",
    "\n",
    "**Version:** 1.1.0"
   ]
  },
  {
   "cell_type": "markdown",
   "id": "04c58c5f-e471-4fc8-8318-1c60f46b05ee",
   "metadata": {},
   "source": [
    "# Qiskit packages versions"
   ]
  },
  {
   "cell_type": "code",
   "execution_count": null,
   "id": "1de25001-bad2-4b1c-a0a9-8da0cfced98d",
   "metadata": {},
   "outputs": [],
   "source": [
    "import qiskit\n",
    "import qiskit_serverless\n",
    "import qiskit_ibm_catalog\n",
    "\n",
    "print(f'Qiskit: {qiskit.__version__}')\n",
    "print(f'Qiskit Serverless: {qiskit_serverless.__version__}')\n",
    "print(f'Qiskit IBM Catalog: {qiskit_ibm_catalog.__version__}')"
   ]
  }
 ],
 "metadata": {
  "kernelspec": {
   "display_name": "Python 3",
   "language": "python",
   "name": "python3"
  },
  "language_info": {
   "codemirror_mode": {
    "name": "ipython",
    "version": 3
   },
   "file_extension": ".py",
   "mimetype": "text/x-python",
   "name": "python",
   "nbconvert_exporter": "python",
   "pygments_lexer": "ipython3",
   "version": "3.10.12"
  }
 },
 "nbformat": 4,
 "nbformat_minor": 5
}
